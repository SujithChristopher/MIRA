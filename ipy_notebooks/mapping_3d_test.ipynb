{
 "cells": [
  {
   "cell_type": "code",
   "execution_count": 1,
   "metadata": {},
   "outputs": [],
   "source": [
    "import pickle\n",
    "import cv2\n",
    "import numpy as np\n",
    "from os import listdir\n",
    "import glob\n",
    "import fpstimer\n",
    "from mapper import color_2_world\n",
    "import pykinect2\n",
    "from pykinect2 import PyKinectV2\n",
    "from pykinect2 import PyKinectRuntime\n",
    "from pykinect2.PyKinectV2 import _CameraSpacePoint\n"
   ]
  },
  {
   "cell_type": "code",
   "execution_count": 2,
   "metadata": {},
   "outputs": [],
   "source": [
    "\n",
    "import kinectmapper\n",
    "\n",
    "pth = r\"C:\\Users\\CMC\\Documents\\openposelibs\\pose\\scriptsV7\\src\\depth_to_3d\"\n",
    "\n",
    "lst = listdir(pth)\n",
    "vid_name = lst[0]\n",
    "\n",
    "targetPattern = f\"{pth}\\\\DEPTH*\"\n",
    "dep_lst = glob.glob(targetPattern)\n",
    "\n",
    "targetPattern_param = f\"{pth}\\\\PARAM*\"\n",
    "param_file_name = glob.glob(targetPattern_param)\n",
    "\n",
    "targetPattern_colour = f\"{pth}\\\\COLOUR*\"\n",
    "colour_file_name = glob.glob(targetPattern_colour)\n",
    "\n",
    "prm = open(param_file_name[0], \"rb\")\n",
    "xypos = pickle.load(prm)\n",
    "prm.close()\n",
    "\n",
    "xval = xypos[0]\n",
    "yval = xypos[1]\n",
    "\n",
    "colour_file = open(colour_file_name[0], \"rb\")\n",
    "depth_file = open(dep_lst[0], \"rb\")\n"
   ]
  },
  {
   "cell_type": "code",
   "execution_count": 3,
   "metadata": {},
   "outputs": [],
   "source": [
    "\n",
    "# (432, 368)\n",
    "def map3d(img, depth):\n",
    "    deplist = np.array\n",
    "    h, w, _ = img.shape\n",
    "    for x in range(w):\n",
    "        for y in range(h):\n",
    "            # for the given pixel at w,h, lets check its value against the threshold\n",
    "            pos = x + xval, y + yval\n",
    "            val = kinectmapper.PyKinectMapper().get_camspace_position(depth, pos)\n",
    "            np.append(deplist, val)\n",
    "    dep3D = np.reshape(dep_lst, (432, 368, 3))\n",
    "\n",
    "    return dep3D\n",
    "\n",
    "\n",
    "count = 0"
   ]
  },
  {
   "cell_type": "code",
   "execution_count": 4,
   "metadata": {},
   "outputs": [],
   "source": [
    "\n",
    "new3D = open(f\"{pth}\\\\DEP3D.pickle\", \"wb\")\n",
    "kinect = PyKinectRuntime.PyKinectRuntime(PyKinectV2.FrameSourceTypes_Depth | PyKinectV2.FrameSourceTypes_Color)\n",
    "\n",
    "dep = pickle.load(depth_file)\n",
    "\n",
    "dep1 = kinect._depth_frame_data\n",
    "\n",
    "data = color_2_world(kinect, dep1, _CameraSpacePoint, True)\n"
   ]
  },
  {
   "cell_type": "code",
   "execution_count": 5,
   "metadata": {},
   "outputs": [
    {
     "ename": "NameError",
     "evalue": "name 'points_clicked' is not defined",
     "output_type": "error",
     "traceback": [
      "\u001b[1;31m---------------------------------------------------------------------------\u001b[0m",
      "\u001b[1;31mNameError\u001b[0m                                 Traceback (most recent call last)",
      "\u001b[1;32m<ipython-input-5-048fea976e42>\u001b[0m in \u001b[0;36m<module>\u001b[1;34m\u001b[0m\n\u001b[1;32m----> 1\u001b[1;33m \u001b[0mpos1\u001b[0m \u001b[1;33m=\u001b[0m \u001b[0mpoints_clicked\u001b[0m\u001b[1;33m\u001b[0m\u001b[1;33m\u001b[0m\u001b[0m\n\u001b[0m\u001b[0;32m      2\u001b[0m \u001b[0mprint\u001b[0m\u001b[1;33m(\u001b[0m\u001b[0mpos1\u001b[0m\u001b[1;33m)\u001b[0m\u001b[1;33m\u001b[0m\u001b[1;33m\u001b[0m\u001b[0m\n\u001b[0;32m      3\u001b[0m \u001b[1;33m\u001b[0m\u001b[0m\n\u001b[0;32m      4\u001b[0m \u001b[1;31m#kinect depth points\u001b[0m\u001b[1;33m\u001b[0m\u001b[1;33m\u001b[0m\u001b[1;33m\u001b[0m\u001b[0m\n\u001b[0;32m      5\u001b[0m \u001b[1;33m\u001b[0m\u001b[0m\n",
      "\u001b[1;31mNameError\u001b[0m: name 'points_clicked' is not defined"
     ]
    }
   ],
   "source": [
    "pos1 = points_clicked\n",
    "print(pos1)\n",
    "\n",
    "#kinect depth points\n",
    "\n",
    "oval1 = kinectmapper.PyKinectMapper().get_camspace_position(depthFrame1, pos1[1])\n",
    "# zval1 = kinectmapper.PyKinectMapper().get_camspace_position(depthFrame1, pos1[2])\n",
    "# xval1 = kinectmapper.PyKinectMapper().get_camspace_position(depthFrame1, pos1[3])\n",
    "# \n",
    "# print(f\"orgin value {oval1} \\nz value {zval1} \\nx value {xval1}\")\n",
    "# print(f\"{oval1[0]},{oval1[1]},{oval1[2]}\\n{zval1[0]},{zval1[1]},{zval1[2]}\\n{xval1[0]},{xval1[1]},{xval1[2]}\")\n",
    "print(f\"{oval1[0]},{oval1[1]},{oval1[2]}\")"
   ]
  },
  {
   "cell_type": "code",
   "execution_count": null,
   "metadata": {},
   "outputs": [],
   "source": []
  }
 ],
 "metadata": {
  "kernelspec": {
   "display_name": "Python 3",
   "language": "python",
   "name": "python3"
  },
  "language_info": {
   "codemirror_mode": {
    "name": "ipython",
    "version": 3
   },
   "file_extension": ".py",
   "mimetype": "text/x-python",
   "name": "python",
   "nbconvert_exporter": "python",
   "pygments_lexer": "ipython3",
   "version": "3.7.9"
  }
 },
 "nbformat": 4,
 "nbformat_minor": 4
}
