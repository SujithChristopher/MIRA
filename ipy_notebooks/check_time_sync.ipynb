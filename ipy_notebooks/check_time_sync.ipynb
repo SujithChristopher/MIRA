{
 "cells": [
  {
   "cell_type": "code",
   "execution_count": 3,
   "metadata": {},
   "outputs": [],
   "source": [
    "import cv2\n",
    "import pandas as pd\n",
    "import matplotlib.pyplot as plt\n",
    "import numpy as np\n",
    "from datetime import timedelta\n",
    "import os\n",
    "from tqdm import tqdm\n",
    "import keyboard\n",
    "import msgpack as mp\n",
    "import msgpack_numpy as mpn\n",
    "import base64\n",
    "from datetime import datetime\n"
   ]
  },
  {
   "cell_type": "code",
   "execution_count": 2,
   "metadata": {},
   "outputs": [],
   "source": [
    "# sub = input('subject: ')\n",
    "# arm = input('arm: ')"
   ]
  },
  {
   "cell_type": "code",
   "execution_count": 20,
   "metadata": {},
   "outputs": [
    {
     "name": "stdout",
     "output_type": "stream",
     "text": [
      "Videos for C5: \n",
      "['C5_11032020_125023.avi', 'C5_11032020_170218.avi']\n"
     ]
    }
   ],
   "source": [
    "print(f'Videos for {sub}: ')\n",
    "fldr = 'controls' if sub[0]=='C' else 'patients'\n",
    "vids = [x for x in os.listdir(f'{fldr}/{sub}') if x.find('.avi')!=-1]\n",
    "print(vids)"
   ]
  },
  {
   "cell_type": "code",
   "execution_count": 21,
   "metadata": {},
   "outputs": [],
   "source": [
    "vid = vids[0]\n",
    "frtime = pd.read_csv(f'{fldr}/{sub}/'+vid.split('.')[0]+'_time.csv', parse_dates=[0], index_col=0)\n",
    "frtime.index.name = 'time'\n",
    "imu = pd.read_csv(f'watch raw data/{arm}.csv', parse_dates=['time'], index_col='time')\n",
    "imu = imu.between_time(frtime.index[0].time(), frtime.index[-1].time())\n",
    "frtime = frtime.index"
   ]
  },
  {
   "cell_type": "code",
   "execution_count": 22,
   "metadata": {},
   "outputs": [],
   "source": [
    "%matplotlib qt"
   ]
  },
  {
   "cell_type": "code",
   "execution_count": 23,
   "metadata": {},
   "outputs": [],
   "source": [
    "cap = cv2.VideoCapture(f'{fldr}/{sub}/{vid}')\n",
    "frames = []\n",
    "  \n",
    "while(True):\n",
    "      \n",
    "    # Capture frames in the video\n",
    "    ret, frame = cap.read()\n",
    "    if ret:\n",
    "        frames.append(cv2.cvtColor(frame, cv2.COLOR_BGR2RGB))\n",
    "    else:\n",
    "        break\n",
    "  \n",
    "# release the cap object\n",
    "cap.release()\n"
   ]
  },
  {
   "cell_type": "code",
   "execution_count": 24,
   "metadata": {},
   "outputs": [
    {
     "name": "stderr",
     "output_type": "stream",
     "text": [
      "100%|██████████| 10563/10563 [00:12<00:00, 812.66it/s] \n",
      "100%|██████████| 10563/10563 [00:35<00:00, 300.45it/s]\n"
     ]
    }
   ],
   "source": [
    "imutime = [] \n",
    "for t in tqdm(frtime[:len(frames)-1]):\n",
    "    imutime.append(imu.index[imu.index.get_loc(t, method='nearest')])\n",
    "grps = []\n",
    "for t in tqdm(imutime):\n",
    "    grps.append(imu.between_time((t - timedelta(seconds=2)).time(), (t + timedelta(seconds=1)).time()))"
   ]
  },
  {
   "cell_type": "code",
   "execution_count": 25,
   "metadata": {},
   "outputs": [
    {
     "name": "stdout",
     "output_type": "stream",
     "text": [
      "left\n"
     ]
    }
   ],
   "source": [
    "print(arm)"
   ]
  },
  {
   "cell_type": "code",
   "execution_count": 27,
   "metadata": {},
   "outputs": [],
   "source": [
    "start_at = 3500\n",
    "i=0\n",
    "\n",
    "for frame, t, dat in zip(frames[start_at+1:], imutime[start_at:], grps[start_at:]):\n",
    "    if keyboard.is_pressed('q'):\n",
    "        plt.close()\n",
    "        break\n",
    "    else:\n",
    "        plt.clf()\n",
    "        plt.subplot(121)\n",
    "        plt.title(i)\n",
    "        plt.imshow(frame)\n",
    "        plt.subplot(322)\n",
    "        plt.title(t)\n",
    "        plt.plot(dat.ax)\n",
    "        plt.axvline(t, color='r')\n",
    "        plt.ylim(imu.ax.min(), imu.ay.max())\n",
    "        plt.subplot(324)\n",
    "        plt.plot(dat.ay)\n",
    "        plt.axvline(t, color='r')\n",
    "        plt.ylim(imu.ay.min(), imu.ay.max())\n",
    "        plt.subplot(326)\n",
    "        plt.plot(dat.az)\n",
    "        plt.axvline(t, color='r')\n",
    "        plt.ylim(imu.az.min(), imu.az.max())\n",
    "        i+=1\n",
    "        plt.pause(0.0001)"
   ]
  },
  {
   "cell_type": "code",
   "execution_count": null,
   "metadata": {},
   "outputs": [],
   "source": []
  },
  {
   "cell_type": "code",
   "execution_count": null,
   "metadata": {},
   "outputs": [],
   "source": []
  }
 ],
 "metadata": {
  "interpreter": {
   "hash": "21aa70c5064c1f48e8ac43ab5d6bb00c79294dc9aa9d8b6a3b585e5c48de5820"
  },
  "kernelspec": {
   "display_name": "Python 3.8.3 64-bit ('base': conda)",
   "language": "python",
   "name": "python3"
  },
  "language_info": {
   "codemirror_mode": {
    "name": "ipython",
    "version": 3
   },
   "file_extension": ".py",
   "mimetype": "text/x-python",
   "name": "python",
   "nbconvert_exporter": "python",
   "pygments_lexer": "ipython3",
   "version": "3.7.11"
  },
  "orig_nbformat": 4
 },
 "nbformat": 4,
 "nbformat_minor": 2
}
