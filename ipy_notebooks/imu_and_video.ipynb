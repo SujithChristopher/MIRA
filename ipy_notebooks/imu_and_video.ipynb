{
 "cells": [
  {
   "cell_type": "code",
   "execution_count": 67,
   "metadata": {},
   "outputs": [],
   "source": [
    "import pandas as pd\n",
    "import cv2\n",
    "import numpy as np\n",
    "import matplotlib.pyplot as plt\n",
    "from IPython.display import clear_output, Image, display, HTML\n",
    "import msgpack as mp\n",
    "import msgpack_numpy as mpn\n",
    "import base64\n",
    "from datetime import datetime\n",
    "import os\n"
   ]
  },
  {
   "cell_type": "code",
   "execution_count": 68,
   "metadata": {},
   "outputs": [
    {
     "data": {
      "text/plain": [
       "datetime.datetime(2022, 2, 4, 14, 4, 22, 302062)"
      ]
     },
     "execution_count": 68,
     "metadata": {},
     "output_type": "execute_result"
    }
   ],
   "source": [
    "base_pth = \"C:\\mira\\splitVideos\\SAMXXXXXXXXU010120000000XXXXXXXXX\\Session 04-02-22_14-03-00_359\"\n",
    "_prm = os.listdir(r\"C:\\mira\\splitVideos\\SAMXXXXXXXXU010120000000XXXXXXXXX\\Session 04-02-22_14-03-00_359\")\n",
    "\n",
    "for i in _prm:\n",
    "    if i.startswith(\"PARAMS\"):\n",
    "        _p_fname = i\n",
    "prm_file = base_pth + \"\\\\\" + _p_fname\n",
    "prm_file\n",
    "\n",
    "p = open(prm_file, \"rb\")\n",
    "unpacker = mp.Unpacker(p, object_hook=mpn.decode)\n",
    "prm = []\n",
    "for unpacked in unpacker:\n",
    "    prm.append(unpacked)\n",
    "prm.pop(0)\n",
    "prm.pop(0)\n",
    "\n",
    "\n",
    "video_time = []\n",
    "for i in prm:\n",
    "    video_time.append(i[0])\n",
    "v_start = datetime.strptime(video_time[0], '%Y-%m-%d %H:%M:%S.%f')\n",
    "v_start"
   ]
  },
  {
   "cell_type": "code",
   "execution_count": 69,
   "metadata": {},
   "outputs": [],
   "source": [
    "imu_1 = pd.read_csv(base_pth+\"//1_imu.csv\")\n",
    "imu_2 = pd.read_csv(base_pth+\"//2_imu.csv\")\n"
   ]
  },
  {
   "cell_type": "code",
   "execution_count": 83,
   "metadata": {},
   "outputs": [],
   "source": [
    "def datetime_to_s(df, c_name, sys_t=None, offset=0):\n",
    "    \"\"\"this function changes datetime string to seconds\"\"\"\n",
    "    inf = datetime.strptime(df[c_name][0], '%Y-%m-%d %H:%M:%S.%f')\n",
    "    dif_list = []\n",
    "    for idx, val in enumerate(df[c_name]):\n",
    "        _val = datetime.strptime(val, '%Y-%m-%d %H:%M:%S.%f')\n",
    "        if sys_t:\n",
    "            # diff = (_val - inf) - sys_t\n",
    "            diff = _val - sys_t\n",
    "\n",
    "        else:\n",
    "            diff = _val - inf\n",
    "            \n",
    "        _diff = diff.total_seconds()\n",
    "        # df[\"seconds\"].loc[idx] = _diff\n",
    "        dif_list.append(_diff)\n",
    "    df[\"sys_sec\"] = dif_list\n",
    "    return df"
   ]
  },
  {
   "cell_type": "code",
   "execution_count": 84,
   "metadata": {},
   "outputs": [
    {
     "data": {
      "text/html": [
       "<div>\n",
       "<style scoped>\n",
       "    .dataframe tbody tr th:only-of-type {\n",
       "        vertical-align: middle;\n",
       "    }\n",
       "\n",
       "    .dataframe tbody tr th {\n",
       "        vertical-align: top;\n",
       "    }\n",
       "\n",
       "    .dataframe thead th {\n",
       "        text-align: right;\n",
       "    }\n",
       "</style>\n",
       "<table border=\"1\" class=\"dataframe\">\n",
       "  <thead>\n",
       "    <tr style=\"text-align: right;\">\n",
       "      <th></th>\n",
       "      <th>sys_time</th>\n",
       "      <th>imu_time</th>\n",
       "      <th>ax</th>\n",
       "      <th>ay</th>\n",
       "      <th>az</th>\n",
       "      <th>gx</th>\n",
       "      <th>gy</th>\n",
       "      <th>gz</th>\n",
       "      <th>sys_sec</th>\n",
       "    </tr>\n",
       "  </thead>\n",
       "  <tbody>\n",
       "    <tr>\n",
       "      <th>0</th>\n",
       "      <td>2022-02-04 14:04:38.745643</td>\n",
       "      <td>44.577430</td>\n",
       "      <td>0.006592</td>\n",
       "      <td>-0.493286</td>\n",
       "      <td>0.888306</td>\n",
       "      <td>3.540039</td>\n",
       "      <td>-3.234863</td>\n",
       "      <td>-1.831055</td>\n",
       "      <td>16.443581</td>\n",
       "    </tr>\n",
       "    <tr>\n",
       "      <th>1</th>\n",
       "      <td>2022-02-04 14:04:38.746388</td>\n",
       "      <td>44.586615</td>\n",
       "      <td>0.006348</td>\n",
       "      <td>-0.495850</td>\n",
       "      <td>0.882812</td>\n",
       "      <td>3.845215</td>\n",
       "      <td>-3.295898</td>\n",
       "      <td>-2.014160</td>\n",
       "      <td>16.444326</td>\n",
       "    </tr>\n",
       "    <tr>\n",
       "      <th>2</th>\n",
       "      <td>2022-02-04 14:04:38.747399</td>\n",
       "      <td>44.595798</td>\n",
       "      <td>0.006836</td>\n",
       "      <td>-0.495117</td>\n",
       "      <td>0.881348</td>\n",
       "      <td>4.211426</td>\n",
       "      <td>-3.112793</td>\n",
       "      <td>-2.319336</td>\n",
       "      <td>16.445337</td>\n",
       "    </tr>\n",
       "    <tr>\n",
       "      <th>3</th>\n",
       "      <td>2022-02-04 14:04:38.749400</td>\n",
       "      <td>44.605384</td>\n",
       "      <td>0.008423</td>\n",
       "      <td>-0.484863</td>\n",
       "      <td>0.881470</td>\n",
       "      <td>4.760742</td>\n",
       "      <td>-2.929688</td>\n",
       "      <td>-2.441406</td>\n",
       "      <td>16.447338</td>\n",
       "    </tr>\n",
       "    <tr>\n",
       "      <th>4</th>\n",
       "      <td>2022-02-04 14:04:38.750401</td>\n",
       "      <td>44.614567</td>\n",
       "      <td>0.009521</td>\n",
       "      <td>-0.474731</td>\n",
       "      <td>0.884277</td>\n",
       "      <td>4.699707</td>\n",
       "      <td>-2.868652</td>\n",
       "      <td>-2.624512</td>\n",
       "      <td>16.448339</td>\n",
       "    </tr>\n",
       "    <tr>\n",
       "      <th>...</th>\n",
       "      <td>...</td>\n",
       "      <td>...</td>\n",
       "      <td>...</td>\n",
       "      <td>...</td>\n",
       "      <td>...</td>\n",
       "      <td>...</td>\n",
       "      <td>...</td>\n",
       "      <td>...</td>\n",
       "      <td>...</td>\n",
       "    </tr>\n",
       "    <tr>\n",
       "      <th>2014</th>\n",
       "      <td>2022-02-04 14:05:16.064969</td>\n",
       "      <td>80.921769</td>\n",
       "      <td>0.001465</td>\n",
       "      <td>-0.729492</td>\n",
       "      <td>0.725708</td>\n",
       "      <td>-1.953125</td>\n",
       "      <td>-3.723145</td>\n",
       "      <td>-2.380371</td>\n",
       "      <td>53.762907</td>\n",
       "    </tr>\n",
       "    <tr>\n",
       "      <th>2015</th>\n",
       "      <td>2022-02-04 14:05:16.066977</td>\n",
       "      <td>80.929068</td>\n",
       "      <td>0.002563</td>\n",
       "      <td>-0.713623</td>\n",
       "      <td>0.716553</td>\n",
       "      <td>-4.455566</td>\n",
       "      <td>-3.967285</td>\n",
       "      <td>-2.319336</td>\n",
       "      <td>53.764915</td>\n",
       "    </tr>\n",
       "    <tr>\n",
       "      <th>2016</th>\n",
       "      <td>2022-02-04 14:05:16.124950</td>\n",
       "      <td>80.938253</td>\n",
       "      <td>0.017822</td>\n",
       "      <td>-0.709595</td>\n",
       "      <td>0.694702</td>\n",
       "      <td>-1.647949</td>\n",
       "      <td>-3.479004</td>\n",
       "      <td>-1.220703</td>\n",
       "      <td>53.822888</td>\n",
       "    </tr>\n",
       "    <tr>\n",
       "      <th>2017</th>\n",
       "      <td>2022-02-04 14:05:16.129973</td>\n",
       "      <td>81.098426</td>\n",
       "      <td>0.023804</td>\n",
       "      <td>-0.724731</td>\n",
       "      <td>0.704468</td>\n",
       "      <td>8.300781</td>\n",
       "      <td>-7.507324</td>\n",
       "      <td>-4.455566</td>\n",
       "      <td>53.827911</td>\n",
       "    </tr>\n",
       "    <tr>\n",
       "      <th>2018</th>\n",
       "      <td>2022-02-04 14:05:16.303953</td>\n",
       "      <td>81.104829</td>\n",
       "      <td>0.035156</td>\n",
       "      <td>-0.705322</td>\n",
       "      <td>0.690186</td>\n",
       "      <td>9.094238</td>\n",
       "      <td>-7.324219</td>\n",
       "      <td>-4.272461</td>\n",
       "      <td>54.001891</td>\n",
       "    </tr>\n",
       "  </tbody>\n",
       "</table>\n",
       "<p>2019 rows × 9 columns</p>\n",
       "</div>"
      ],
      "text/plain": [
       "                        sys_time   imu_time        ax        ay        az  \\\n",
       "0     2022-02-04 14:04:38.745643  44.577430  0.006592 -0.493286  0.888306   \n",
       "1     2022-02-04 14:04:38.746388  44.586615  0.006348 -0.495850  0.882812   \n",
       "2     2022-02-04 14:04:38.747399  44.595798  0.006836 -0.495117  0.881348   \n",
       "3     2022-02-04 14:04:38.749400  44.605384  0.008423 -0.484863  0.881470   \n",
       "4     2022-02-04 14:04:38.750401  44.614567  0.009521 -0.474731  0.884277   \n",
       "...                          ...        ...       ...       ...       ...   \n",
       "2014  2022-02-04 14:05:16.064969  80.921769  0.001465 -0.729492  0.725708   \n",
       "2015  2022-02-04 14:05:16.066977  80.929068  0.002563 -0.713623  0.716553   \n",
       "2016  2022-02-04 14:05:16.124950  80.938253  0.017822 -0.709595  0.694702   \n",
       "2017  2022-02-04 14:05:16.129973  81.098426  0.023804 -0.724731  0.704468   \n",
       "2018  2022-02-04 14:05:16.303953  81.104829  0.035156 -0.705322  0.690186   \n",
       "\n",
       "            gx        gy        gz    sys_sec  \n",
       "0     3.540039 -3.234863 -1.831055  16.443581  \n",
       "1     3.845215 -3.295898 -2.014160  16.444326  \n",
       "2     4.211426 -3.112793 -2.319336  16.445337  \n",
       "3     4.760742 -2.929688 -2.441406  16.447338  \n",
       "4     4.699707 -2.868652 -2.624512  16.448339  \n",
       "...        ...       ...       ...        ...  \n",
       "2014 -1.953125 -3.723145 -2.380371  53.762907  \n",
       "2015 -4.455566 -3.967285 -2.319336  53.764915  \n",
       "2016 -1.647949 -3.479004 -1.220703  53.822888  \n",
       "2017  8.300781 -7.507324 -4.455566  53.827911  \n",
       "2018  9.094238 -7.324219 -4.272461  54.001891  \n",
       "\n",
       "[2019 rows x 9 columns]"
      ]
     },
     "execution_count": 84,
     "metadata": {},
     "output_type": "execute_result"
    }
   ],
   "source": [
    "# plt.plot(imu_1[\"imu_time\"], imu_1[\"ax\"])\n",
    "imu_1 = datetime_to_s(imu_1, \"sys_time\", v_start)\n",
    "imu_1"
   ]
  },
  {
   "cell_type": "code",
   "execution_count": 72,
   "metadata": {},
   "outputs": [
    {
     "data": {
      "text/plain": [
       "[<matplotlib.lines.Line2D at 0x1fdc1d19a48>]"
      ]
     },
     "execution_count": 72,
     "metadata": {},
     "output_type": "execute_result"
    },
    {
     "data": {
      "image/png": "[encoded data removed]",
      "text/plain": [
       "<Figure size 432x288 with 1 Axes>"
      ]
     },
     "metadata": {
      "needs_background": "light"
     },
     "output_type": "display_data"
    }
   ],
   "source": [
    "plt.plot(imu_1[\"imu_time\"], imu_1[\"ax\"])"
   ]
  },
  {
   "cell_type": "code",
   "execution_count": 73,
   "metadata": {},
   "outputs": [],
   "source": [
    "video_data = cv2.VideoCapture(base_pth+\"//video.avi\")\n",
    "\n",
    "while video_data.isOpened:\n",
    "    ret, frame = video_data.read()\n",
    "    if ret:\n",
    "        cv2.imshow(\"\",frame)\n",
    "        # plt.show()\n",
    "    if cv2.waitKey(25) & 0xFF == ord('q'):\n",
    "          break\n",
    "    if not ret:\n",
    "        break\n",
    "cv2.destroyAllWindows()\n",
    "        "
   ]
  },
  {
   "cell_type": "code",
   "execution_count": null,
   "metadata": {},
   "outputs": [],
   "source": []
  },
  {
   "cell_type": "code",
   "execution_count": null,
   "metadata": {},
   "outputs": [],
   "source": []
  }
 ],
 "metadata": {
  "interpreter": {
   "hash": "6729a4ba6b7fbdf0a8589db33f214377d3fb4b86db684dd36447026323300434"
  },
  "kernelspec": {
   "display_name": "Python 3.8.5 ('py37t2')",
   "language": "python",
   "name": "python3"
  },
  "language_info": {
   "codemirror_mode": {
    "name": "ipython",
    "version": 3
   },
   "file_extension": ".py",
   "mimetype": "text/x-python",
   "name": "python",
   "nbconvert_exporter": "python",
   "pygments_lexer": "ipython3",
   "version": "3.7.11"
  },
  "orig_nbformat": 4
 },
 "nbformat": 4,
 "nbformat_minor": 2
}
