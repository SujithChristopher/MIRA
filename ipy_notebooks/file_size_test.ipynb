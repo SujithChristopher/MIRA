{
 "cells": [
  {
   "cell_type": "code",
   "execution_count": null,
   "metadata": {
    "collapsed": true
   },
   "outputs": [],
   "source": [
    "from subprocess import run\n"
   ]
  },
  {
   "cell_type": "code",
   "execution_count": 22,
   "metadata": {},
   "outputs": [
    {
     "name": "stdout",
     "output_type": "stream",
     "text": [
      "16384\n"
     ]
    }
   ],
   "source": [
    "# import module\n",
    "import os\n",
    " \n",
    "# assign size\n",
    "size = 0\n",
    " \n",
    "# assign folder path\n",
    "Folderpath = r\"C:\\Users\\CMC\\Dropbox\\mira\\mira_vellore\"\n",
    " \n",
    "# get size\n",
    "for ele in os.scandir(Folderpath):\n",
    "    size+=os.stat(ele).st_size\n",
    "     \n",
    "print(size)"
   ]
  },
  {
   "cell_type": "code",
   "execution_count": null,
   "metadata": {},
   "outputs": [],
   "source": []
  }
 ],
 "metadata": {
  "interpreter": {
   "hash": "38e4a50294905ac45f96ce42c7eb336930b3aac9e44f4f820d441b3f1285f3ab"
  },
  "kernelspec": {
   "display_name": "Python 3.7.9 64-bit ('py37': conda)",
   "name": "python3"
  },
  "language_info": {
   "codemirror_mode": {
    "name": "ipython",
    "version": 3
   },
   "file_extension": ".py",
   "mimetype": "text/x-python",
   "name": "python",
   "nbconvert_exporter": "python",
   "pygments_lexer": "ipython3",
   "version": "3.7.9"
  }
 },
 "nbformat": 4,
 "nbformat_minor": 0
}
