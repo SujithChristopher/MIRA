{
 "cells": [
  {
   "cell_type": "code",
   "execution_count": 1,
   "metadata": {},
   "outputs": [],
   "source": [
    "import pickle\n",
    "import sys\n",
    "sys.path.insert(0, \"..//include\")\n",
    "sys.path.insert(1, \"..//support_py\")\n",
    "import cv2\n",
    "import numpy as np\n",
    "from os import listdir\n",
    "import glob\n",
    "import fpstimer\n",
    "from mapper import color_2_world\n",
    "import pykinect2\n",
    "from pykinect2 import PyKinectV2\n",
    "from pykinect2 import PyKinectRuntime\n",
    "from pykinect2.PyKinectV2 import _CameraSpacePoint\n",
    "import msgpack as mp\n",
    "import msgpack_numpy as mpn"
   ]
  },
  {
   "cell_type": "code",
   "execution_count": 2,
   "metadata": {},
   "outputs": [],
   "source": [
    "import kinectmapper\n",
    "\n",
    "pth = r\"C:\\Users\\CMC\\Downloads\\Session 13-07-22_12-21-17_950_touse\"\n",
    "\n",
    "lst = listdir(pth)\n",
    "vid_name = lst[0]\n",
    "\n",
    "targetPattern = f\"{pth}\\\\CAMSPACE*\"\n",
    "dep_lst = glob.glob(targetPattern)\n",
    "\n",
    "targetPattern_param = f\"{pth}\\\\PARAM*\"\n",
    "param_file_name = glob.glob(targetPattern_param)\n",
    "\n",
    "targetPattern_colour = f\"{pth}\\\\COLOUR*\"\n",
    "colour_file_name = glob.glob(targetPattern_colour)\n",
    "\n",
    "prm = open(param_file_name[0], \"rb\")\n",
    "unpacker = mp.Unpacker(prm, object_hook=mpn.decode)\n",
    "prm_data = []\n",
    "for unpacked in unpacker:\n",
    "    prm_data.append(unpacked)\n",
    "\n",
    "xval = prm_data[0][0]\n",
    "yval = prm_data[0][1]\n",
    "\n"
   ]
  },
  {
   "cell_type": "code",
   "execution_count": 3,
   "metadata": {},
   "outputs": [
    {
     "name": "stdout",
     "output_type": "stream",
     "text": [
      "done\n"
     ]
    }
   ],
   "source": [
    "for i in dep_lst:\n",
    "    depth_file = open(i, \"rb\")\n",
    "    unpacker = mp.Unpacker(depth_file, object_hook=mpn.decode)\n",
    "    for unpacked in unpacker:\n",
    "        cv2.imshow(\"sadf\", unpacked)\n",
    "        if cv2.waitKey(1) & 0xFF == ord('q'):\n",
    "            break\n",
    "    depth_file.close()\n",
    "print(\"done\")\n",
    "cv2.destroyAllWindows()"
   ]
  },
  {
   "cell_type": "code",
   "execution_count": 4,
   "metadata": {},
   "outputs": [
    {
     "data": {
      "text/plain": [
       "['C:\\\\Users\\\\CMC\\\\Downloads\\\\Session 13-07-22_12-21-17_950_touse\\\\CAMSPACE_13-07-22_12-21-17_950_1.msgpack',\n",
       " 'C:\\\\Users\\\\CMC\\\\Downloads\\\\Session 13-07-22_12-21-17_950_touse\\\\CAMSPACE_13-07-22_12-21-17_950_2.msgpack',\n",
       " 'C:\\\\Users\\\\CMC\\\\Downloads\\\\Session 13-07-22_12-21-17_950_touse\\\\CAMSPACE_13-07-22_12-21-17_950_3.msgpack',\n",
       " 'C:\\\\Users\\\\CMC\\\\Downloads\\\\Session 13-07-22_12-21-17_950_touse\\\\CAMSPACE_13-07-22_12-21-17_950_4.msgpack',\n",
       " 'C:\\\\Users\\\\CMC\\\\Downloads\\\\Session 13-07-22_12-21-17_950_touse\\\\CAMSPACE_13-07-22_12-21-17_950_5.msgpack',\n",
       " 'C:\\\\Users\\\\CMC\\\\Downloads\\\\Session 13-07-22_12-21-17_950_touse\\\\CAMSPACE_13-07-22_12-21-17_950_6.msgpack',\n",
       " 'C:\\\\Users\\\\CMC\\\\Downloads\\\\Session 13-07-22_12-21-17_950_touse\\\\CAMSPACE_13-07-22_12-21-17_950_7.msgpack']"
      ]
     },
     "execution_count": 4,
     "metadata": {},
     "output_type": "execute_result"
    }
   ],
   "source": [
    "dep_lst"
   ]
  },
  {
   "cell_type": "code",
   "execution_count": 5,
   "metadata": {},
   "outputs": [],
   "source": [
    "# cv2.destroyAllWindows()"
   ]
  },
  {
   "cell_type": "code",
   "execution_count": null,
   "metadata": {},
   "outputs": [],
   "source": []
  }
 ],
 "metadata": {
  "interpreter": {
   "hash": "38e4a50294905ac45f96ce42c7eb336930b3aac9e44f4f820d441b3f1285f3ab"
  },
  "kernelspec": {
   "display_name": "Python 3.7.9 64-bit ('py37': conda)",
   "name": "python3"
  },
  "language_info": {
   "codemirror_mode": {
    "name": "ipython",
    "version": 3
   },
   "file_extension": ".py",
   "mimetype": "text/x-python",
   "name": "python",
   "nbconvert_exporter": "python",
   "pygments_lexer": "ipython3",
   "version": "3.10.8"
  },
  "orig_nbformat": 4
 },
 "nbformat": 4,
 "nbformat_minor": 2
}
