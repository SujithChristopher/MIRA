{
 "cells": [
  {
   "cell_type": "code",
   "execution_count": 28,
   "metadata": {},
   "outputs": [],
   "source": [
    "import pandas as pd\n",
    "import cv2\n",
    "import numpy as np\n",
    "import matplotlib.pyplot as plt\n",
    "from IPython.display import clear_output, Image, display, HTML\n",
    "import msgpack as mp\n",
    "import msgpack_numpy as mpn\n",
    "import base64\n",
    "from datetime import datetime\n",
    "import os\n",
    "from tqdm import tqdm\n",
    "from datetime import timedelta\n",
    "import keyboard"
   ]
  },
  {
   "cell_type": "code",
   "execution_count": 29,
   "metadata": {},
   "outputs": [],
   "source": [
    "base_pth = \"C:\\mira\\splitVideos\\SAMXXXXXXXXU010120000000XXXXXXXXX\\Session 04-02-22_14-03-00_359\"\n",
    "_prm = os.listdir(r\"C:\\mira\\splitVideos\\SAMXXXXXXXXU010120000000XXXXXXXXX\\Session 04-02-22_14-03-00_359\")\n",
    "\n",
    "for i in _prm:\n",
    "    if i.startswith(\"PARAMS\"):\n",
    "        _p_fname = i\n",
    "prm_file = base_pth + \"\\\\\" + _p_fname\n",
    "prm_file\n",
    "\n",
    "\n",
    "p = open(prm_file, \"rb\")\n",
    "unpacker = mp.Unpacker(p, object_hook=mpn.decode)\n",
    "prm = []\n",
    "for unpacked in unpacker:\n",
    "    prm.append(unpacked)\n",
    "prm.pop(0)\n",
    "prm.pop(0)\n",
    "\n",
    "\n",
    "video_time = []\n",
    "for i in prm:\n",
    "    video_time.append(datetime.strptime(i[0], '%Y-%m-%d %H:%M:%S.%f'))\n",
    "v_start = video_time[0]\n",
    "v_start\n",
    "\n",
    "\n",
    "\"\"\"for df\"\"\"\n",
    "video_time_df = []\n",
    "for i in prm:\n",
    "    video_time_df.append(i[0])\n",
    "\n"
   ]
  },
  {
   "cell_type": "code",
   "execution_count": 30,
   "metadata": {},
   "outputs": [],
   "source": [
    "video_data = cv2.VideoCapture(base_pth+\"//Video.avi\")\n",
    "\n",
    "_i = 0\n",
    "frames = []\n",
    "while video_data.isOpened:\n",
    "    \n",
    "    ret, frame = video_data.read()\n",
    "    if not ret:\n",
    "        break\n",
    "    frames.append(frame)\n",
    "    frame = cv2.flip(frame, 1)\n",
    "    vid_diff = video_time[_i] - video_time[0] \n",
    "    _vid_diff = vid_diff.total_seconds()\n",
    "    _i += 1\n",
    "    # font\n",
    "    font = cv2.FONT_HERSHEY_SIMPLEX\n",
    "    \n",
    "    # org\n",
    "    org = (50, 50)\n",
    "    \n",
    "    # fontScale\n",
    "    fontScale = 1\n",
    "    \n",
    "    # Blue color in BGR\n",
    "    color = (255, 0, 0)\n",
    "    \n",
    "    # Line thickness of 2 px\n",
    "    thickness = 2\n",
    "    \n",
    "    # Using cv2.putText() method\n",
    "    image = cv2.putText(frame, str(_vid_diff), org, font, \n",
    "                    fontScale, color, thickness, cv2.LINE_AA)\n",
    "    if ret:\n",
    "        cv2.imshow(\"\",frame)\n",
    "        # plt.show()\n",
    "        \n",
    "    if cv2.waitKey(25) & 0xFF == ord('q'):\n",
    "          break\n",
    "    \n",
    "    \n",
    "    \n",
    "    \n",
    "cv2.destroyAllWindows()\n",
    "        "
   ]
  },
  {
   "cell_type": "code",
   "execution_count": 31,
   "metadata": {},
   "outputs": [],
   "source": [
    "imu_1 = pd.read_csv(base_pth+\"//1_imu.csv\")\n",
    "imu_2 = pd.read_csv(base_pth+\"//2_imu.csv\")"
   ]
  },
  {
   "cell_type": "code",
   "execution_count": 32,
   "metadata": {},
   "outputs": [],
   "source": [
    "def datetime_to_s(df, c_name, sys_t=None, offset=0):\n",
    "    \"\"\"this function changes datetime string to seconds\"\"\"\n",
    "    inf = datetime.strptime(df[c_name][0], '%Y-%m-%d %H:%M:%S.%f')\n",
    "    dif_list = []\n",
    "    for idx, val in enumerate(df[c_name]):\n",
    "        _val = datetime.strptime(val, '%Y-%m-%d %H:%M:%S.%f')\n",
    "        if sys_t:\n",
    "            # diff = (_val - inf) - sys_t\n",
    "            diff = _val - sys_t\n",
    "\n",
    "        else:\n",
    "            diff = _val - inf\n",
    "            \n",
    "        _diff = diff.total_seconds()\n",
    "        # df[\"seconds\"].loc[idx] = _diff\n",
    "        dif_list.append(_diff)\n",
    "    df[\"sys_sec\"] = dif_list\n",
    "    return df"
   ]
  },
  {
   "cell_type": "code",
   "execution_count": 35,
   "metadata": {},
   "outputs": [],
   "source": [
    "# plt.plot(imu_1[\"imu_time\"], imu_1[\"ax\"])\n",
    "imu_1 = datetime_to_s(imu_1, \"sys_time\", v_start)\n",
    "imu_2 = datetime_to_s(imu_2, \"sys_time\", v_start)\n",
    "\n",
    "\"\"\"for df\"\"\"\n",
    "\n",
    "imu_1df = pd.read_csv(base_pth+\"//1_imu.csv\", parse_dates=['sys_time'], index_col='sys_time')\n",
    "imu_1df.index.name = \"time\"\n",
    "imu_2df = pd.read_csv(base_pth+\"//2_imu.csv\", parse_dates=['sys_time'], index_col='sys_time')\n",
    "imu_2df.index.name = \"time\"\n",
    "vid_df = pd.DataFrame(video_time_df, columns=[\"time\"])\n",
    "vid_df = pd.to_datetime(vid_df[\"time\"])\n",
    "# imu_1df"
   ]
  },
  {
   "cell_type": "code",
   "execution_count": 40,
   "metadata": {},
   "outputs": [],
   "source": [
    "# plt.plot(imu_1[\"sys_sec\"], imu_1[\"az\"])\n",
    "# imu_1df"
   ]
  },
  {
   "cell_type": "code",
   "execution_count": 38,
   "metadata": {},
   "outputs": [
    {
     "name": "stderr",
     "output_type": "stream",
     "text": [
      "  0%|          | 0/745 [00:00<?, ?it/s]"
     ]
    },
    {
     "name": "stdout",
     "output_type": "stream",
     "text": [
      "2022-02-04 14:04:22.302062\n"
     ]
    },
    {
     "name": "stderr",
     "output_type": "stream",
     "text": [
      "\n"
     ]
    },
    {
     "ename": "InvalidIndexError",
     "evalue": "Reindexing only valid with uniquely valued Index objects",
     "output_type": "error",
     "traceback": [
      "\u001b[1;31m---------------------------------------------------------------------------\u001b[0m",
      "\u001b[1;31mInvalidIndexError\u001b[0m                         Traceback (most recent call last)",
      "\u001b[1;32m~\\AppData\\Local\\Temp/ipykernel_19016/557885401.py\u001b[0m in \u001b[0;36m<module>\u001b[1;34m\u001b[0m\n\u001b[0;32m      2\u001b[0m \u001b[1;32mfor\u001b[0m \u001b[0mt\u001b[0m \u001b[1;32min\u001b[0m \u001b[0mtqdm\u001b[0m\u001b[1;33m(\u001b[0m\u001b[0mvid_df\u001b[0m\u001b[1;33m[\u001b[0m\u001b[1;33m:\u001b[0m\u001b[0mlen\u001b[0m\u001b[1;33m(\u001b[0m\u001b[0mframes\u001b[0m\u001b[1;33m)\u001b[0m\u001b[1;33m-\u001b[0m\u001b[1;36m1\u001b[0m\u001b[1;33m]\u001b[0m\u001b[1;33m)\u001b[0m\u001b[1;33m:\u001b[0m\u001b[1;33m\u001b[0m\u001b[1;33m\u001b[0m\u001b[0m\n\u001b[0;32m      3\u001b[0m     \u001b[0mprint\u001b[0m\u001b[1;33m(\u001b[0m\u001b[0mt\u001b[0m\u001b[1;33m)\u001b[0m\u001b[1;33m\u001b[0m\u001b[1;33m\u001b[0m\u001b[0m\n\u001b[1;32m----> 4\u001b[1;33m     \u001b[0mimutime\u001b[0m\u001b[1;33m.\u001b[0m\u001b[0mappend\u001b[0m\u001b[1;33m(\u001b[0m\u001b[0mimu_1df\u001b[0m\u001b[1;33m.\u001b[0m\u001b[0mindex\u001b[0m\u001b[1;33m[\u001b[0m\u001b[0mimu_1df\u001b[0m\u001b[1;33m.\u001b[0m\u001b[0mindex\u001b[0m\u001b[1;33m.\u001b[0m\u001b[0mget_loc\u001b[0m\u001b[1;33m(\u001b[0m\u001b[0mt\u001b[0m\u001b[1;33m,\u001b[0m \u001b[0mmethod\u001b[0m\u001b[1;33m=\u001b[0m\u001b[1;34m'nearest'\u001b[0m\u001b[1;33m)\u001b[0m\u001b[1;33m]\u001b[0m\u001b[1;33m)\u001b[0m\u001b[1;33m\u001b[0m\u001b[1;33m\u001b[0m\u001b[0m\n\u001b[0m\u001b[0;32m      5\u001b[0m \u001b[0mgrps\u001b[0m \u001b[1;33m=\u001b[0m \u001b[1;33m[\u001b[0m\u001b[1;33m]\u001b[0m\u001b[1;33m\u001b[0m\u001b[1;33m\u001b[0m\u001b[0m\n\u001b[0;32m      6\u001b[0m \u001b[1;32mfor\u001b[0m \u001b[0mt\u001b[0m \u001b[1;32min\u001b[0m \u001b[0mtqdm\u001b[0m\u001b[1;33m(\u001b[0m\u001b[0mimutime\u001b[0m\u001b[1;33m)\u001b[0m\u001b[1;33m:\u001b[0m\u001b[1;33m\u001b[0m\u001b[1;33m\u001b[0m\u001b[0m\n",
      "\u001b[1;32m~\\anaconda3\\envs\\py37t2\\lib\\site-packages\\pandas\\core\\indexes\\datetimes.py\u001b[0m in \u001b[0;36mget_loc\u001b[1;34m(self, key, method, tolerance)\u001b[0m\n\u001b[0;32m    701\u001b[0m \u001b[1;33m\u001b[0m\u001b[0m\n\u001b[0;32m    702\u001b[0m         \u001b[1;32mtry\u001b[0m\u001b[1;33m:\u001b[0m\u001b[1;33m\u001b[0m\u001b[1;33m\u001b[0m\u001b[0m\n\u001b[1;32m--> 703\u001b[1;33m             \u001b[1;32mreturn\u001b[0m \u001b[0mIndex\u001b[0m\u001b[1;33m.\u001b[0m\u001b[0mget_loc\u001b[0m\u001b[1;33m(\u001b[0m\u001b[0mself\u001b[0m\u001b[1;33m,\u001b[0m \u001b[0mkey\u001b[0m\u001b[1;33m,\u001b[0m \u001b[0mmethod\u001b[0m\u001b[1;33m,\u001b[0m \u001b[0mtolerance\u001b[0m\u001b[1;33m)\u001b[0m\u001b[1;33m\u001b[0m\u001b[1;33m\u001b[0m\u001b[0m\n\u001b[0m\u001b[0;32m    704\u001b[0m         \u001b[1;32mexcept\u001b[0m \u001b[0mKeyError\u001b[0m \u001b[1;32mas\u001b[0m \u001b[0merr\u001b[0m\u001b[1;33m:\u001b[0m\u001b[1;33m\u001b[0m\u001b[1;33m\u001b[0m\u001b[0m\n\u001b[0;32m    705\u001b[0m             \u001b[1;32mraise\u001b[0m \u001b[0mKeyError\u001b[0m\u001b[1;33m(\u001b[0m\u001b[0morig_key\u001b[0m\u001b[1;33m)\u001b[0m \u001b[1;32mfrom\u001b[0m \u001b[0merr\u001b[0m\u001b[1;33m\u001b[0m\u001b[1;33m\u001b[0m\u001b[0m\n",
      "\u001b[1;32m~\\anaconda3\\envs\\py37t2\\lib\\site-packages\\pandas\\core\\indexes\\base.py\u001b[0m in \u001b[0;36mget_loc\u001b[1;34m(self, key, method, tolerance)\u001b[0m\n\u001b[0;32m   3369\u001b[0m             \u001b[0mtolerance\u001b[0m \u001b[1;33m=\u001b[0m \u001b[0mself\u001b[0m\u001b[1;33m.\u001b[0m\u001b[0m_convert_tolerance\u001b[0m\u001b[1;33m(\u001b[0m\u001b[0mtolerance\u001b[0m\u001b[1;33m,\u001b[0m \u001b[0mnp\u001b[0m\u001b[1;33m.\u001b[0m\u001b[0masarray\u001b[0m\u001b[1;33m(\u001b[0m\u001b[0mkey\u001b[0m\u001b[1;33m)\u001b[0m\u001b[1;33m)\u001b[0m\u001b[1;33m\u001b[0m\u001b[1;33m\u001b[0m\u001b[0m\n\u001b[0;32m   3370\u001b[0m \u001b[1;33m\u001b[0m\u001b[0m\n\u001b[1;32m-> 3371\u001b[1;33m         \u001b[0mindexer\u001b[0m \u001b[1;33m=\u001b[0m \u001b[0mself\u001b[0m\u001b[1;33m.\u001b[0m\u001b[0mget_indexer\u001b[0m\u001b[1;33m(\u001b[0m\u001b[1;33m[\u001b[0m\u001b[0mkey\u001b[0m\u001b[1;33m]\u001b[0m\u001b[1;33m,\u001b[0m \u001b[0mmethod\u001b[0m\u001b[1;33m=\u001b[0m\u001b[0mmethod\u001b[0m\u001b[1;33m,\u001b[0m \u001b[0mtolerance\u001b[0m\u001b[1;33m=\u001b[0m\u001b[0mtolerance\u001b[0m\u001b[1;33m)\u001b[0m\u001b[1;33m\u001b[0m\u001b[1;33m\u001b[0m\u001b[0m\n\u001b[0m\u001b[0;32m   3372\u001b[0m         \u001b[1;32mif\u001b[0m \u001b[0mindexer\u001b[0m\u001b[1;33m.\u001b[0m\u001b[0mndim\u001b[0m \u001b[1;33m>\u001b[0m \u001b[1;36m1\u001b[0m \u001b[1;32mor\u001b[0m \u001b[0mindexer\u001b[0m\u001b[1;33m.\u001b[0m\u001b[0msize\u001b[0m \u001b[1;33m>\u001b[0m \u001b[1;36m1\u001b[0m\u001b[1;33m:\u001b[0m\u001b[1;33m\u001b[0m\u001b[1;33m\u001b[0m\u001b[0m\n\u001b[0;32m   3373\u001b[0m             \u001b[1;32mraise\u001b[0m \u001b[0mTypeError\u001b[0m\u001b[1;33m(\u001b[0m\u001b[1;34m\"get_loc requires scalar valued input\"\u001b[0m\u001b[1;33m)\u001b[0m\u001b[1;33m\u001b[0m\u001b[1;33m\u001b[0m\u001b[0m\n",
      "\u001b[1;32m~\\anaconda3\\envs\\py37t2\\lib\\site-packages\\pandas\\core\\indexes\\base.py\u001b[0m in \u001b[0;36mget_indexer\u001b[1;34m(self, target, method, limit, tolerance)\u001b[0m\n\u001b[0;32m   3440\u001b[0m \u001b[1;33m\u001b[0m\u001b[0m\n\u001b[0;32m   3441\u001b[0m         \u001b[1;32mif\u001b[0m \u001b[1;32mnot\u001b[0m \u001b[0mself\u001b[0m\u001b[1;33m.\u001b[0m\u001b[0m_index_as_unique\u001b[0m\u001b[1;33m:\u001b[0m\u001b[1;33m\u001b[0m\u001b[1;33m\u001b[0m\u001b[0m\n\u001b[1;32m-> 3442\u001b[1;33m             \u001b[1;32mraise\u001b[0m \u001b[0mInvalidIndexError\u001b[0m\u001b[1;33m(\u001b[0m\u001b[0mself\u001b[0m\u001b[1;33m.\u001b[0m\u001b[0m_requires_unique_msg\u001b[0m\u001b[1;33m)\u001b[0m\u001b[1;33m\u001b[0m\u001b[1;33m\u001b[0m\u001b[0m\n\u001b[0m\u001b[0;32m   3443\u001b[0m \u001b[1;33m\u001b[0m\u001b[0m\n\u001b[0;32m   3444\u001b[0m         \u001b[1;32mif\u001b[0m \u001b[1;32mnot\u001b[0m \u001b[0mself\u001b[0m\u001b[1;33m.\u001b[0m\u001b[0m_should_compare\u001b[0m\u001b[1;33m(\u001b[0m\u001b[0mtarget\u001b[0m\u001b[1;33m)\u001b[0m \u001b[1;32mand\u001b[0m \u001b[1;32mnot\u001b[0m \u001b[0mis_interval_dtype\u001b[0m\u001b[1;33m(\u001b[0m\u001b[0mself\u001b[0m\u001b[1;33m.\u001b[0m\u001b[0mdtype\u001b[0m\u001b[1;33m)\u001b[0m\u001b[1;33m:\u001b[0m\u001b[1;33m\u001b[0m\u001b[1;33m\u001b[0m\u001b[0m\n",
      "\u001b[1;31mInvalidIndexError\u001b[0m: Reindexing only valid with uniquely valued Index objects"
     ]
    }
   ],
   "source": [
    "imutime = [] \n",
    "for t in tqdm(vid_df[:len(frames)-1]):\n",
    "    print(t)\n",
    "    imutime.append(imu_1df.index[imu_1df.index.get_loc(t, method='nearest')])\n",
    "grps = []\n",
    "for t in tqdm(imutime):\n",
    "    grps.append(imu_1df.between_time((t - timedelta(seconds=2)).time(), (t + timedelta(seconds=1)).time()))"
   ]
  },
  {
   "cell_type": "code",
   "execution_count": null,
   "metadata": {},
   "outputs": [],
   "source": [
    "start_at = 3500\n",
    "i=0\n",
    "\n",
    "for frame, t, dat in zip(frames[start_at+1:], imutime[start_at:], grps[start_at:]):\n",
    "    if keyboard.is_pressed('q'):\n",
    "        plt.close()\n",
    "        break\n",
    "    else:\n",
    "        plt.clf()\n",
    "        plt.subplot(121)\n",
    "        plt.title(i)\n",
    "        plt.imshow(frame)\n",
    "        plt.subplot(322)\n",
    "        plt.title(t)\n",
    "        plt.plot(dat.ax)\n",
    "        plt.axvline(t, color='r')\n",
    "        plt.ylim(imu_1df.ax.min(), imu_1df.ay.max())\n",
    "        plt.subplot(324)\n",
    "        plt.plot(dat.ay)\n",
    "        plt.axvline(t, color='r')\n",
    "        plt.ylim(imu_1df.ay.min(), imu_1df.ay.max())\n",
    "        plt.subplot(326)\n",
    "        plt.plot(dat.az)\n",
    "        plt.axvline(t, color='r')\n",
    "        plt.ylim(imu_1df.az.min(), imu_1df.az.max())\n",
    "        i+=1\n",
    "        plt.pause(0.0001)"
   ]
  }
 ],
 "metadata": {
  "interpreter": {
   "hash": "6729a4ba6b7fbdf0a8589db33f214377d3fb4b86db684dd36447026323300434"
  },
  "kernelspec": {
   "display_name": "Python 3.7.11 ('py37t2')",
   "language": "python",
   "name": "python3"
  },
  "language_info": {
   "codemirror_mode": {
    "name": "ipython",
    "version": 3
   },
   "file_extension": ".py",
   "mimetype": "text/x-python",
   "name": "python",
   "nbconvert_exporter": "python",
   "pygments_lexer": "ipython3",
   "version": "3.7.11"
  },
  "orig_nbformat": 4
 },
 "nbformat": 4,
 "nbformat_minor": 2
}
