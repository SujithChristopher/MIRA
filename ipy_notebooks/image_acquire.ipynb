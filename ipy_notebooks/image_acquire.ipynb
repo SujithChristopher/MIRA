{
 "cells": [
  {
   "cell_type": "markdown",
   "metadata": {},
   "source": [
    "# general imports"
   ]
  },
  {
   "cell_type": "code",
   "execution_count": 1,
   "metadata": {},
   "outputs": [],
   "source": [
    "import numpy as np\n",
    "import cv2\n",
    "import pickle\n",
    "import os\n",
    "import matplotlib.pyplot as plt\n",
    "from pykinect2 import PyKinectV2\n",
    "from pykinect2 import PyKinectRuntime\n",
    "import ipywidgets as wdg\n",
    "import kinectmapper"
   ]
  },
  {
   "cell_type": "markdown",
   "metadata": {},
   "source": [
    "# opening camera 1 files"
   ]
  },
  {
   "cell_type": "code",
   "execution_count": 2,
   "metadata": {},
   "outputs": [
    {
     "name": "stdout",
     "output_type": "stream",
     "text": [
      "acquired\n"
     ]
    }
   ],
   "source": [
    "kinectColor = PyKinectRuntime.PyKinectRuntime(PyKinectV2.FrameSourceTypes_Color)\n",
    "kinectDepth = PyKinectRuntime.PyKinectRuntime(PyKinectV2.FrameSourceTypes_Depth)\n",
    "%matplotlib notebook\n",
    "while True:\n",
    "    if kinectColor.has_new_color_frame() and kinectDepth.has_new_depth_frame():\n",
    "        colorFrame1 = kinectColor.get_last_color_frame() \n",
    "        colorFrame1 = colorFrame1.reshape((1080, 1920, 4))\n",
    "        depthFrame1 = kinectDepth.get_last_depth_frame()\n",
    "        print(\"acquired\")\n",
    "        break\n",
    "    else:\n",
    "        print(\"not available\")\n",
    "        os.system('cls')"
   ]
  },
  {
   "cell_type": "markdown",
   "metadata": {},
   "source": [
    "saving files"
   ]
  },
  {
   "cell_type": "code",
   "execution_count": null,
   "metadata": {},
   "outputs": [],
   "source": [
    "kinect = PyKinectRuntime.PyKinectRuntime(PyKinectV2.FrameSourceTypes_Color | PyKinectV2.FrameSourceTypes_Depth)\n",
    "\n",
    "color = open(r\"boxData\\colorB_3a.pickle\", \"wb\")\n",
    "pickle.dump(colorFrame1, color)\n",
    "color.close()\n",
    "\n",
    "depthframesaveformat = np.copy(np.ctypeslib.as_array(depthFrame1, shape=(\n",
    "        kinect._depth_frame_data_capacity.value,)))\n",
    "\n",
    "depth = open(r\"boxData\\depthB_3a.pickle\", \"wb\")\n",
    "pickle.dump(depthframesaveformat, depth)\n",
    "depth.close()\n",
    "print(\"done\")\n"
   ]
  },
  {
   "cell_type": "code",
   "execution_count": null,
   "metadata": {},
   "outputs": [],
   "source": []
  }
 ],
 "metadata": {
  "kernelspec": {
   "display_name": "Python 3",
   "language": "python",
   "name": "python3"
  },
  "language_info": {
   "codemirror_mode": {
    "name": "ipython",
    "version": 3
   },
   "file_extension": ".py",
   "mimetype": "text/x-python",
   "name": "python",
   "nbconvert_exporter": "python",
   "pygments_lexer": "ipython3",
   "version": "3.7.10"
  }
 },
 "nbformat": 4,
 "nbformat_minor": 4
}
