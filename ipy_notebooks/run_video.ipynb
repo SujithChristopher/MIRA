{
 "cells": [
  {
   "cell_type": "code",
   "execution_count": 1,
   "metadata": {},
   "outputs": [],
   "source": [
    "import ctypes\n",
    "import glob\n",
    "import os\n",
    "import pickle\n",
    "from ctypes import c_ushort\n",
    "\n",
    "import msgpack as mp\n",
    "import msgpack_numpy as mpn\n",
    "\n",
    "import cv2\n",
    "import numpy as np\n",
    "from pykinect2 import PyKinectRuntime\n",
    "from pykinect2 import PyKinectV2\n",
    "from pykinect2.PyKinectRuntime import _CameraSpacePoint\n",
    "\n",
    "_kinect = PyKinectRuntime.PyKinectRuntime(PyKinectV2.FrameSourceTypes_Depth | PyKinectV2.FrameSourceTypes_Color)"
   ]
  },
  {
   "cell_type": "code",
   "execution_count": 2,
   "metadata": {},
   "outputs": [],
   "source": [
    "pth = r\"C:\\mira\\splitVideos\\LAVAXXXXTESTU010120000000XXXXXXXXX\\Session 20-10-22_16-05-26_557\""
   ]
  },
  {
   "cell_type": "code",
   "execution_count": 5,
   "metadata": {},
   "outputs": [
    {
     "name": "stdout",
     "output_type": "stream",
     "text": [
      "0\n",
      "1\n",
      "2\n",
      "3\n",
      "4\n",
      "5\n",
      "6\n",
      "7\n",
      "8\n",
      "9\n"
     ]
    }
   ],
   "source": [
    "cam_list = []\n",
    "targetPattern = f\"{pth}\\\\COLOUR*\"\n",
    "dep_lst = glob.glob(targetPattern)\n",
    "\n",
    "col_sz = len(dep_lst)\n",
    "\n",
    "\n",
    "\n",
    "for i in range(col_sz):\n",
    "    dep_file = open(dep_lst[i], \"rb\")\n",
    "    unp_dep = mp.Unpacker(dep_file, object_hook=mpn.decode)\n",
    "    dep = []\n",
    "    print(i)\n",
    "    for unpacked in unp_dep:\n",
    "        \n",
    "        cv2.imshow(\"dep\", unpacked)\n",
    "        cv2.waitKey(1)\n",
    "\n",
    "    "
   ]
  },
  {
   "cell_type": "code",
   "execution_count": null,
   "metadata": {},
   "outputs": [],
   "source": []
  }
 ],
 "metadata": {
  "kernelspec": {
   "display_name": "Python 3.7.13 ('amd')",
   "language": "python",
   "name": "python3"
  },
  "language_info": {
   "codemirror_mode": {
    "name": "ipython",
    "version": 3
   },
   "file_extension": ".py",
   "mimetype": "text/x-python",
   "name": "python",
   "nbconvert_exporter": "python",
   "pygments_lexer": "ipython3",
   "version": "3.7.13"
  },
  "orig_nbformat": 4,
  "vscode": {
   "interpreter": {
    "hash": "f7b5cde20a443c2b17446bd8bc340c41b205a603133068520caed36857fb2eca"
   }
  }
 },
 "nbformat": 4,
 "nbformat_minor": 2
}
