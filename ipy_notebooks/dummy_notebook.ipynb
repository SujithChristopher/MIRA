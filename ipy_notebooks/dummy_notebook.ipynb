{
 "cells": [
  {
   "cell_type": "code",
   "execution_count": 46,
   "outputs": [],
   "source": [
    "import pandas as pd\n",
    "import matplotlib.pyplot as plt\n",
    "from imu_services.mecanum_wheel.ipy_notebooks.pd_support import read_df_csv, add_datetime_col"
   ],
   "metadata": {
    "collapsed": false,
    "pycharm": {
     "name": "#%%\n"
    }
   }
  },
  {
   "cell_type": "code",
   "execution_count": 47,
   "outputs": [],
   "source": [
    "pth = r\"C:\\Users\\CMC\\Documents\\MoCap takes\\Mecanum_cart\\mobbo_n_tri_0.csv\""
   ],
   "metadata": {
    "collapsed": false,
    "pycharm": {
     "name": "#%%\n"
    }
   }
  },
  {
   "cell_type": "code",
   "execution_count": 48,
   "outputs": [
    {
     "data": {
      "text/plain": "      frame  seconds     org_x     org_y     org_z    xdir_x    xdir_y  \\\n0         0     0.00  0.055481  0.069260 -0.041580  0.098064  0.067938   \n1         1     0.01  0.055477  0.069261 -0.041599  0.098055  0.067940   \n2         2     0.02  0.055469  0.069267 -0.041599  0.098113  0.067981   \n3         3     0.03  0.055480  0.069253 -0.041581  0.098086  0.067976   \n4         4     0.04  0.055468  0.069244 -0.041580  0.098062  0.067936   \n...     ...      ...       ...       ...       ...       ...       ...   \n5401   5401    54.01  0.047472  0.069224 -0.001611  0.089797  0.067629   \n5402   5402    54.02  0.047475  0.069250 -0.001612  0.089796  0.067638   \n5403   5403    54.03  0.047473  0.069251 -0.001604  0.089793  0.067626   \n5404   5404    54.04  0.047468  0.069241 -0.001604  0.089803  0.067627   \n5405   5405    54.05  0.047471  0.069257 -0.001596  0.089803  0.067636   \n\n        xdir_z    zdir_x    zdir_y    zdir_z  \n0    -0.044956  0.063091  0.068069  0.061386  \n1    -0.044953  0.063094  0.068065  0.061405  \n2    -0.044934  0.063092  0.068071  0.061405  \n3    -0.044939  0.063087  0.068064  0.061388  \n4    -0.044956  0.063090  0.068068  0.061393  \n...        ...       ...       ...       ...  \n5401 -0.005345  0.055973  0.068779  0.101359  \n5402 -0.005347  0.055964  0.068783  0.101353  \n5403 -0.005344  0.055977  0.068769  0.101345  \n5404 -0.005339  0.055961  0.068755  0.101377  \n5405 -0.005348  0.055971  0.068776  0.101363  \n\n[5406 rows x 11 columns]",
      "text/html": "<div>\n<style scoped>\n    .dataframe tbody tr th:only-of-type {\n        vertical-align: middle;\n    }\n\n    .dataframe tbody tr th {\n        vertical-align: top;\n    }\n\n    .dataframe thead th {\n        text-align: right;\n    }\n</style>\n<table border=\"1\" class=\"dataframe\">\n  <thead>\n    <tr style=\"text-align: right;\">\n      <th></th>\n      <th>frame</th>\n      <th>seconds</th>\n      <th>org_x</th>\n      <th>org_y</th>\n      <th>org_z</th>\n      <th>xdir_x</th>\n      <th>xdir_y</th>\n      <th>xdir_z</th>\n      <th>zdir_x</th>\n      <th>zdir_y</th>\n      <th>zdir_z</th>\n    </tr>\n  </thead>\n  <tbody>\n    <tr>\n      <th>0</th>\n      <td>0</td>\n      <td>0.00</td>\n      <td>0.055481</td>\n      <td>0.069260</td>\n      <td>-0.041580</td>\n      <td>0.098064</td>\n      <td>0.067938</td>\n      <td>-0.044956</td>\n      <td>0.063091</td>\n      <td>0.068069</td>\n      <td>0.061386</td>\n    </tr>\n    <tr>\n      <th>1</th>\n      <td>1</td>\n      <td>0.01</td>\n      <td>0.055477</td>\n      <td>0.069261</td>\n      <td>-0.041599</td>\n      <td>0.098055</td>\n      <td>0.067940</td>\n      <td>-0.044953</td>\n      <td>0.063094</td>\n      <td>0.068065</td>\n      <td>0.061405</td>\n    </tr>\n    <tr>\n      <th>2</th>\n      <td>2</td>\n      <td>0.02</td>\n      <td>0.055469</td>\n      <td>0.069267</td>\n      <td>-0.041599</td>\n      <td>0.098113</td>\n      <td>0.067981</td>\n      <td>-0.044934</td>\n      <td>0.063092</td>\n      <td>0.068071</td>\n      <td>0.061405</td>\n    </tr>\n    <tr>\n      <th>3</th>\n      <td>3</td>\n      <td>0.03</td>\n      <td>0.055480</td>\n      <td>0.069253</td>\n      <td>-0.041581</td>\n      <td>0.098086</td>\n      <td>0.067976</td>\n      <td>-0.044939</td>\n      <td>0.063087</td>\n      <td>0.068064</td>\n      <td>0.061388</td>\n    </tr>\n    <tr>\n      <th>4</th>\n      <td>4</td>\n      <td>0.04</td>\n      <td>0.055468</td>\n      <td>0.069244</td>\n      <td>-0.041580</td>\n      <td>0.098062</td>\n      <td>0.067936</td>\n      <td>-0.044956</td>\n      <td>0.063090</td>\n      <td>0.068068</td>\n      <td>0.061393</td>\n    </tr>\n    <tr>\n      <th>...</th>\n      <td>...</td>\n      <td>...</td>\n      <td>...</td>\n      <td>...</td>\n      <td>...</td>\n      <td>...</td>\n      <td>...</td>\n      <td>...</td>\n      <td>...</td>\n      <td>...</td>\n      <td>...</td>\n    </tr>\n    <tr>\n      <th>5401</th>\n      <td>5401</td>\n      <td>54.01</td>\n      <td>0.047472</td>\n      <td>0.069224</td>\n      <td>-0.001611</td>\n      <td>0.089797</td>\n      <td>0.067629</td>\n      <td>-0.005345</td>\n      <td>0.055973</td>\n      <td>0.068779</td>\n      <td>0.101359</td>\n    </tr>\n    <tr>\n      <th>5402</th>\n      <td>5402</td>\n      <td>54.02</td>\n      <td>0.047475</td>\n      <td>0.069250</td>\n      <td>-0.001612</td>\n      <td>0.089796</td>\n      <td>0.067638</td>\n      <td>-0.005347</td>\n      <td>0.055964</td>\n      <td>0.068783</td>\n      <td>0.101353</td>\n    </tr>\n    <tr>\n      <th>5403</th>\n      <td>5403</td>\n      <td>54.03</td>\n      <td>0.047473</td>\n      <td>0.069251</td>\n      <td>-0.001604</td>\n      <td>0.089793</td>\n      <td>0.067626</td>\n      <td>-0.005344</td>\n      <td>0.055977</td>\n      <td>0.068769</td>\n      <td>0.101345</td>\n    </tr>\n    <tr>\n      <th>5404</th>\n      <td>5404</td>\n      <td>54.04</td>\n      <td>0.047468</td>\n      <td>0.069241</td>\n      <td>-0.001604</td>\n      <td>0.089803</td>\n      <td>0.067627</td>\n      <td>-0.005339</td>\n      <td>0.055961</td>\n      <td>0.068755</td>\n      <td>0.101377</td>\n    </tr>\n    <tr>\n      <th>5405</th>\n      <td>5405</td>\n      <td>54.05</td>\n      <td>0.047471</td>\n      <td>0.069257</td>\n      <td>-0.001596</td>\n      <td>0.089803</td>\n      <td>0.067636</td>\n      <td>-0.005348</td>\n      <td>0.055971</td>\n      <td>0.068776</td>\n      <td>0.101363</td>\n    </tr>\n  </tbody>\n</table>\n<p>5406 rows × 11 columns</p>\n</div>"
     },
     "execution_count": 48,
     "metadata": {},
     "output_type": "execute_result"
    }
   ],
   "source": [
    "mc, tme = read_df_csv(pth)\n",
    "mc\n",
    "mc1, mc_dt = read_df_csv(r\"C:\\Users\\CMC\\Documents\\openposelibs\\pose\\test\\MIRA\\imu_services\\mecanum_wheel\\data_csv\\random_movement_sync_mc.csv\")\n",
    "\n",
    "# mc = add_datetime_col(mc, tme, \"seconds\")\n",
    "mc1"
   ],
   "metadata": {
    "collapsed": false,
    "pycharm": {
     "name": "#%%\n"
    }
   }
  },
  {
   "cell_type": "code",
   "execution_count": 50,
   "outputs": [
    {
     "data": {
      "text/plain": "[<matplotlib.lines.Line2D at 0x1699a1f5e08>]"
     },
     "execution_count": 50,
     "metadata": {},
     "output_type": "execute_result"
    },
    {
     "data": {
      "text/plain": "<Figure size 432x288 with 1 Axes>",
      "image/png": "[encoded data removed]"
     },
     "metadata": {
      "needs_background": "light"
     },
     "output_type": "display_data"
    }
   ],
   "source": [
    "plt.plot(mc[\"seconds\"], mc[\"WBR_x\"])"
   ],
   "metadata": {
    "collapsed": false,
    "pycharm": {
     "name": "#%%\n"
    }
   }
  },
  {
   "cell_type": "code",
   "execution_count": 49,
   "outputs": [],
   "source": [],
   "metadata": {
    "collapsed": false,
    "pycharm": {
     "name": "#%%\n"
    }
   }
  }
 ],
 "metadata": {
  "kernelspec": {
   "display_name": "Python 3",
   "language": "python",
   "name": "python3"
  },
  "language_info": {
   "codemirror_mode": {
    "name": "ipython",
    "version": 2
   },
   "file_extension": ".py",
   "mimetype": "text/x-python",
   "name": "python",
   "nbconvert_exporter": "python",
   "pygments_lexer": "ipython2",
   "version": "2.7.6"
  }
 },
 "nbformat": 4,
 "nbformat_minor": 0
}