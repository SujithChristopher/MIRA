{
 "cells": [
  {
   "cell_type": "code",
   "execution_count": 1,
   "metadata": {
    "collapsed": false,
    "pycharm": {
     "name": "#%%\n"
    }
   },
   "outputs": [],
   "source": [
    "import matplotlib.pyplot as plt\n",
    "import numpy as np\n",
    "import pandas as pd\n",
    "from datetime import datetime, timedelta\n",
    "from pd_support import read_df_csv\n",
    "from scipy.interpolate import interp1d\n",
    "from pd_support import read_df_csv, add_datetime_col, add_datetime_diff\n"
   ]
  },
  {
   "cell_type": "code",
   "execution_count": 2,
   "metadata": {
    "collapsed": false,
    "pycharm": {
     "name": "#%%\n"
    }
   },
   "outputs": [
    {
     "data": {
      "text/plain": [
       "datetime.datetime(2022, 6, 23, 9, 53, 21, 904000)"
      ]
     },
     "execution_count": 2,
     "metadata": {},
     "output_type": "execute_result"
    }
   ],
   "source": [
    "cart_df = pd.read_csv(\"..//data_csv//random_movement_sync.csv\")\n",
    "mc, mc_dt = read_df_csv(\"..//data_csv//random_movement_sync_mc.csv\")\n",
    "mc_dt"
   ]
  },
  {
   "cell_type": "code",
   "execution_count": 3,
   "metadata": {
    "collapsed": false,
    "pycharm": {
     "name": "#%%\n"
    }
   },
   "outputs": [
    {
     "name": "stdout",
     "output_type": "stream",
     "text": [
      "5412\n"
     ]
    },
    {
     "data": {
      "text/plain": [
       "Timestamp('2022-06-23 09:53:21.904000')"
      ]
     },
     "execution_count": 3,
     "metadata": {},
     "output_type": "execute_result"
    }
   ],
   "source": [
    "mc = add_datetime_col(mc, mc_dt, \"seconds\")\n",
    "cart_df = add_datetime_diff(cart_df, mc_dt,\"sync\", \"mils\", True)\n",
    "mc[\"time\"][0]"
   ]
  },
  {
   "cell_type": "code",
   "execution_count": 4,
   "metadata": {
    "collapsed": false,
    "pycharm": {
     "name": "#%%\n"
    }
   },
   "outputs": [
    {
     "data": {
      "text/html": [
       "<div>\n",
       "<style scoped>\n",
       "    .dataframe tbody tr th:only-of-type {\n",
       "        vertical-align: middle;\n",
       "    }\n",
       "\n",
       "    .dataframe tbody tr th {\n",
       "        vertical-align: top;\n",
       "    }\n",
       "\n",
       "    .dataframe thead th {\n",
       "        text-align: right;\n",
       "    }\n",
       "</style>\n",
       "<table border=\"1\" class=\"dataframe\">\n",
       "  <thead>\n",
       "    <tr style=\"text-align: right;\">\n",
       "      <th></th>\n",
       "      <th>sys_time</th>\n",
       "      <th>e_fr</th>\n",
       "      <th>e_fl</th>\n",
       "      <th>e_rr</th>\n",
       "      <th>e_rl</th>\n",
       "      <th>rtc</th>\n",
       "      <th>mils</th>\n",
       "      <th>sync</th>\n",
       "      <th>time</th>\n",
       "    </tr>\n",
       "  </thead>\n",
       "  <tbody>\n",
       "    <tr>\n",
       "      <th>607</th>\n",
       "      <td>2022-06-23 09:53:21.983740</td>\n",
       "      <td>0</td>\n",
       "      <td>0</td>\n",
       "      <td>0</td>\n",
       "      <td>0</td>\n",
       "      <td>2019-01-01 05.31.27.000000 AM</td>\n",
       "      <td>88258</td>\n",
       "      <td>1</td>\n",
       "      <td>2022-06-23 09:53:21.904</td>\n",
       "    </tr>\n",
       "    <tr>\n",
       "      <th>608</th>\n",
       "      <td>2022-06-23 09:53:21.984242</td>\n",
       "      <td>0</td>\n",
       "      <td>0</td>\n",
       "      <td>0</td>\n",
       "      <td>0</td>\n",
       "      <td>2019-01-01 05.31.27.000000 AM</td>\n",
       "      <td>88268</td>\n",
       "      <td>1</td>\n",
       "      <td>2022-06-23 09:53:21.914</td>\n",
       "    </tr>\n",
       "    <tr>\n",
       "      <th>609</th>\n",
       "      <td>2022-06-23 09:53:21.984764</td>\n",
       "      <td>0</td>\n",
       "      <td>0</td>\n",
       "      <td>0</td>\n",
       "      <td>0</td>\n",
       "      <td>2019-01-01 05.31.27.000000 AM</td>\n",
       "      <td>88278</td>\n",
       "      <td>1</td>\n",
       "      <td>2022-06-23 09:53:21.924</td>\n",
       "    </tr>\n",
       "    <tr>\n",
       "      <th>610</th>\n",
       "      <td>2022-06-23 09:53:21.985264</td>\n",
       "      <td>0</td>\n",
       "      <td>0</td>\n",
       "      <td>0</td>\n",
       "      <td>0</td>\n",
       "      <td>2019-01-01 05.31.27.000000 AM</td>\n",
       "      <td>88288</td>\n",
       "      <td>1</td>\n",
       "      <td>2022-06-23 09:53:21.934</td>\n",
       "    </tr>\n",
       "    <tr>\n",
       "      <th>611</th>\n",
       "      <td>2022-06-23 09:53:22.054762</td>\n",
       "      <td>0</td>\n",
       "      <td>0</td>\n",
       "      <td>0</td>\n",
       "      <td>0</td>\n",
       "      <td>2019-01-01 05.31.27.000000 AM</td>\n",
       "      <td>88298</td>\n",
       "      <td>1</td>\n",
       "      <td>2022-06-23 09:53:21.944</td>\n",
       "    </tr>\n",
       "    <tr>\n",
       "      <th>...</th>\n",
       "      <td>...</td>\n",
       "      <td>...</td>\n",
       "      <td>...</td>\n",
       "      <td>...</td>\n",
       "      <td>...</td>\n",
       "      <td>...</td>\n",
       "      <td>...</td>\n",
       "      <td>...</td>\n",
       "      <td>...</td>\n",
       "    </tr>\n",
       "    <tr>\n",
       "      <th>5408</th>\n",
       "      <td>2022-06-23 09:54:10.017709</td>\n",
       "      <td>-1453</td>\n",
       "      <td>251</td>\n",
       "      <td>-331</td>\n",
       "      <td>-1808</td>\n",
       "      <td>2019-01-01 05.32.15.000000 AM</td>\n",
       "      <td>136301</td>\n",
       "      <td>1</td>\n",
       "      <td>2022-06-23 09:54:09.947</td>\n",
       "    </tr>\n",
       "    <tr>\n",
       "      <th>5409</th>\n",
       "      <td>2022-06-23 09:54:10.018210</td>\n",
       "      <td>-1453</td>\n",
       "      <td>251</td>\n",
       "      <td>-331</td>\n",
       "      <td>-1808</td>\n",
       "      <td>2019-01-01 05.32.16.000000 AM</td>\n",
       "      <td>136311</td>\n",
       "      <td>1</td>\n",
       "      <td>2022-06-23 09:54:09.957</td>\n",
       "    </tr>\n",
       "    <tr>\n",
       "      <th>5410</th>\n",
       "      <td>2022-06-23 09:54:10.018712</td>\n",
       "      <td>-1453</td>\n",
       "      <td>251</td>\n",
       "      <td>-331</td>\n",
       "      <td>-1808</td>\n",
       "      <td>2019-01-01 05.32.16.000000 AM</td>\n",
       "      <td>136321</td>\n",
       "      <td>1</td>\n",
       "      <td>2022-06-23 09:54:09.967</td>\n",
       "    </tr>\n",
       "    <tr>\n",
       "      <th>5411</th>\n",
       "      <td>2022-06-23 09:54:10.018712</td>\n",
       "      <td>-1453</td>\n",
       "      <td>251</td>\n",
       "      <td>-331</td>\n",
       "      <td>-1808</td>\n",
       "      <td>2019-01-01 05.32.16.000000 AM</td>\n",
       "      <td>136331</td>\n",
       "      <td>1</td>\n",
       "      <td>2022-06-23 09:54:09.977</td>\n",
       "    </tr>\n",
       "    <tr>\n",
       "      <th>5412</th>\n",
       "      <td>2022-06-23 09:54:10.019212</td>\n",
       "      <td>-1453</td>\n",
       "      <td>251</td>\n",
       "      <td>-331</td>\n",
       "      <td>-1808</td>\n",
       "      <td>2019-01-01 05.32.16.000000 AM</td>\n",
       "      <td>136341</td>\n",
       "      <td>1</td>\n",
       "      <td>2022-06-23 09:54:09.987</td>\n",
       "    </tr>\n",
       "  </tbody>\n",
       "</table>\n",
       "<p>4806 rows × 9 columns</p>\n",
       "</div>"
      ],
      "text/plain": [
       "                        sys_time  e_fr  e_fl  e_rr  e_rl  \\\n",
       "607   2022-06-23 09:53:21.983740     0     0     0     0   \n",
       "608   2022-06-23 09:53:21.984242     0     0     0     0   \n",
       "609   2022-06-23 09:53:21.984764     0     0     0     0   \n",
       "610   2022-06-23 09:53:21.985264     0     0     0     0   \n",
       "611   2022-06-23 09:53:22.054762     0     0     0     0   \n",
       "...                          ...   ...   ...   ...   ...   \n",
       "5408  2022-06-23 09:54:10.017709 -1453   251  -331 -1808   \n",
       "5409  2022-06-23 09:54:10.018210 -1453   251  -331 -1808   \n",
       "5410  2022-06-23 09:54:10.018712 -1453   251  -331 -1808   \n",
       "5411  2022-06-23 09:54:10.018712 -1453   251  -331 -1808   \n",
       "5412  2022-06-23 09:54:10.019212 -1453   251  -331 -1808   \n",
       "\n",
       "                                rtc    mils  sync                    time  \n",
       "607   2019-01-01 05.31.27.000000 AM   88258     1 2022-06-23 09:53:21.904  \n",
       "608   2019-01-01 05.31.27.000000 AM   88268     1 2022-06-23 09:53:21.914  \n",
       "609   2019-01-01 05.31.27.000000 AM   88278     1 2022-06-23 09:53:21.924  \n",
       "610   2019-01-01 05.31.27.000000 AM   88288     1 2022-06-23 09:53:21.934  \n",
       "611   2019-01-01 05.31.27.000000 AM   88298     1 2022-06-23 09:53:21.944  \n",
       "...                             ...     ...   ...                     ...  \n",
       "5408  2019-01-01 05.32.15.000000 AM  136301     1 2022-06-23 09:54:09.947  \n",
       "5409  2019-01-01 05.32.16.000000 AM  136311     1 2022-06-23 09:54:09.957  \n",
       "5410  2019-01-01 05.32.16.000000 AM  136321     1 2022-06-23 09:54:09.967  \n",
       "5411  2019-01-01 05.32.16.000000 AM  136331     1 2022-06-23 09:54:09.977  \n",
       "5412  2019-01-01 05.32.16.000000 AM  136341     1 2022-06-23 09:54:09.987  \n",
       "\n",
       "[4806 rows x 9 columns]"
      ]
     },
     "execution_count": 4,
     "metadata": {},
     "output_type": "execute_result"
    }
   ],
   "source": [
    "\"\"\"resetting cart values to zero\"\"\"\n",
    "cart_df[\"e_fr\"] = cart_df[\"e_fr\"]- cart_df[\"e_fr\"].iloc[0]\n",
    "cart_df[\"e_fl\"] = cart_df[\"e_fl\"]- cart_df[\"e_fl\"].iloc[0]\n",
    "cart_df[\"e_rr\"] = cart_df[\"e_rr\"]- cart_df[\"e_rr\"].iloc[0]\n",
    "cart_df[\"e_rl\"] = cart_df[\"e_rl\"]- cart_df[\"e_rl\"].iloc[0]\n",
    "\n",
    "cart_df"
   ]
  },
  {
   "cell_type": "code",
   "execution_count": 5,
   "metadata": {
    "collapsed": false,
    "pycharm": {
     "name": "#%%\n"
    }
   },
   "outputs": [],
   "source": [
    "mils = np.arange(0, len(cart_df[\"e_fr\"])*10, 10)\n",
    "cart_df[\"mils\"] = mils\n",
    "cart_df[\"sys_time\"] = pd.to_datetime(cart_df[\"sys_time\"])"
   ]
  },
  {
   "cell_type": "markdown",
   "metadata": {
    "collapsed": false,
    "pycharm": {
     "name": "#%% md\n"
    }
   },
   "source": [
    "These are the parameters of the cart\n",
    "\n",
    "Diameter = 95 mm\n",
    "radius = 47.5\n",
    "wheel thickness = 45 mm\n",
    "gap between wheel and chassis = 6.5 mm\n",
    "angle between center of chassis and z-dir vector = 51.21 degrees\n",
    "distance between the wheel = 158 mm\n",
    "distance between the wheel and the center of the robot = 101.36 (li)\n"
   ]
  },
  {
   "cell_type": "code",
   "execution_count": 6,
   "metadata": {
    "collapsed": false,
    "pycharm": {
     "name": "#%%\n"
    }
   },
   "outputs": [],
   "source": [
    "\"\"\"circumfrence of the wheel\"\"\"\n",
    "\n",
    "cir_wheel = np.degrees(2*np.pi*(47.5/1000))\n",
    "cir_wheel\n",
    "radius = 47.5/1000\n",
    "\n",
    "lx = 79 #half of the distance between the wheels\n",
    "ly = 122.5/2\n",
    "\n",
    "lx = lx/1000\n",
    "ly = ly/1000"
   ]
  },
  {
   "cell_type": "markdown",
   "metadata": {
    "collapsed": false,
    "pycharm": {
     "name": "#%% md\n"
    }
   },
   "source": [
    "The encoder values will give 4000 values per revolution\n",
    "360/4000 = 0.09 degrees per encoder rotation value"
   ]
  },
  {
   "cell_type": "code",
   "execution_count": 7,
   "metadata": {
    "collapsed": false,
    "pycharm": {
     "name": "#%%\n"
    }
   },
   "outputs": [
    {
     "data": {
      "text/plain": [
       "607     0.0\n",
       "608     0.0\n",
       "609     0.0\n",
       "610     0.0\n",
       "611     0.0\n",
       "       ... \n",
       "5408    0.0\n",
       "5409    0.0\n",
       "5410    0.0\n",
       "5411    0.0\n",
       "5412    0.0\n",
       "Name: av_fl, Length: 4806, dtype: float64"
      ]
     },
     "execution_count": 7,
     "metadata": {},
     "output_type": "execute_result"
    }
   ],
   "source": [
    "\"\"\" angular velocity\"\"\"\n",
    "cart_df[\"av_fr\"] = (cart_df[\"e_fr\"]*0.09).diff()/0.01\n",
    "cart_df[\"av_fl\"] = (cart_df[\"e_fl\"]*0.09).diff()/0.01\n",
    "cart_df[\"av_rr\"] = (cart_df[\"e_rr\"]*0.09).diff()/0.01\n",
    "cart_df[\"av_rl\"] = (cart_df[\"e_rl\"]*0.09).diff()/0.01\n",
    "cart_df['av_fr'] = cart_df[\"av_fr\"].fillna(0)\n",
    "cart_df['av_fl'] = cart_df[\"av_fl\"].fillna(0)\n",
    "cart_df['av_rr'] = cart_df[\"av_rr\"].fillna(0)\n",
    "cart_df['av_rl'] = cart_df[\"av_rl\"].fillna(0)\n",
    "\n",
    "#converting them to radians\n",
    "cart_df['av_fr'] = cart_df[\"av_fr\"] * np.pi/180\n",
    "cart_df['av_fl'] = cart_df[\"av_fl\"] * np.pi/180\n",
    "cart_df['av_rr'] = cart_df[\"av_rr\"] * np.pi/180\n",
    "cart_df['av_rl'] = cart_df[\"av_rl\"] * np.pi/180\n",
    "\n",
    "cart_df[\"av_fl\"]"
   ]
  },
  {
   "cell_type": "code",
   "execution_count": 8,
   "metadata": {
    "collapsed": false,
    "pycharm": {
     "name": "#%%\n"
    }
   },
   "outputs": [
    {
     "data": {
      "text/plain": [
       "0.9999999999999999"
      ]
     },
     "execution_count": 8,
     "metadata": {},
     "output_type": "execute_result"
    }
   ],
   "source": [
    "# g1 = np.radians(-51.21)\n",
    "# g2 = np.radians(51.21)\n",
    "\n",
    "a1 = np.pi/4\n",
    "a2 = -np.pi/4\n",
    "a3 = 3*np.pi/4\n",
    "a4 = -3*np.pi/4\n",
    "\n",
    "b1 = np.pi/2\n",
    "b2 = -np.pi/2\n",
    "b3 = b1\n",
    "b4 = b2\n",
    "\n",
    "\n",
    "g1 = -np.pi/4\n",
    "g2 = np.pi/4\n",
    "g3 = g2\n",
    "g4 = g1\n",
    "\n",
    "# a1 = np.radians(51.21)\n",
    "# a2 = -np.radians(51.21)\n",
    "# a3 = np.radians(51.21+90)\n",
    "# a4 = -np.radians(51.21+90)\n",
    "\n",
    "li = 101.36/1000\n",
    "li = 0.1\n",
    "# radius/4\n",
    "np.cos(b1 - g1)/ np.sin(g1)"
   ]
  },
  {
   "cell_type": "code",
   "execution_count": 27,
   "metadata": {
    "collapsed": false,
    "pycharm": {
     "name": "#%%\n"
    }
   },
   "outputs": [
    {
     "data": {
      "text/plain": [
       "array([[-21.05263158,  21.05263158,   2.97729171],\n",
       "       [ 21.05263158,  21.05263158,   2.97729171],\n",
       "       [-21.05263158, -21.05263158,   2.97729171],\n",
       "       [ 21.05263158, -21.05263158,   2.97729171]])"
      ]
     },
     "execution_count": 27,
     "metadata": {},
     "output_type": "execute_result"
    }
   ],
   "source": [
    "t = (-1/radius)*np.array([[np.cos(b1 - g1)/ np.sin(g1), np.sin(b1 - g1)/np.sin(g1), li * np.sin(b1 - g1 - a1)/np.sin(g1)],\n",
    "                         [np.cos(b2 - g2)/ np.sin(g2), np.sin(b2 - g2)/np.sin(g2), li * np.sin(b2 - g2 - a2)/np.sin(g2)],\n",
    "                         [np.cos(b3 - g3)/ np.sin(g3), np.sin(b3 - g3)/np.sin(g3), li * np.sin(b3 - g3 - a3)/np.sin(g3)],\n",
    "                         [np.cos(b4 - g4)/ np.sin(g4), np.sin(b4 - g4)/np.sin(g4), li * np.sin(b4 - g4 - a4)/np.sin(g4)]]\n",
    "                         )\n",
    "t\n",
    "pseudo_t = np.linalg.pinv(t)\n",
    "pseudo_t\n",
    "t"
   ]
  },
  {
   "cell_type": "code",
   "execution_count": 10,
   "metadata": {},
   "outputs": [
    {
     "data": {
      "text/plain": [
       "array([[ 21.05263158, -21.05263158, -42.10526316],\n",
       "       [ 21.05263158,  21.05263158,  42.10526316],\n",
       "       [ 21.05263158,  21.05263158, -42.10526316],\n",
       "       [ 21.05263158, -21.05263158,  42.10526316]])"
      ]
     },
     "execution_count": 10,
     "metadata": {},
     "output_type": "execute_result"
    }
   ],
   "source": [
    "t = (1/radius)*np.array( [[1, -1, -2], \n",
    "                          [1, 1, 2],\n",
    "                          [1, 1, -2],\n",
    "                          [1, -1, 2]])   \n",
    "                         \n",
    "t\n",
    "pseudo_t = np.linalg.pinv(t)\n",
    "t\n"
   ]
  },
  {
   "cell_type": "code",
   "execution_count": 11,
   "metadata": {
    "collapsed": false,
    "pycharm": {
     "name": "#%%\n"
    }
   },
   "outputs": [
    {
     "data": {
      "text/plain": [
       "array([[0., 0., 0.]])"
      ]
     },
     "execution_count": 11,
     "metadata": {},
     "output_type": "execute_result"
    }
   ],
   "source": [
    "val = pseudo_t @ np.array([[cart_df[\"av_fr\"].iloc[0]],[cart_df[\"av_fl\"].iloc[0]], [cart_df[\"av_rr\"].iloc[0]], [cart_df[\"av_rl\"].iloc[0]]])\n",
    "val.T"
   ]
  },
  {
   "cell_type": "code",
   "execution_count": 12,
   "metadata": {
    "pycharm": {
     "name": "#%%\n"
    }
   },
   "outputs": [
    {
     "data": {
      "text/plain": [
       "0.0"
      ]
     },
     "execution_count": 12,
     "metadata": {},
     "output_type": "execute_result"
    }
   ],
   "source": [
    "cart_df[\"av_fr\"].iloc[0]"
   ]
  },
  {
   "cell_type": "code",
   "execution_count": 28,
   "metadata": {
    "collapsed": false,
    "pycharm": {
     "name": "#%%\n"
    }
   },
   "outputs": [
    {
     "data": {
      "text/plain": [
       "array([[0.],\n",
       "       [0.],\n",
       "       [0.],\n",
       "       [0.]])"
      ]
     },
     "execution_count": 28,
     "metadata": {},
     "output_type": "execute_result"
    }
   ],
   "source": [
    "np.array([[cart_df[\"av_fr\"].iloc[0]],[cart_df[\"av_fl\"].iloc[0]], [cart_df[\"av_rr\"].iloc[0]], [cart_df[\"av_rl\"].iloc[0]]])"
   ]
  },
  {
   "cell_type": "code",
   "execution_count": 29,
   "metadata": {
    "collapsed": false,
    "pycharm": {
     "name": "#%%\n"
    }
   },
   "outputs": [],
   "source": [
    "_val = []\n",
    "for i in range(len(cart_df[\"e_fl\"])):\n",
    "    _v = pseudo_t @ np.array([[cart_df[\"av_fr\"].iloc[i]],[cart_df[\"av_fl\"].iloc[i]], [cart_df[\"av_rr\"].iloc[i]], [cart_df[\"av_rl\"].iloc[i]]])\n",
    "    _val.append(_v.T[0])\n",
    "\n",
    "cart_df[[\"cal_vx\", \"cal_vy\", \"cal_w\"]] = _val\n",
    "# _val"
   ]
  },
  {
   "cell_type": "code",
   "execution_count": 30,
   "metadata": {
    "collapsed": false,
    "pycharm": {
     "name": "#%%\n"
    }
   },
   "outputs": [],
   "source": [
    "\"\"\"finding vx, vy, w\"\"\"\n",
    "\n",
    "cart_df[\"vx\"] = (cart_df[\"av_fl\"] + cart_df[\"av_fr\"] + cart_df[\"av_rl\"] + cart_df[\"av_rr\"])*(radius/4)\n",
    "cart_df[\"vy\"] = (- cart_df[\"av_fl\"] + cart_df[\"av_fr\"] + cart_df[\"av_rl\"] - cart_df[\"av_rr\"])*(radius/4)\n",
    "cart_df[\"w\"] = (- cart_df[\"av_fl\"] + cart_df[\"av_fr\"] - cart_df[\"av_rl\"] + cart_df[\"av_rr\"])*(radius/(4*(lx + ly)))"
   ]
  },
  {
   "cell_type": "code",
   "execution_count": 16,
   "metadata": {
    "collapsed": false,
    "pycharm": {
     "name": "#%%\n"
    }
   },
   "outputs": [
    {
     "data": {
      "text/plain": [
       "[<matplotlib.lines.Line2D at 0x1cffc85ddc8>]"
      ]
     },
     "execution_count": 16,
     "metadata": {},
     "output_type": "execute_result"
    },
    {
     "data": {
      "image/png": "[encoded data removed]",
      "text/plain": [
       "<Figure size 432x288 with 1 Axes>"
      ]
     },
     "metadata": {
      "needs_background": "light"
     },
     "output_type": "display_data"
    }
   ],
   "source": [
    "plt.plot(cart_df[\"sys_time\"], cart_df[\"vy\"])\n",
    "# plt.plot(cart_df[\"vx\"])"
   ]
  },
  {
   "cell_type": "code",
   "execution_count": 31,
   "metadata": {
    "collapsed": false,
    "pycharm": {
     "name": "#%%\n"
    }
   },
   "outputs": [],
   "source": [
    "\"\"\"calculating displacement\n",
    "s=(1/2)* (v+u)t\n",
    "v = current velocityn\n",
    "u = initial velocity\n",
    "t = time\n",
    "s = displacement\n",
    "\"\"\"\n",
    "\n",
    "_xval = []\n",
    "_yval = []\n",
    "xf_disp = 0\n",
    "yf_disp = 0\n",
    "for i in range(len(cart_df[\"vx\"])):\n",
    "    if i == 0:\n",
    "        _xval.append(0)\n",
    "        _yval.append(0)\n",
    "    else:\n",
    "        x_disp = 0.5*(cart_df[\"vx\"].iloc[i] + cart_df[\"vx\"].iloc[i-1])*0.01\n",
    "        y_disp = 0.5*(cart_df[\"vy\"].iloc[i] + cart_df[\"vy\"].iloc[i-1])*0.01\n",
    "        # print(y_disp)\n",
    "        xf_disp = xf_disp+x_disp\n",
    "        yf_disp = yf_disp+y_disp\n",
    "        _xval.append(xf_disp)\n",
    "        _yval.append(yf_disp)\n",
    "\n",
    "cart_df[\"x_val\"] = _xval\n",
    "cart_df[\"y_val\"] = _yval\n",
    "# cart_df[\"y_val\"]"
   ]
  },
  {
   "cell_type": "code",
   "execution_count": 32,
   "metadata": {
    "collapsed": false,
    "pycharm": {
     "name": "#%%\n"
    }
   },
   "outputs": [],
   "source": [
    "\"\"\"\n",
    "calculating displacement for calculated coordinates\n",
    "\n",
    "\"\"\"\n",
    "_xval = []\n",
    "_yval = []\n",
    "xf_disp = 0\n",
    "yf_disp = 0\n",
    "for i in range(len(cart_df[\"vx\"])):\n",
    "    if i == 0:\n",
    "        _xval.append(0)\n",
    "        _yval.append(0)\n",
    "    else:\n",
    "        x_disp = 0.5*(cart_df[\"cal_vx\"].iloc[i] + cart_df[\"cal_vx\"].iloc[i-1])*0.01\n",
    "        y_disp = 0.5*(cart_df[\"cal_vy\"].iloc[i] + cart_df[\"cal_vy\"].iloc[i-1])*0.01\n",
    "        # print(x_disp)\n",
    "        xf_disp = xf_disp+x_disp\n",
    "        yf_disp = yf_disp+y_disp\n",
    "        _xval.append(xf_disp)\n",
    "        _yval.append(yf_disp)\n",
    "\n",
    "cart_df[\"cal_x\"] = _xval\n",
    "cart_df[\"cal_y\"] = _yval\n"
   ]
  },
  {
   "cell_type": "code",
   "execution_count": 33,
   "metadata": {
    "collapsed": false,
    "pycharm": {
     "name": "#%%\n"
    }
   },
   "outputs": [
    {
     "data": {
      "text/plain": [
       "<matplotlib.legend.Legend at 0x1cffd3d9888>"
      ]
     },
     "execution_count": 33,
     "metadata": {},
     "output_type": "execute_result"
    },
    {
     "data": {
      "image/png": "[encoded data removed]",
      "text/plain": [
       "<Figure size 432x288 with 1 Axes>"
      ]
     },
     "metadata": {
      "needs_background": "light"
     },
     "output_type": "display_data"
    }
   ],
   "source": [
    "# plt.plot(cart_df[\"sys_time\"], cart_df[\"x_val\"], label = \"ideal x\")\n",
    "plt.plot(cart_df[\"sys_time\"],cart_df[\"cal_x\"], label = \"calculated x\")\n",
    "plt.plot(cart_df[\"sys_time\"], cart_df[\"x_val\"], label = \"ideal x\")\n",
    "plt.legend()"
   ]
  },
  {
   "cell_type": "code",
   "execution_count": 34,
   "metadata": {
    "pycharm": {
     "name": "#%%\n"
    }
   },
   "outputs": [
    {
     "data": {
      "text/plain": [
       "<matplotlib.legend.Legend at 0x1cffc9db508>"
      ]
     },
     "execution_count": 34,
     "metadata": {},
     "output_type": "execute_result"
    },
    {
     "data": {
      "image/png": "[encoded data removed]",
      "text/plain": [
       "<Figure size 432x288 with 1 Axes>"
      ]
     },
     "metadata": {
      "needs_background": "light"
     },
     "output_type": "display_data"
    }
   ],
   "source": [
    "plt.plot(cart_df[\"sys_time\"],-cart_df[\"cal_y\"], label = \"calculated y\")\n",
    "plt.plot(cart_df[\"sys_time\"], cart_df[\"y_val\"], label = \"ideal y\")\n",
    "plt.legend()"
   ]
  },
  {
   "cell_type": "code",
   "execution_count": 21,
   "metadata": {
    "collapsed": false,
    "pycharm": {
     "name": "#%%\n"
    }
   },
   "outputs": [
    {
     "data": {
      "text/plain": [
       "<matplotlib.legend.Legend at 0x1cffc41efc8>"
      ]
     },
     "execution_count": 21,
     "metadata": {},
     "output_type": "execute_result"
    },
    {
     "data": {
      "image/png": "[encoded data removed]",
      "text/plain": [
       "<Figure size 432x288 with 1 Axes>"
      ]
     },
     "metadata": {
      "needs_background": "light"
     },
     "output_type": "display_data"
    }
   ],
   "source": [
    "plt.plot(cart_df[\"sys_time\"], cart_df[\"x_val\"], label = \"cart y\")\n",
    "plt.plot(mc[\"time\"], mc[\"org_z\"], label  = \"mc_x\")\n",
    "plt.legend()"
   ]
  },
  {
   "cell_type": "code",
   "execution_count": 22,
   "metadata": {
    "collapsed": false,
    "pycharm": {
     "name": "#%%\n"
    }
   },
   "outputs": [],
   "source": [
    "_t2 = []\n",
    "for i in cart_df[\"sys_time\"]:\n",
    "    _tt = mc[\"time\"][0]-i\n",
    "    # print(_tt)\n",
    "    _t2.append(_tt.total_seconds())\n"
   ]
  },
  {
   "cell_type": "code",
   "execution_count": 23,
   "metadata": {
    "collapsed": false,
    "pycharm": {
     "name": "#%%\n"
    }
   },
   "outputs": [
    {
     "name": "stdout",
     "output_type": "stream",
     "text": [
      "-0.055481\n"
     ]
    },
    {
     "data": {
      "image/png": "[encoded data removed]",
      "text/plain": [
       "<Figure size 432x288 with 1 Axes>"
      ]
     },
     "metadata": {
      "needs_background": "light"
     },
     "output_type": "display_data"
    }
   ],
   "source": [
    "offset = cart_df[\"y_val\"].iloc[0] - mc[\"org_x\"].iloc[0]\n",
    "plt.plot(cart_df[\"sys_time\"], cart_df[\"y_val\"], label = \"cart y\")\n",
    "plt.plot(mc[\"time\"], mc[\"org_x\"] +offset, label  = \"mc_x\")\n",
    "plt.savefig(\"lateral.png\")\n",
    "plt.legend()\n",
    "print(offset)"
   ]
  },
  {
   "cell_type": "code",
   "execution_count": 24,
   "metadata": {
    "collapsed": false,
    "pycharm": {
     "name": "#%%\n"
    }
   },
   "outputs": [
    {
     "data": {
      "image/png": "[encoded data removed]",
      "text/plain": [
       "<Figure size 432x288 with 1 Axes>"
      ]
     },
     "metadata": {
      "needs_background": "light"
     },
     "output_type": "display_data"
    }
   ],
   "source": [
    "offset = cart_df[\"x_val\"].iloc[0] - mc[\"org_z\"].iloc[0]\n",
    "plt.plot(cart_df[\"time\"], cart_df[\"x_val\"], label = \"cart x\")\n",
    "plt.plot(cart_df[\"sys_time\"], cart_df[\"x_val\"], label = \"cart x systime\")\n",
    "plt.plot(mc[\"time\"], mc[\"org_z\"] +offset, label  = \"mc_y\")\n",
    "# \n",
    "\n",
    "plt.legend()\n",
    "plt.savefig(\"transversal.png\")"
   ]
  },
  {
   "cell_type": "code",
   "execution_count": 25,
   "metadata": {
    "collapsed": false,
    "pycharm": {
     "name": "#%%\n"
    }
   },
   "outputs": [
    {
     "name": "stdout",
     "output_type": "stream",
     "text": [
      "2022-06-23 09:53:21.904000\n",
      "2022-06-23 09:53:21.904000\n"
     ]
    },
    {
     "ename": "KeyError",
     "evalue": "0",
     "output_type": "error",
     "traceback": [
      "\u001b[1;31m---------------------------------------------------------------------------\u001b[0m",
      "\u001b[1;31mValueError\u001b[0m                                Traceback (most recent call last)",
      "\u001b[1;32mc:\\Users\\CMC\\anaconda3\\envs\\py37t2\\lib\\site-packages\\pandas\\core\\indexes\\range.py\u001b[0m in \u001b[0;36mget_loc\u001b[1;34m(self, key, method, tolerance)\u001b[0m\n\u001b[0;32m    384\u001b[0m                 \u001b[1;32mtry\u001b[0m\u001b[1;33m:\u001b[0m\u001b[1;33m\u001b[0m\u001b[1;33m\u001b[0m\u001b[0m\n\u001b[1;32m--> 385\u001b[1;33m                     \u001b[1;32mreturn\u001b[0m \u001b[0mself\u001b[0m\u001b[1;33m.\u001b[0m\u001b[0m_range\u001b[0m\u001b[1;33m.\u001b[0m\u001b[0mindex\u001b[0m\u001b[1;33m(\u001b[0m\u001b[0mnew_key\u001b[0m\u001b[1;33m)\u001b[0m\u001b[1;33m\u001b[0m\u001b[1;33m\u001b[0m\u001b[0m\n\u001b[0m\u001b[0;32m    386\u001b[0m                 \u001b[1;32mexcept\u001b[0m \u001b[0mValueError\u001b[0m \u001b[1;32mas\u001b[0m \u001b[0merr\u001b[0m\u001b[1;33m:\u001b[0m\u001b[1;33m\u001b[0m\u001b[1;33m\u001b[0m\u001b[0m\n",
      "\u001b[1;31mValueError\u001b[0m: 0 is not in range",
      "\nThe above exception was the direct cause of the following exception:\n",
      "\u001b[1;31mKeyError\u001b[0m                                  Traceback (most recent call last)",
      "\u001b[1;32m~\\AppData\\Local\\Temp/ipykernel_24652/1415792663.py\u001b[0m in \u001b[0;36m<module>\u001b[1;34m\u001b[0m\n\u001b[0;32m      5\u001b[0m \u001b[0mresult_index\u001b[0m \u001b[1;33m=\u001b[0m \u001b[0mcart_df\u001b[0m\u001b[1;33m[\u001b[0m\u001b[1;34m'sys_time'\u001b[0m\u001b[1;33m]\u001b[0m\u001b[1;33m.\u001b[0m\u001b[0msub\u001b[0m\u001b[1;33m(\u001b[0m\u001b[0mmc\u001b[0m\u001b[1;33m[\u001b[0m\u001b[1;34m\"time\"\u001b[0m\u001b[1;33m]\u001b[0m\u001b[1;33m.\u001b[0m\u001b[0miloc\u001b[0m\u001b[1;33m[\u001b[0m\u001b[1;36m0\u001b[0m\u001b[1;33m]\u001b[0m\u001b[1;33m)\u001b[0m\u001b[1;33m.\u001b[0m\u001b[0mabs\u001b[0m\u001b[1;33m(\u001b[0m\u001b[1;33m)\u001b[0m\u001b[1;33m.\u001b[0m\u001b[0midxmin\u001b[0m\u001b[1;33m(\u001b[0m\u001b[1;33m)\u001b[0m\u001b[1;33m\u001b[0m\u001b[1;33m\u001b[0m\u001b[0m\n\u001b[0;32m      6\u001b[0m \u001b[1;33m\u001b[0m\u001b[0m\n\u001b[1;32m----> 7\u001b[1;33m \u001b[0mcart_df\u001b[0m\u001b[1;33m.\u001b[0m\u001b[0miloc\u001b[0m\u001b[1;33m[\u001b[0m\u001b[1;33m(\u001b[0m\u001b[0mcart_df\u001b[0m\u001b[1;33m[\u001b[0m\u001b[1;34m'sys_time'\u001b[0m\u001b[1;33m]\u001b[0m \u001b[1;33m-\u001b[0m \u001b[0mmc\u001b[0m\u001b[1;33m[\u001b[0m\u001b[1;34m\"time\"\u001b[0m\u001b[1;33m]\u001b[0m\u001b[1;33m.\u001b[0m\u001b[0miloc\u001b[0m\u001b[1;33m[\u001b[0m\u001b[1;36m0\u001b[0m\u001b[1;33m]\u001b[0m\u001b[1;33m)\u001b[0m\u001b[1;33m.\u001b[0m\u001b[0mabs\u001b[0m\u001b[1;33m(\u001b[0m\u001b[1;33m)\u001b[0m\u001b[1;33m.\u001b[0m\u001b[0margsort\u001b[0m\u001b[1;33m(\u001b[0m\u001b[1;33m)\u001b[0m\u001b[1;33m[\u001b[0m\u001b[1;36m0\u001b[0m\u001b[1;33m]\u001b[0m\u001b[1;33m,\u001b[0m\u001b[1;33m:\u001b[0m\u001b[1;33m]\u001b[0m\u001b[1;33m\u001b[0m\u001b[1;33m\u001b[0m\u001b[0m\n\u001b[0m\u001b[0;32m      8\u001b[0m \u001b[1;31m# (cart_df['sys_time'] - mc[\"time\"][0]).abs()\u001b[0m\u001b[1;33m\u001b[0m\u001b[1;33m\u001b[0m\u001b[1;33m\u001b[0m\u001b[0m\n\u001b[0;32m      9\u001b[0m \u001b[0mresult_index\u001b[0m\u001b[1;33m\u001b[0m\u001b[1;33m\u001b[0m\u001b[0m\n",
      "\u001b[1;32mc:\\Users\\CMC\\anaconda3\\envs\\py37t2\\lib\\site-packages\\pandas\\core\\series.py\u001b[0m in \u001b[0;36m__getitem__\u001b[1;34m(self, key)\u001b[0m\n\u001b[0;32m    940\u001b[0m \u001b[1;33m\u001b[0m\u001b[0m\n\u001b[0;32m    941\u001b[0m         \u001b[1;32melif\u001b[0m \u001b[0mkey_is_scalar\u001b[0m\u001b[1;33m:\u001b[0m\u001b[1;33m\u001b[0m\u001b[1;33m\u001b[0m\u001b[0m\n\u001b[1;32m--> 942\u001b[1;33m             \u001b[1;32mreturn\u001b[0m \u001b[0mself\u001b[0m\u001b[1;33m.\u001b[0m\u001b[0m_get_value\u001b[0m\u001b[1;33m(\u001b[0m\u001b[0mkey\u001b[0m\u001b[1;33m)\u001b[0m\u001b[1;33m\u001b[0m\u001b[1;33m\u001b[0m\u001b[0m\n\u001b[0m\u001b[0;32m    943\u001b[0m \u001b[1;33m\u001b[0m\u001b[0m\n\u001b[0;32m    944\u001b[0m         \u001b[1;32mif\u001b[0m \u001b[0mis_hashable\u001b[0m\u001b[1;33m(\u001b[0m\u001b[0mkey\u001b[0m\u001b[1;33m)\u001b[0m\u001b[1;33m:\u001b[0m\u001b[1;33m\u001b[0m\u001b[1;33m\u001b[0m\u001b[0m\n",
      "\u001b[1;32mc:\\Users\\CMC\\anaconda3\\envs\\py37t2\\lib\\site-packages\\pandas\\core\\series.py\u001b[0m in \u001b[0;36m_get_value\u001b[1;34m(self, label, takeable)\u001b[0m\n\u001b[0;32m   1049\u001b[0m \u001b[1;33m\u001b[0m\u001b[0m\n\u001b[0;32m   1050\u001b[0m         \u001b[1;31m# Similar to Index.get_value, but we do not fall back to positional\u001b[0m\u001b[1;33m\u001b[0m\u001b[1;33m\u001b[0m\u001b[1;33m\u001b[0m\u001b[0m\n\u001b[1;32m-> 1051\u001b[1;33m         \u001b[0mloc\u001b[0m \u001b[1;33m=\u001b[0m \u001b[0mself\u001b[0m\u001b[1;33m.\u001b[0m\u001b[0mindex\u001b[0m\u001b[1;33m.\u001b[0m\u001b[0mget_loc\u001b[0m\u001b[1;33m(\u001b[0m\u001b[0mlabel\u001b[0m\u001b[1;33m)\u001b[0m\u001b[1;33m\u001b[0m\u001b[1;33m\u001b[0m\u001b[0m\n\u001b[0m\u001b[0;32m   1052\u001b[0m         \u001b[1;32mreturn\u001b[0m \u001b[0mself\u001b[0m\u001b[1;33m.\u001b[0m\u001b[0mindex\u001b[0m\u001b[1;33m.\u001b[0m\u001b[0m_get_values_for_loc\u001b[0m\u001b[1;33m(\u001b[0m\u001b[0mself\u001b[0m\u001b[1;33m,\u001b[0m \u001b[0mloc\u001b[0m\u001b[1;33m,\u001b[0m \u001b[0mlabel\u001b[0m\u001b[1;33m)\u001b[0m\u001b[1;33m\u001b[0m\u001b[1;33m\u001b[0m\u001b[0m\n\u001b[0;32m   1053\u001b[0m \u001b[1;33m\u001b[0m\u001b[0m\n",
      "\u001b[1;32mc:\\Users\\CMC\\anaconda3\\envs\\py37t2\\lib\\site-packages\\pandas\\core\\indexes\\range.py\u001b[0m in \u001b[0;36mget_loc\u001b[1;34m(self, key, method, tolerance)\u001b[0m\n\u001b[0;32m    385\u001b[0m                     \u001b[1;32mreturn\u001b[0m \u001b[0mself\u001b[0m\u001b[1;33m.\u001b[0m\u001b[0m_range\u001b[0m\u001b[1;33m.\u001b[0m\u001b[0mindex\u001b[0m\u001b[1;33m(\u001b[0m\u001b[0mnew_key\u001b[0m\u001b[1;33m)\u001b[0m\u001b[1;33m\u001b[0m\u001b[1;33m\u001b[0m\u001b[0m\n\u001b[0;32m    386\u001b[0m                 \u001b[1;32mexcept\u001b[0m \u001b[0mValueError\u001b[0m \u001b[1;32mas\u001b[0m \u001b[0merr\u001b[0m\u001b[1;33m:\u001b[0m\u001b[1;33m\u001b[0m\u001b[1;33m\u001b[0m\u001b[0m\n\u001b[1;32m--> 387\u001b[1;33m                     \u001b[1;32mraise\u001b[0m \u001b[0mKeyError\u001b[0m\u001b[1;33m(\u001b[0m\u001b[0mkey\u001b[0m\u001b[1;33m)\u001b[0m \u001b[1;32mfrom\u001b[0m \u001b[0merr\u001b[0m\u001b[1;33m\u001b[0m\u001b[1;33m\u001b[0m\u001b[0m\n\u001b[0m\u001b[0;32m    388\u001b[0m             \u001b[1;32mraise\u001b[0m \u001b[0mKeyError\u001b[0m\u001b[1;33m(\u001b[0m\u001b[0mkey\u001b[0m\u001b[1;33m)\u001b[0m\u001b[1;33m\u001b[0m\u001b[1;33m\u001b[0m\u001b[0m\n\u001b[0;32m    389\u001b[0m         \u001b[1;32mreturn\u001b[0m \u001b[0msuper\u001b[0m\u001b[1;33m(\u001b[0m\u001b[1;33m)\u001b[0m\u001b[1;33m.\u001b[0m\u001b[0mget_loc\u001b[0m\u001b[1;33m(\u001b[0m\u001b[0mkey\u001b[0m\u001b[1;33m,\u001b[0m \u001b[0mmethod\u001b[0m\u001b[1;33m=\u001b[0m\u001b[0mmethod\u001b[0m\u001b[1;33m,\u001b[0m \u001b[0mtolerance\u001b[0m\u001b[1;33m=\u001b[0m\u001b[0mtolerance\u001b[0m\u001b[1;33m)\u001b[0m\u001b[1;33m\u001b[0m\u001b[1;33m\u001b[0m\u001b[0m\n",
      "\u001b[1;31mKeyError\u001b[0m: 0"
     ]
    }
   ],
   "source": [
    "# print (cart_df[\"sys_time\"].get_loc(mc[\"time\"][0], method='nearest'))\n",
    "print(cart_df[\"time\"].iloc[0])\n",
    "print(mc[\"time\"].iloc[0])\n",
    "\n",
    "result_index = cart_df['sys_time'].sub(mc[\"time\"].iloc[0]).abs().idxmin()\n",
    "\n",
    "cart_df.iloc[(cart_df['sys_time'] - mc[\"time\"].iloc[0]).abs().argsort()[0],:]\n",
    "# (cart_df['sys_time'] - mc[\"time\"][0]).abs()\n",
    "result_index"
   ]
  },
  {
   "cell_type": "code",
   "execution_count": null,
   "metadata": {
    "collapsed": false,
    "pycharm": {
     "name": "#%%\n"
    }
   },
   "outputs": [],
   "source": [
    "# cart_df[\"diff\"] = cart_df[\"y_val\"]- cart_df[\"center_x\"] - 0.34"
   ]
  },
  {
   "cell_type": "code",
   "execution_count": null,
   "metadata": {
    "collapsed": false,
    "pycharm": {
     "name": "#%%\n"
    }
   },
   "outputs": [],
   "source": [
    "rw = []\n",
    "vr = []\n",
    "for i in range(len(cart_df[\"av_rl\"])):\n",
    "    _vy = cart_df[\"cal_vy\"].iloc[i]\n",
    "    _vx = cart_df[\"cal_vx\"].iloc[i]\n",
    "    rw.append(np.arctan2(_vy, _vx))\n",
    "    vr.append(np.linalg.norm((_vx, _vy)))\n",
    "cart_df[\"rw\"] = rw\n",
    "cart_df[\"vr\"] = vr"
   ]
  },
  {
   "cell_type": "code",
   "execution_count": null,
   "metadata": {
    "collapsed": false,
    "pycharm": {
     "name": "#%%\n"
    }
   },
   "outputs": [],
   "source": [
    "cart_df[\"rw\"]"
   ]
  },
  {
   "cell_type": "code",
   "execution_count": null,
   "metadata": {
    "collapsed": false,
    "pycharm": {
     "name": "#%%\n"
    }
   },
   "outputs": [],
   "source": [
    "plt.plot(cart_df[\"rw\"])"
   ]
  },
  {
   "cell_type": "code",
   "execution_count": null,
   "metadata": {
    "collapsed": false,
    "pycharm": {
     "name": "#%%\n"
    }
   },
   "outputs": [],
   "source": [
    "cart_df[\"rw\"]"
   ]
  },
  {
   "cell_type": "code",
   "execution_count": null,
   "metadata": {
    "pycharm": {
     "name": "#%%\n"
    }
   },
   "outputs": [],
   "source": []
  }
 ],
 "metadata": {
  "kernelspec": {
   "display_name": "Python 3.7.11 ('py37t2')",
   "language": "python",
   "name": "python3"
  },
  "language_info": {
   "codemirror_mode": {
    "name": "ipython",
    "version": 3
   },
   "file_extension": ".py",
   "mimetype": "text/x-python",
   "name": "python",
   "nbconvert_exporter": "python",
   "pygments_lexer": "ipython3",
   "version": "3.7.11"
  },
  "vscode": {
   "interpreter": {
    "hash": "07cf8e4ec2f40bff32486e8c8f167870d55b0d1fe8557518ec615be206ad7cc6"
   }
  }
 },
 "nbformat": 4,
 "nbformat_minor": 0
}
