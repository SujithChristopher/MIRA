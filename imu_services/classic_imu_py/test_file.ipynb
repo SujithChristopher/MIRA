{
 "cells": [
  {
   "cell_type": "code",
   "execution_count": 14,
   "metadata": {},
   "outputs": [],
   "source": [
    "import pandas as pd\n",
    "import tqdm\n",
    "import numpy as np\n",
    "import matplotlib.pyplot as plt\n",
    "import os"
   ]
  },
  {
   "cell_type": "code",
   "execution_count": 12,
   "metadata": {},
   "outputs": [],
   "source": [
    "%matplotlib qt"
   ]
  },
  {
   "cell_type": "code",
   "execution_count": 5,
   "metadata": {},
   "outputs": [],
   "source": [
    "# mira_pth = r\"C:\\mira\\splitVideos\\SAMXXXXXXXXU010120000000XXXXXXXXX\\Session 14-02-22_17-37-17_197\" # exp 1\n",
    "mira_pth = r\"C:\\mira\\splitVideos\\SAMXXXXXXXXU010120000000XXXXXXXXX\\Session 14-02-22_17-59-42_104\" # exp 2\n",
    "\n",
    "ble2_1_pth = mira_pth+\"\\\\1_imu.csv\"\n",
    "ble2_2_pth = mira_pth+\"\\\\2_imu.csv\"\n",
    "file_name = \"hc05_transmission.csv\"\n",
    "# df = pd.read_csv(file_name, parse_dates=['sys_time'], index_col='sys_time')\n",
    "hc05 = pd.read_csv(file_name)\n",
    "ble_file = \"single_imu_ble5.csv\"\n",
    "ble_1 = pd.read_csv(ble_file)\n",
    "# df.index.name = \"time\"\n",
    "dual_1 = pd.read_csv(ble2_1_pth)\n",
    "dual_2 = pd.read_csv(ble2_2_pth)"
   ]
  },
  {
   "cell_type": "code",
   "execution_count": 6,
   "metadata": {},
   "outputs": [],
   "source": [
    "hc05[\"sys_time\"] = pd.to_datetime(hc05[\"sys_time\"])\n",
    "ble_1[\"sys_time\"] = pd.to_datetime(ble_1[\"sys_time\"])\n",
    "dual_1[\"sys_time\"] = pd.to_datetime(dual_1[\"sys_time\"])\n",
    "dual_2[\"sys_time\"] = pd.to_datetime(dual_2[\"sys_time\"])"
   ]
  },
  {
   "cell_type": "code",
   "execution_count": 7,
   "metadata": {},
   "outputs": [],
   "source": [
    "hctime = list(hc05[\"sys_time\"])\n",
    "tmstp = []\n",
    "for i in hctime:\n",
    "    tmstp.append((i - hctime[0]).total_seconds())\n",
    "\n",
    "hc05[\"imu_time\"] = tmstp\n",
    "# hc05[\"sys_time\"]"
   ]
  },
  {
   "cell_type": "code",
   "execution_count": 13,
   "metadata": {},
   "outputs": [
    {
     "data": {
      "text/plain": "<matplotlib.legend.Legend at 0x20fb94a1488>"
     },
     "execution_count": 13,
     "metadata": {},
     "output_type": "execute_result"
    }
   ],
   "source": [
    "plt.plot(hc05[\"sys_time\"].diff()[100:], label = \"hc05\")\n",
    "plt.plot(ble_1[\"sys_time\"].diff()[100:], label = \"single ble\")\n",
    "plt.plot(dual_1[\"sys_time\"].diff()[100:], label = \"dual ble 1\")\n",
    "plt.plot(dual_2[\"sys_time\"].diff()[100:], label = \"dual ble 2\")\n",
    "# plt.ylim(-2, 2)\n",
    "plt.legend()"
   ]
  },
  {
   "cell_type": "code",
   "execution_count": 9,
   "metadata": {},
   "outputs": [
    {
     "data": {
      "text/plain": "<matplotlib.legend.Legend at 0x20fbcb89688>"
     },
     "execution_count": 9,
     "metadata": {},
     "output_type": "execute_result"
    }
   ],
   "source": [
    "plt.plot(hc05[\"imu_time\"].diff(), label = \"hc05\") #hc05 this has system time difference in seconds\n",
    "plt.plot(ble_1[\"imu_time\"].diff(), label = \"single ble\")\n",
    "plt.plot(dual_1[\"imu_time\"].diff(), label = \"dual ble 1\")\n",
    "plt.plot(dual_2[\"imu_time\"].diff(), label = \"dual ble 2\")\n",
    "plt.legend()"
   ]
  },
  {
   "cell_type": "code",
   "execution_count": 10,
   "metadata": {},
   "outputs": [
    {
     "data": {
      "text/plain": "<matplotlib.legend.Legend at 0x20fb8f4bc08>"
     },
     "execution_count": 10,
     "metadata": {},
     "output_type": "execute_result"
    }
   ],
   "source": [
    "plt.hist(hc05[\"imu_time\"].diff(), label = \"hc05\", bins = 100)\n",
    "plt.hist(ble_1[\"imu_time\"].diff(), label = \"single ble\", bins = 100)\n",
    "plt.hist(dual_1[\"imu_time\"].diff(), label = \"dual ble 1\", bins = 100)\n",
    "plt.hist(dual_2[\"imu_time\"].diff(), label = \"dual ble 2\", bins = 100)\n",
    "plt.legend()"
   ]
  },
  {
   "cell_type": "code",
   "execution_count": 48,
   "metadata": {},
   "outputs": [
    {
     "data": {
      "text/plain": [
       "<matplotlib.legend.Legend at 0x1911a4c7448>"
      ]
     },
     "execution_count": 48,
     "metadata": {},
     "output_type": "execute_result"
    }
   ],
   "source": [
    "plt.plot(hc05[\"imu_time\"].diff(), label = \"hc05\")\n",
    "plt.plot(ble_1[\"imu_time\"].diff(), label = \"single ble\")\n",
    "# plt.plot(dual_1[\"imu_time\"].diff(), label = \"dual ble 1\")\n",
    "# plt.plot(dual_2[\"imu_time\"].diff(), label = \"dual ble 2\")\n",
    "\n",
    "plt.legend()"
   ]
  },
  {
   "cell_type": "code",
   "execution_count": 34,
   "metadata": {},
   "outputs": [],
   "source": [
    "# plt.plot(ble_1[\"sys_time\"].diff())\n",
    "# dual_2"
   ]
  },
  {
   "cell_type": "code",
   "execution_count": 10,
   "metadata": {},
   "outputs": [],
   "source": [
    "# dual_1\n",
    "# plt.close()"
   ]
  },
  {
   "cell_type": "code",
   "execution_count": 11,
   "metadata": {},
   "outputs": [
    {
     "data": {
      "text/plain": "[<matplotlib.lines.Line2D at 0x20fb8f5af88>]"
     },
     "execution_count": 11,
     "metadata": {},
     "output_type": "execute_result"
    }
   ],
   "source": [
    "plt.plot(ble_1[\"ax\"])"
   ]
  },
  {
   "cell_type": "code",
   "execution_count": null,
   "metadata": {},
   "outputs": [],
   "source": []
  }
 ],
 "metadata": {
  "interpreter": {
   "hash": "6729a4ba6b7fbdf0a8589db33f214377d3fb4b86db684dd36447026323300434"
  },
  "kernelspec": {
   "display_name": "Python 3.7.11 ('py37t2')",
   "language": "python",
   "name": "python3"
  },
  "language_info": {
   "codemirror_mode": {
    "name": "ipython",
    "version": 3
   },
   "file_extension": ".py",
   "mimetype": "text/x-python",
   "name": "python",
   "nbconvert_exporter": "python",
   "pygments_lexer": "ipython3",
   "version": "3.7.11"
  },
  "orig_nbformat": 4
 },
 "nbformat": 4,
 "nbformat_minor": 2
}