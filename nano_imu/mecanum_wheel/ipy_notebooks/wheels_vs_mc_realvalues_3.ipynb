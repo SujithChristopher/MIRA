{
 "cells": [
  {
   "cell_type": "code",
   "execution_count": 300,
   "outputs": [],
   "source": [
    "import matplotlib.pyplot as plt\n",
    "import numpy as np\n",
    "import pandas as pd\n",
    "from datetime import datetime, timedelta\n",
    "from pd_support import read_df_csv\n",
    "import scipy\n",
    "from scipy.spatial.transform import Rotation as R"
   ],
   "metadata": {
    "collapsed": false,
    "pycharm": {
     "name": "#%%\n"
    }
   }
  },
  {
   "cell_type": "code",
   "execution_count": 301,
   "outputs": [],
   "source": [
    "cart_df = pd.read_csv(\"..//straight_line.csv\")"
   ],
   "metadata": {
    "collapsed": false,
    "pycharm": {
     "name": "#%%\n"
    }
   }
  },
  {
   "cell_type": "code",
   "execution_count": 302,
   "outputs": [
    {
     "data": {
      "text/plain": "                        sys_time  e_fr  e_fl  e_rr  e_rl\n0     2022-06-14 15:03:48.326735     1     0     0     0\n1     2022-06-14 15:03:48.546016     1     0     0     0\n2     2022-06-14 15:03:48.546516     1     0     0     0\n3     2022-06-14 15:03:48.546516     1     0     0     0\n4     2022-06-14 15:03:48.546516     1     0     0     0\n...                          ...   ...   ...   ...   ...\n3561  2022-06-14 15:04:19.857543  3824  4045  3841  3901\n3562  2022-06-14 15:04:19.858041  3824  4045  3841  3901\n3563  2022-06-14 15:04:19.938882  3824  4045  3841  3901\n3564  2022-06-14 15:04:19.939315  3824  4045  3841  3901\n3565  2022-06-14 15:04:19.939315  3824  4045  3841  3901\n\n[3566 rows x 5 columns]",
      "text/html": "<div>\n<style scoped>\n    .dataframe tbody tr th:only-of-type {\n        vertical-align: middle;\n    }\n\n    .dataframe tbody tr th {\n        vertical-align: top;\n    }\n\n    .dataframe thead th {\n        text-align: right;\n    }\n</style>\n<table border=\"1\" class=\"dataframe\">\n  <thead>\n    <tr style=\"text-align: right;\">\n      <th></th>\n      <th>sys_time</th>\n      <th>e_fr</th>\n      <th>e_fl</th>\n      <th>e_rr</th>\n      <th>e_rl</th>\n    </tr>\n  </thead>\n  <tbody>\n    <tr>\n      <th>0</th>\n      <td>2022-06-14 15:03:48.326735</td>\n      <td>1</td>\n      <td>0</td>\n      <td>0</td>\n      <td>0</td>\n    </tr>\n    <tr>\n      <th>1</th>\n      <td>2022-06-14 15:03:48.546016</td>\n      <td>1</td>\n      <td>0</td>\n      <td>0</td>\n      <td>0</td>\n    </tr>\n    <tr>\n      <th>2</th>\n      <td>2022-06-14 15:03:48.546516</td>\n      <td>1</td>\n      <td>0</td>\n      <td>0</td>\n      <td>0</td>\n    </tr>\n    <tr>\n      <th>3</th>\n      <td>2022-06-14 15:03:48.546516</td>\n      <td>1</td>\n      <td>0</td>\n      <td>0</td>\n      <td>0</td>\n    </tr>\n    <tr>\n      <th>4</th>\n      <td>2022-06-14 15:03:48.546516</td>\n      <td>1</td>\n      <td>0</td>\n      <td>0</td>\n      <td>0</td>\n    </tr>\n    <tr>\n      <th>...</th>\n      <td>...</td>\n      <td>...</td>\n      <td>...</td>\n      <td>...</td>\n      <td>...</td>\n    </tr>\n    <tr>\n      <th>3561</th>\n      <td>2022-06-14 15:04:19.857543</td>\n      <td>3824</td>\n      <td>4045</td>\n      <td>3841</td>\n      <td>3901</td>\n    </tr>\n    <tr>\n      <th>3562</th>\n      <td>2022-06-14 15:04:19.858041</td>\n      <td>3824</td>\n      <td>4045</td>\n      <td>3841</td>\n      <td>3901</td>\n    </tr>\n    <tr>\n      <th>3563</th>\n      <td>2022-06-14 15:04:19.938882</td>\n      <td>3824</td>\n      <td>4045</td>\n      <td>3841</td>\n      <td>3901</td>\n    </tr>\n    <tr>\n      <th>3564</th>\n      <td>2022-06-14 15:04:19.939315</td>\n      <td>3824</td>\n      <td>4045</td>\n      <td>3841</td>\n      <td>3901</td>\n    </tr>\n    <tr>\n      <th>3565</th>\n      <td>2022-06-14 15:04:19.939315</td>\n      <td>3824</td>\n      <td>4045</td>\n      <td>3841</td>\n      <td>3901</td>\n    </tr>\n  </tbody>\n</table>\n<p>3566 rows × 5 columns</p>\n</div>"
     },
     "execution_count": 302,
     "metadata": {},
     "output_type": "execute_result"
    }
   ],
   "source": [
    "cart_df"
   ],
   "metadata": {
    "collapsed": false,
    "pycharm": {
     "name": "#%%\n"
    }
   }
  },
  {
   "cell_type": "code",
   "execution_count": 303,
   "outputs": [
    {
     "data": {
      "text/plain": "datetime.datetime(2022, 6, 14, 15, 3, 52, 98000)"
     },
     "execution_count": 303,
     "metadata": {},
     "output_type": "execute_result"
    }
   ],
   "source": [
    "mc, mc_dt = read_df_csv(\"..//linear_forward_mc.csv\")\n",
    "mc_dt"
   ],
   "metadata": {
    "collapsed": false,
    "pycharm": {
     "name": "#%%\n"
    }
   }
  },
  {
   "cell_type": "code",
   "execution_count": 304,
   "outputs": [
    {
     "data": {
      "text/plain": "numpy.float64"
     },
     "execution_count": 304,
     "metadata": {},
     "output_type": "execute_result"
    }
   ],
   "source": [
    "type(mc[\"center_y\"][0])"
   ],
   "metadata": {
    "collapsed": false,
    "pycharm": {
     "name": "#%%\n"
    }
   }
  },
  {
   "cell_type": "code",
   "execution_count": 305,
   "outputs": [],
   "source": [
    "mc = mc.rename(columns={\"time\":\"seconds\"})"
   ],
   "metadata": {
    "collapsed": false,
    "pycharm": {
     "name": "#%%\n"
    }
   }
  },
  {
   "cell_type": "code",
   "execution_count": 306,
   "outputs": [],
   "source": [
    "_t = []\n",
    "for i in list(mc[\"seconds\"]):\n",
    "    _t.append(mc_dt + timedelta(0,float(i)))\n",
    "\n",
    "mc[\"time\"] = _t"
   ],
   "metadata": {
    "collapsed": false,
    "pycharm": {
     "name": "#%%\n"
    }
   }
  },
  {
   "cell_type": "code",
   "execution_count": 307,
   "outputs": [
    {
     "data": {
      "text/plain": "      frame  seconds  center_x  center_y  center_z     org_x     org_y  \\\n0         0     0.00  0.045857  0.068821 -0.081540  0.003887  0.069184   \n1         1     0.01  0.045868  0.068813 -0.081547  0.003862  0.069154   \n2         2     0.02  0.045856  0.068817 -0.081544  0.003880  0.069194   \n3         3     0.03  0.045849  0.068824 -0.081547  0.003879  0.069186   \n4         4     0.04  0.045851  0.068822 -0.081540  0.003875  0.069197   \n...     ...      ...       ...       ...       ...       ...       ...   \n2570   2570    25.70  0.054029  0.068274  0.209136  0.009873  0.068308   \n2571   2571    25.71  0.054021  0.068267  0.209126  0.009868  0.068302   \n2572   2572    25.72  0.054045  0.068269  0.209130  0.009867  0.068299   \n2573   2573    25.73  0.054040  0.068284  0.209123  0.009869  0.068299   \n2574   2574    25.74  0.054028  0.068278  0.209126  0.009868  0.068299   \n\n         org_z    xdir_x    xdir_y    xdir_z    zdir_x    zdir_y    zdir_z  \\\n0    -0.146124  0.083270  0.066830 -0.146643  0.005686  0.069255 -0.018596   \n1    -0.146151  0.083285  0.066831 -0.146648  0.005683  0.069261 -0.018592   \n2    -0.146121  0.083275  0.066833 -0.146650  0.005672  0.069261 -0.018588   \n3    -0.146123  0.083275  0.066815 -0.146652  0.005674  0.069258 -0.018586   \n4    -0.146128  0.083278  0.066837 -0.146640  0.005688  0.069259 -0.018586   \n...        ...       ...       ...       ...       ...       ...       ...   \n2570  0.145931  0.089050  0.066059  0.143031  0.016038  0.068579  0.273257   \n2571  0.145933  0.089045  0.066047  0.143030  0.016037  0.068582  0.273258   \n2572  0.145933  0.089044  0.066053  0.143029  0.016028  0.068604  0.273261   \n2573  0.145941  0.089042  0.066056  0.143031  0.016038  0.068585  0.273253   \n2574  0.145942  0.089048  0.066050  0.143033  0.016018  0.068599  0.273267   \n\n                        time  \n0    2022-06-14 15:03:52.098  \n1    2022-06-14 15:03:52.108  \n2    2022-06-14 15:03:52.118  \n3    2022-06-14 15:03:52.128  \n4    2022-06-14 15:03:52.138  \n...                      ...  \n2570 2022-06-14 15:04:17.798  \n2571 2022-06-14 15:04:17.808  \n2572 2022-06-14 15:04:17.818  \n2573 2022-06-14 15:04:17.828  \n2574 2022-06-14 15:04:17.838  \n\n[2575 rows x 15 columns]",
      "text/html": "<div>\n<style scoped>\n    .dataframe tbody tr th:only-of-type {\n        vertical-align: middle;\n    }\n\n    .dataframe tbody tr th {\n        vertical-align: top;\n    }\n\n    .dataframe thead th {\n        text-align: right;\n    }\n</style>\n<table border=\"1\" class=\"dataframe\">\n  <thead>\n    <tr style=\"text-align: right;\">\n      <th></th>\n      <th>frame</th>\n      <th>seconds</th>\n      <th>center_x</th>\n      <th>center_y</th>\n      <th>center_z</th>\n      <th>org_x</th>\n      <th>org_y</th>\n      <th>org_z</th>\n      <th>xdir_x</th>\n      <th>xdir_y</th>\n      <th>xdir_z</th>\n      <th>zdir_x</th>\n      <th>zdir_y</th>\n      <th>zdir_z</th>\n      <th>time</th>\n    </tr>\n  </thead>\n  <tbody>\n    <tr>\n      <th>0</th>\n      <td>0</td>\n      <td>0.00</td>\n      <td>0.045857</td>\n      <td>0.068821</td>\n      <td>-0.081540</td>\n      <td>0.003887</td>\n      <td>0.069184</td>\n      <td>-0.146124</td>\n      <td>0.083270</td>\n      <td>0.066830</td>\n      <td>-0.146643</td>\n      <td>0.005686</td>\n      <td>0.069255</td>\n      <td>-0.018596</td>\n      <td>2022-06-14 15:03:52.098</td>\n    </tr>\n    <tr>\n      <th>1</th>\n      <td>1</td>\n      <td>0.01</td>\n      <td>0.045868</td>\n      <td>0.068813</td>\n      <td>-0.081547</td>\n      <td>0.003862</td>\n      <td>0.069154</td>\n      <td>-0.146151</td>\n      <td>0.083285</td>\n      <td>0.066831</td>\n      <td>-0.146648</td>\n      <td>0.005683</td>\n      <td>0.069261</td>\n      <td>-0.018592</td>\n      <td>2022-06-14 15:03:52.108</td>\n    </tr>\n    <tr>\n      <th>2</th>\n      <td>2</td>\n      <td>0.02</td>\n      <td>0.045856</td>\n      <td>0.068817</td>\n      <td>-0.081544</td>\n      <td>0.003880</td>\n      <td>0.069194</td>\n      <td>-0.146121</td>\n      <td>0.083275</td>\n      <td>0.066833</td>\n      <td>-0.146650</td>\n      <td>0.005672</td>\n      <td>0.069261</td>\n      <td>-0.018588</td>\n      <td>2022-06-14 15:03:52.118</td>\n    </tr>\n    <tr>\n      <th>3</th>\n      <td>3</td>\n      <td>0.03</td>\n      <td>0.045849</td>\n      <td>0.068824</td>\n      <td>-0.081547</td>\n      <td>0.003879</td>\n      <td>0.069186</td>\n      <td>-0.146123</td>\n      <td>0.083275</td>\n      <td>0.066815</td>\n      <td>-0.146652</td>\n      <td>0.005674</td>\n      <td>0.069258</td>\n      <td>-0.018586</td>\n      <td>2022-06-14 15:03:52.128</td>\n    </tr>\n    <tr>\n      <th>4</th>\n      <td>4</td>\n      <td>0.04</td>\n      <td>0.045851</td>\n      <td>0.068822</td>\n      <td>-0.081540</td>\n      <td>0.003875</td>\n      <td>0.069197</td>\n      <td>-0.146128</td>\n      <td>0.083278</td>\n      <td>0.066837</td>\n      <td>-0.146640</td>\n      <td>0.005688</td>\n      <td>0.069259</td>\n      <td>-0.018586</td>\n      <td>2022-06-14 15:03:52.138</td>\n    </tr>\n    <tr>\n      <th>...</th>\n      <td>...</td>\n      <td>...</td>\n      <td>...</td>\n      <td>...</td>\n      <td>...</td>\n      <td>...</td>\n      <td>...</td>\n      <td>...</td>\n      <td>...</td>\n      <td>...</td>\n      <td>...</td>\n      <td>...</td>\n      <td>...</td>\n      <td>...</td>\n      <td>...</td>\n    </tr>\n    <tr>\n      <th>2570</th>\n      <td>2570</td>\n      <td>25.70</td>\n      <td>0.054029</td>\n      <td>0.068274</td>\n      <td>0.209136</td>\n      <td>0.009873</td>\n      <td>0.068308</td>\n      <td>0.145931</td>\n      <td>0.089050</td>\n      <td>0.066059</td>\n      <td>0.143031</td>\n      <td>0.016038</td>\n      <td>0.068579</td>\n      <td>0.273257</td>\n      <td>2022-06-14 15:04:17.798</td>\n    </tr>\n    <tr>\n      <th>2571</th>\n      <td>2571</td>\n      <td>25.71</td>\n      <td>0.054021</td>\n      <td>0.068267</td>\n      <td>0.209126</td>\n      <td>0.009868</td>\n      <td>0.068302</td>\n      <td>0.145933</td>\n      <td>0.089045</td>\n      <td>0.066047</td>\n      <td>0.143030</td>\n      <td>0.016037</td>\n      <td>0.068582</td>\n      <td>0.273258</td>\n      <td>2022-06-14 15:04:17.808</td>\n    </tr>\n    <tr>\n      <th>2572</th>\n      <td>2572</td>\n      <td>25.72</td>\n      <td>0.054045</td>\n      <td>0.068269</td>\n      <td>0.209130</td>\n      <td>0.009867</td>\n      <td>0.068299</td>\n      <td>0.145933</td>\n      <td>0.089044</td>\n      <td>0.066053</td>\n      <td>0.143029</td>\n      <td>0.016028</td>\n      <td>0.068604</td>\n      <td>0.273261</td>\n      <td>2022-06-14 15:04:17.818</td>\n    </tr>\n    <tr>\n      <th>2573</th>\n      <td>2573</td>\n      <td>25.73</td>\n      <td>0.054040</td>\n      <td>0.068284</td>\n      <td>0.209123</td>\n      <td>0.009869</td>\n      <td>0.068299</td>\n      <td>0.145941</td>\n      <td>0.089042</td>\n      <td>0.066056</td>\n      <td>0.143031</td>\n      <td>0.016038</td>\n      <td>0.068585</td>\n      <td>0.273253</td>\n      <td>2022-06-14 15:04:17.828</td>\n    </tr>\n    <tr>\n      <th>2574</th>\n      <td>2574</td>\n      <td>25.74</td>\n      <td>0.054028</td>\n      <td>0.068278</td>\n      <td>0.209126</td>\n      <td>0.009868</td>\n      <td>0.068299</td>\n      <td>0.145942</td>\n      <td>0.089048</td>\n      <td>0.066050</td>\n      <td>0.143033</td>\n      <td>0.016018</td>\n      <td>0.068599</td>\n      <td>0.273267</td>\n      <td>2022-06-14 15:04:17.838</td>\n    </tr>\n  </tbody>\n</table>\n<p>2575 rows × 15 columns</p>\n</div>"
     },
     "execution_count": 307,
     "metadata": {},
     "output_type": "execute_result"
    }
   ],
   "source": [
    "mc"
   ],
   "metadata": {
    "collapsed": false,
    "pycharm": {
     "name": "#%%\n"
    }
   }
  },
  {
   "cell_type": "code",
   "execution_count": 308,
   "outputs": [],
   "source": [
    "mc[\"time\"] = pd.to_datetime(mc[\"time\"])"
   ],
   "metadata": {
    "collapsed": false,
    "pycharm": {
     "name": "#%%\n"
    }
   }
  },
  {
   "cell_type": "code",
   "execution_count": 309,
   "outputs": [
    {
     "data": {
      "text/plain": "0.003887"
     },
     "execution_count": 309,
     "metadata": {},
     "output_type": "execute_result"
    }
   ],
   "source": [
    "\"\"\"getting initial values of motion capture data\"\"\"\n",
    "\n",
    "marker_cen = np.array(mc[[\"center_x\", \"center_y\", \"center_z\"]].iloc[0]).T\n",
    "marker_xvec = np.array(mc[[\"xdir_x\", \"xdir_y\", \"xdir_z\"]].iloc[0]).T\n",
    "marker_zvec = np.array(mc[[\"zdir_x\", \"zdir_y\", \"zdir_z\"]].iloc[0]).T\n",
    "marker_org = np.array(mc[[\"org_x\", \"org_y\", \"org_z\"]].iloc[0]).T\n",
    "marker_org[0]"
   ],
   "metadata": {
    "collapsed": false,
    "pycharm": {
     "name": "#%%\n"
    }
   }
  },
  {
   "cell_type": "code",
   "execution_count": 310,
   "outputs": [],
   "source": [
    "v1 = marker_xvec - marker_org #v1\n",
    "v2 = marker_zvec - marker_org #v2\n",
    "\n",
    "v1 = v1.reshape(3,1)\n",
    "v2 = v2.reshape(3,1)\n",
    "v3 = marker_org.reshape(3,1)"
   ],
   "metadata": {
    "collapsed": false,
    "pycharm": {
     "name": "#%%\n"
    }
   }
  },
  {
   "cell_type": "code",
   "execution_count": 311,
   "outputs": [],
   "source": [
    "def calculate_rotmat(xdir,zdir,org):\n",
    "    \"\"\"\n",
    "    this function calculates rotation matrix\n",
    "    \"\"\"\n",
    "    v1 = xdir - org #v1\n",
    "    v2 = zdir - org #v2\n",
    "\n",
    "    vxnorm = v1/np.linalg.norm(v1)\n",
    "\n",
    "    vzcap = v2 - (vxnorm.T @ v2) * vxnorm\n",
    "    vznorm = vzcap/ np.linalg.norm(vzcap)\n",
    "\n",
    "    vynorm = np.cross(vznorm.T[0], vxnorm.T[0]).reshape(3,1)\n",
    "    rotMat = np.hstack((vxnorm, vynorm, vznorm))\n",
    "    return rotMat"
   ],
   "metadata": {
    "collapsed": false,
    "pycharm": {
     "name": "#%%\n"
    }
   }
  },
  {
   "cell_type": "code",
   "execution_count": 312,
   "outputs": [
    {
     "data": {
      "text/plain": "array([[ 0.42191585,  0.40244823, -0.81241765],\n       [-0.39979623,  0.8868394 ,  0.23168696],\n       [ 0.81372599,  0.22704911,  0.53506888]])"
     },
     "execution_count": 312,
     "metadata": {},
     "output_type": "execute_result"
    }
   ],
   "source": [
    "\"\"\"getting initial rot mat in mc data\"\"\"\n",
    "\n",
    "rot_mat = calculate_rotmat(v1, v2, v3)\n",
    "rot_mat"
   ],
   "metadata": {
    "collapsed": false,
    "pycharm": {
     "name": "#%%\n"
    }
   }
  },
  {
   "cell_type": "code",
   "execution_count": 313,
   "outputs": [],
   "source": [
    "temp_list = []\n",
    "for i in range(len(mc[\"xdir_x\"])):\n",
    "    center_val =  np.array(mc[[\"center_x\", \"center_y\", \"center_z\"]].iloc[i])\n",
    "    center_val = center_val.reshape(3,1)\n",
    "    transformed_center = rot_mat.T @ center_val + v3\n",
    "    transformed_center = transformed_center.T[0]\n",
    "    temp_list.append(transformed_center)\n",
    "mc[[\"cen_x\", \"cen_y\", \"cen_z\"]] = temp_list"
   ],
   "metadata": {
    "collapsed": false,
    "pycharm": {
     "name": "#%%\n"
    }
   }
  },
  {
   "cell_type": "code",
   "execution_count": 314,
   "outputs": [
    {
     "data": {
      "text/plain": "<matplotlib.legend.Legend at 0x2616377ccc8>"
     },
     "execution_count": 314,
     "metadata": {},
     "output_type": "execute_result"
    },
    {
     "data": {
      "text/plain": "<Figure size 432x288 with 1 Axes>",
      "image/png": "[encoded data removed]"
     },
     "metadata": {
      "needs_background": "light"
     },
     "output_type": "display_data"
    }
   ],
   "source": [
    "plt.plot(mc[\"time\"], mc[\"cen_x\"]*100, label=\"center x\")\n",
    "plt.plot(mc[\"time\"], mc[\"cen_y\"]*100, label=\"center y\")\n",
    "plt.plot(mc[\"time\"], mc[\"cen_z\"]*100, label=\"center z\")\n",
    "plt.legend()"
   ],
   "metadata": {
    "collapsed": false,
    "pycharm": {
     "name": "#%%\n"
    }
   }
  },
  {
   "cell_type": "code",
   "execution_count": 315,
   "outputs": [
    {
     "data": {
      "text/plain": "                        sys_time  e_fr  e_fl  e_rr  e_rl\n0     2022-06-14 15:03:48.326735     0     0     0     0\n1     2022-06-14 15:03:48.546016     0     0     0     0\n2     2022-06-14 15:03:48.546516     0     0     0     0\n3     2022-06-14 15:03:48.546516     0     0     0     0\n4     2022-06-14 15:03:48.546516     0     0     0     0\n...                          ...   ...   ...   ...   ...\n3561  2022-06-14 15:04:19.857543  3823  4045  3841  3901\n3562  2022-06-14 15:04:19.858041  3823  4045  3841  3901\n3563  2022-06-14 15:04:19.938882  3823  4045  3841  3901\n3564  2022-06-14 15:04:19.939315  3823  4045  3841  3901\n3565  2022-06-14 15:04:19.939315  3823  4045  3841  3901\n\n[3566 rows x 5 columns]",
      "text/html": "<div>\n<style scoped>\n    .dataframe tbody tr th:only-of-type {\n        vertical-align: middle;\n    }\n\n    .dataframe tbody tr th {\n        vertical-align: top;\n    }\n\n    .dataframe thead th {\n        text-align: right;\n    }\n</style>\n<table border=\"1\" class=\"dataframe\">\n  <thead>\n    <tr style=\"text-align: right;\">\n      <th></th>\n      <th>sys_time</th>\n      <th>e_fr</th>\n      <th>e_fl</th>\n      <th>e_rr</th>\n      <th>e_rl</th>\n    </tr>\n  </thead>\n  <tbody>\n    <tr>\n      <th>0</th>\n      <td>2022-06-14 15:03:48.326735</td>\n      <td>0</td>\n      <td>0</td>\n      <td>0</td>\n      <td>0</td>\n    </tr>\n    <tr>\n      <th>1</th>\n      <td>2022-06-14 15:03:48.546016</td>\n      <td>0</td>\n      <td>0</td>\n      <td>0</td>\n      <td>0</td>\n    </tr>\n    <tr>\n      <th>2</th>\n      <td>2022-06-14 15:03:48.546516</td>\n      <td>0</td>\n      <td>0</td>\n      <td>0</td>\n      <td>0</td>\n    </tr>\n    <tr>\n      <th>3</th>\n      <td>2022-06-14 15:03:48.546516</td>\n      <td>0</td>\n      <td>0</td>\n      <td>0</td>\n      <td>0</td>\n    </tr>\n    <tr>\n      <th>4</th>\n      <td>2022-06-14 15:03:48.546516</td>\n      <td>0</td>\n      <td>0</td>\n      <td>0</td>\n      <td>0</td>\n    </tr>\n    <tr>\n      <th>...</th>\n      <td>...</td>\n      <td>...</td>\n      <td>...</td>\n      <td>...</td>\n      <td>...</td>\n    </tr>\n    <tr>\n      <th>3561</th>\n      <td>2022-06-14 15:04:19.857543</td>\n      <td>3823</td>\n      <td>4045</td>\n      <td>3841</td>\n      <td>3901</td>\n    </tr>\n    <tr>\n      <th>3562</th>\n      <td>2022-06-14 15:04:19.858041</td>\n      <td>3823</td>\n      <td>4045</td>\n      <td>3841</td>\n      <td>3901</td>\n    </tr>\n    <tr>\n      <th>3563</th>\n      <td>2022-06-14 15:04:19.938882</td>\n      <td>3823</td>\n      <td>4045</td>\n      <td>3841</td>\n      <td>3901</td>\n    </tr>\n    <tr>\n      <th>3564</th>\n      <td>2022-06-14 15:04:19.939315</td>\n      <td>3823</td>\n      <td>4045</td>\n      <td>3841</td>\n      <td>3901</td>\n    </tr>\n    <tr>\n      <th>3565</th>\n      <td>2022-06-14 15:04:19.939315</td>\n      <td>3823</td>\n      <td>4045</td>\n      <td>3841</td>\n      <td>3901</td>\n    </tr>\n  </tbody>\n</table>\n<p>3566 rows × 5 columns</p>\n</div>"
     },
     "execution_count": 315,
     "metadata": {},
     "output_type": "execute_result"
    }
   ],
   "source": [
    "\"\"\"resetting cart values to zero\"\"\"\n",
    "cart_df[\"e_fr\"] = cart_df[\"e_fr\"]- cart_df[\"e_fr\"].iloc[0]\n",
    "cart_df[\"e_fl\"] = cart_df[\"e_fl\"]- cart_df[\"e_fl\"].iloc[0]\n",
    "cart_df[\"e_rr\"] = cart_df[\"e_rr\"]- cart_df[\"e_rr\"].iloc[0]\n",
    "cart_df[\"e_rl\"] = cart_df[\"e_rl\"]- cart_df[\"e_rl\"].iloc[0]\n",
    "\n",
    "cart_df"
   ],
   "metadata": {
    "collapsed": false,
    "pycharm": {
     "name": "#%%\n"
    }
   }
  },
  {
   "cell_type": "code",
   "execution_count": 316,
   "outputs": [],
   "source": [
    "mils = np.arange(0, len(cart_df[\"e_fr\"])*10, 10)\n",
    "cart_df[\"mils\"] = mils\n",
    "cart_df[\"sys_time\"] = pd.to_datetime(cart_df[\"sys_time\"])"
   ],
   "metadata": {
    "collapsed": false,
    "pycharm": {
     "name": "#%%\n"
    }
   }
  },
  {
   "cell_type": "markdown",
   "source": [
    "These are the parameters of the cart\n",
    "\n",
    "Diameter = 95 mm\n",
    "radius = 47.5\n",
    "wheel thickness = 45 mm\n",
    "gap between wheel and chassis = 6.5 mm\n",
    "angle between center of chassis and z-dir vector = 51.21 degrees\n",
    "distance between the wheel = 158 mm\n",
    "distance between the wheel and the center of the robot = 101.36 (li)\n"
   ],
   "metadata": {
    "collapsed": false,
    "pycharm": {
     "name": "#%% md\n"
    }
   }
  },
  {
   "cell_type": "code",
   "execution_count": 317,
   "outputs": [],
   "source": [
    "\"\"\"circumfrence of the wheel\"\"\"\n",
    "\n",
    "cir_wheel = np.degrees(2*np.pi*(47.5/1000))\n",
    "cir_wheel\n",
    "radius = 47.5/1000\n",
    "\n",
    "lx = 79 #half of the distance between the wheels\n",
    "ly = 122.5/2\n",
    "\n",
    "lx = lx/1000\n",
    "ly = ly/1000"
   ],
   "metadata": {
    "collapsed": false,
    "pycharm": {
     "name": "#%%\n"
    }
   }
  },
  {
   "cell_type": "markdown",
   "source": [
    "The encoder values will give 4000 values per revolution\n",
    "360/4000 = 0.09 degrees per encoder rotation value"
   ],
   "metadata": {
    "collapsed": false,
    "pycharm": {
     "name": "#%% md\n"
    }
   }
  },
  {
   "cell_type": "code",
   "execution_count": 318,
   "outputs": [
    {
     "data": {
      "text/plain": "0       0.0\n1       0.0\n2       0.0\n3       0.0\n4       0.0\n       ... \n3561    0.0\n3562    0.0\n3563    0.0\n3564    0.0\n3565    0.0\nName: av_fl, Length: 3566, dtype: float64"
     },
     "execution_count": 318,
     "metadata": {},
     "output_type": "execute_result"
    }
   ],
   "source": [
    "\"\"\" angular velocity\"\"\"\n",
    "cart_df[\"av_fr\"] = (cart_df[\"e_fr\"]*0.09).diff()/0.01\n",
    "cart_df[\"av_fl\"] = (cart_df[\"e_fl\"]*0.09).diff()/0.01\n",
    "cart_df[\"av_rr\"] = (cart_df[\"e_rr\"]*0.09).diff()/0.01\n",
    "cart_df[\"av_rl\"] = (cart_df[\"e_rl\"]*0.09).diff()/0.01\n",
    "cart_df['av_fr'] = cart_df[\"av_fr\"].fillna(0)\n",
    "cart_df['av_fl'] = cart_df[\"av_fl\"].fillna(0)\n",
    "cart_df['av_rr'] = cart_df[\"av_rr\"].fillna(0)\n",
    "cart_df['av_rl'] = cart_df[\"av_rl\"].fillna(0)\n",
    "\n",
    "#converting them to radians\n",
    "cart_df['av_fr'] = cart_df[\"av_fr\"]* np.pi/180\n",
    "cart_df['av_fl'] = cart_df[\"av_fl\"]* np.pi/180\n",
    "cart_df['av_rr'] = cart_df[\"av_rr\"]* np.pi/180\n",
    "cart_df['av_rl'] = cart_df[\"av_rl\"]* np.pi/180\n",
    "\n",
    "cart_df[\"av_fl\"]"
   ],
   "metadata": {
    "collapsed": false,
    "pycharm": {
     "name": "#%%\n"
    }
   }
  },
  {
   "cell_type": "code",
   "execution_count": 319,
   "outputs": [],
   "source": [
    "g1 = np.radians(-51.21)\n",
    "g2 = np.radians(51.21)\n",
    "\n",
    "g1 = np.radians(-np.pi/2)\n",
    "g2 = np.radians(np.pi/2)\n",
    "\n",
    "g3 = g2\n",
    "g4 = g1\n",
    "\n",
    "\n",
    "b1 = np.pi/4\n",
    "b2 = -np.pi/4\n",
    "b3 = b1\n",
    "b4 = b2\n",
    "\n",
    "\n",
    "a1 = np.pi/4\n",
    "a2 = -np.pi/4\n",
    "a3 = 3*np.pi/4\n",
    "a4 = -3*np.pi/4\n",
    "\n",
    "\n",
    "li = 101.36/1000"
   ],
   "metadata": {
    "collapsed": false,
    "pycharm": {
     "name": "#%%\n"
    }
   }
  },
  {
   "cell_type": "code",
   "execution_count": 320,
   "outputs": [
    {
     "data": {
      "text/plain": "array([[ 4.47561242e-04, -4.47561242e-04, -4.72799786e-04,\n         4.72799786e-04],\n       [ 8.73787444e-04,  8.73787444e-04, -2.39613824e-05,\n        -2.39613824e-05],\n       [ 5.92854944e-03,  5.92854944e-03,  6.26286783e-03,\n         6.26286783e-03]])"
     },
     "execution_count": 320,
     "metadata": {},
     "output_type": "execute_result"
    }
   ],
   "source": [
    "t = (-1/radius)*np.array([[np.cos(b1 - g1)/ np.sin(g1), np.sin(b1 - g1)/np.sin(g1), li * np.sin(b1 - g1 - a1)/np.sin(g1)],\n",
    "                         [np.cos(b2 - g2)/ np.sin(g2), np.sin(b2 - g2)/np.sin(g2), li * np.sin(b2 - g2 - a2)/np.sin(g2)],\n",
    "                         [np.cos(b3 - g3)/ np.sin(g3), np.sin(b3 - g3)/np.sin(g3), li * np.sin(b3 - g3 - a3)/np.sin(g3)],\n",
    "                         [np.cos(b4 - g4)/ np.sin(g4), np.sin(b4 - g4)/np.sin(g4), li * np.sin(b4 - g4 - a4)/np.sin(g4)]]\n",
    "                         )\n",
    "t\n",
    "pseudo_t = np.linalg.pinv(t)\n",
    "pseudo_t"
   ],
   "metadata": {
    "collapsed": false,
    "pycharm": {
     "name": "#%%\n"
    }
   }
  },
  {
   "cell_type": "code",
   "execution_count": 321,
   "outputs": [
    {
     "data": {
      "text/plain": "array([[0., 0., 0.]])"
     },
     "execution_count": 321,
     "metadata": {},
     "output_type": "execute_result"
    }
   ],
   "source": [
    "val = pseudo_t @ np.array([[cart_df[\"av_fr\"][0]],[cart_df[\"av_fl\"][0]], [cart_df[\"av_rr\"][0]], [cart_df[\"av_rl\"][0]]])\n",
    "val.T"
   ],
   "metadata": {
    "collapsed": false,
    "pycharm": {
     "name": "#%%\n"
    }
   }
  },
  {
   "cell_type": "code",
   "execution_count": 322,
   "outputs": [
    {
     "data": {
      "text/plain": "array([[0.],\n       [0.],\n       [0.],\n       [0.]])"
     },
     "execution_count": 322,
     "metadata": {},
     "output_type": "execute_result"
    }
   ],
   "source": [
    "np.array([[cart_df[\"av_fr\"][0]],[cart_df[\"av_fl\"][0]], [cart_df[\"av_rr\"][0]], [cart_df[\"av_rl\"][0]]])"
   ],
   "metadata": {
    "collapsed": false,
    "pycharm": {
     "name": "#%%\n"
    }
   }
  },
  {
   "cell_type": "code",
   "execution_count": 323,
   "outputs": [],
   "source": [
    "_val = []\n",
    "for i in range(len(cart_df[\"e_fl\"])):\n",
    "    _v = pseudo_t @ np.array([[cart_df[\"av_fr\"][i]],[cart_df[\"av_fl\"][i]], [cart_df[\"av_rr\"][i]], [cart_df[\"av_rl\"][i]]])\n",
    "    _val.append(_v.T[0])\n",
    "\n",
    "cart_df[[\"cal_vx\", \"cal_vy\", \"cal_w\"]] = _val\n",
    "# _val"
   ],
   "metadata": {
    "collapsed": false,
    "pycharm": {
     "name": "#%%\n"
    }
   }
  },
  {
   "cell_type": "code",
   "execution_count": 324,
   "outputs": [],
   "source": [
    "\"\"\"finding vx, vy, w\"\"\"\n",
    "\n",
    "cart_df[\"vx\"] = (cart_df[\"av_fl\"] + cart_df[\"av_fr\"] + cart_df[\"av_rl\"] + cart_df[\"av_rr\"])*(radius/4)\n",
    "cart_df[\"vy\"] = (- cart_df[\"av_fl\"] + cart_df[\"av_fr\"] + cart_df[\"av_rl\"] - cart_df[\"av_rr\"])*(radius/4)\n",
    "cart_df[\"w\"] = (- cart_df[\"av_fl\"] + cart_df[\"av_fr\"] - cart_df[\"av_rl\"] + cart_df[\"av_rr\"])*(radius/(4*(lx + ly)))"
   ],
   "metadata": {
    "collapsed": false,
    "pycharm": {
     "name": "#%%\n"
    }
   }
  },
  {
   "cell_type": "code",
   "execution_count": 325,
   "outputs": [],
   "source": [
    "\"\"\"calculating displacement\n",
    "s=(1/2)* (v+u)t\n",
    "v = current velocityn\n",
    "u = initial velocity\n",
    "t = time\n",
    "s = displacement\n",
    "\"\"\"\n",
    "\n",
    "_xval = []\n",
    "_yval = []\n",
    "xf_disp = 0\n",
    "yf_disp = 0\n",
    "for i in range(len(cart_df[\"vx\"])):\n",
    "    if i == 0:\n",
    "        _xval.append(0)\n",
    "        _yval.append(0)\n",
    "    else:\n",
    "        x_disp = 0.5*(cart_df[\"vx\"].iloc[i] + cart_df[\"vx\"].iloc[i-1])*0.01\n",
    "        y_disp = 0.5*(cart_df[\"vy\"].iloc[i] + cart_df[\"vy\"].iloc[i-1])*0.01\n",
    "        # print(x_disp)\n",
    "        xf_disp = xf_disp+x_disp\n",
    "        yf_disp = yf_disp+yf_disp\n",
    "        _xval.append(xf_disp)\n",
    "        _yval.append(yf_disp)\n",
    "\n",
    "cart_df[\"x_val\"] = _xval\n",
    "cart_df[\"y_val\"] = _yval"
   ],
   "metadata": {
    "collapsed": false,
    "pycharm": {
     "name": "#%%\n"
    }
   }
  },
  {
   "cell_type": "code",
   "execution_count": 326,
   "outputs": [],
   "source": [
    "\"\"\"calculating displacement for calculated coordinates\n",
    "\n",
    "\"\"\"\n",
    "_xval = []\n",
    "_yval = []\n",
    "xf_disp = 0\n",
    "yf_disp = 0\n",
    "for i in range(len(cart_df[\"vx\"])):\n",
    "    if i == 0:\n",
    "        _xval.append(0)\n",
    "        _yval.append(0)\n",
    "    else:\n",
    "        x_disp = 0.5*(cart_df[\"cal_vx\"].iloc[i] + cart_df[\"cal_vx\"].iloc[i-1])*0.01\n",
    "        y_disp = 0.5*(cart_df[\"cal_vy\"].iloc[i] + cart_df[\"cal_vy\"].iloc[i-1])*0.01\n",
    "        # print(x_disp)\n",
    "        xf_disp = xf_disp+x_disp\n",
    "        yf_disp = yf_disp+yf_disp\n",
    "        _xval.append(xf_disp)\n",
    "        _yval.append(yf_disp)\n",
    "\n",
    "cart_df[\"cal_x\"] = _xval\n",
    "cart_df[\"cal_y\"] = _yval\n"
   ],
   "metadata": {
    "collapsed": false,
    "pycharm": {
     "name": "#%%\n"
    }
   }
  },
  {
   "cell_type": "code",
   "execution_count": 327,
   "outputs": [
    {
     "data": {
      "text/plain": "<matplotlib.legend.Legend at 0x26163023388>"
     },
     "execution_count": 327,
     "metadata": {},
     "output_type": "execute_result"
    },
    {
     "data": {
      "text/plain": "<Figure size 432x288 with 1 Axes>",
      "image/png": "[encoded data removed]"
     },
     "metadata": {
      "needs_background": "light"
     },
     "output_type": "display_data"
    }
   ],
   "source": [
    "# plt.plot(cart_df[\"sys_time\"], cart_df[\"x_val\"], label = \"ideal x\")\n",
    "plt.plot(cart_df[\"sys_time\"],cart_df[\"cal_x\"], label = \"calculated x\")\n",
    "# plt.plot(cart_df[\"sys_time\"], cart_df[\"x_val\"], label = \"idal x\")\n",
    "plt.legend()"
   ],
   "metadata": {
    "collapsed": false,
    "pycharm": {
     "name": "#%%\n"
    }
   }
  },
  {
   "cell_type": "code",
   "execution_count": 336,
   "outputs": [
    {
     "data": {
      "text/plain": "<matplotlib.legend.Legend at 0x26161b74e08>"
     },
     "execution_count": 336,
     "metadata": {},
     "output_type": "execute_result"
    },
    {
     "data": {
      "text/plain": "<Figure size 432x288 with 1 Axes>",
      "image/png": "[encoded data removed]"
     },
     "metadata": {
      "needs_background": "light"
     },
     "output_type": "display_data"
    }
   ],
   "source": [
    "plt.plot(cart_df[\"sys_time\"], cart_df[\"x_val\"], label = \"cart x\")\n",
    "plt.plot(mc[\"time\"], mc[\"org_z\"], label  = \"mc_x\")\n",
    "plt.legend()"
   ],
   "metadata": {
    "collapsed": false,
    "pycharm": {
     "name": "#%%\n"
    }
   }
  },
  {
   "cell_type": "code",
   "execution_count": 338,
   "outputs": [
    {
     "data": {
      "text/plain": "<matplotlib.legend.Legend at 0x26167f42d08>"
     },
     "execution_count": 338,
     "metadata": {},
     "output_type": "execute_result"
    },
    {
     "data": {
      "text/plain": "<Figure size 432x288 with 1 Axes>",
      "image/png": "[encoded data removed]"
     },
     "metadata": {
      "needs_background": "light"
     },
     "output_type": "display_data"
    }
   ],
   "source": [
    "plt.plot(cart_df[\"sys_time\"], cart_df[\"x_val\"], label = \"cart x\")\n",
    "plt.plot(mc[\"time\"], mc[\"org_z\"]+0.15, label  = \"mc_x\")\n",
    "plt.legend()"
   ],
   "metadata": {
    "collapsed": false,
    "pycharm": {
     "name": "#%%\n"
    }
   }
  },
  {
   "cell_type": "code",
   "execution_count": 330,
   "outputs": [],
   "source": [
    "rw = []\n",
    "vr = []\n",
    "for i in range(len(cart_df[\"av_rl\"])):\n",
    "    _vy = cart_df[\"cal_vy\"][i]\n",
    "    _vx = cart_df[\"cal_vx\"][i]\n",
    "    rw.append(np.arctan2(_vy, _vx))\n",
    "    vr.append(np.linalg.norm((_vx, _vy)))\n",
    "cart_df[\"rw\"] = rw\n",
    "cart_df[\"vr\"] = vr"
   ],
   "metadata": {
    "collapsed": false,
    "pycharm": {
     "name": "#%%\n"
    }
   }
  },
  {
   "cell_type": "code",
   "execution_count": 331,
   "outputs": [
    {
     "data": {
      "text/plain": "0       0.0\n1       0.0\n2       0.0\n3       0.0\n4       0.0\n       ... \n3561    0.0\n3562    0.0\n3563    0.0\n3564    0.0\n3565    0.0\nName: rw, Length: 3566, dtype: float64"
     },
     "execution_count": 331,
     "metadata": {},
     "output_type": "execute_result"
    }
   ],
   "source": [
    "cart_df[\"rw\"]"
   ],
   "metadata": {
    "collapsed": false,
    "pycharm": {
     "name": "#%%\n"
    }
   }
  },
  {
   "cell_type": "code",
   "execution_count": 332,
   "outputs": [
    {
     "data": {
      "text/plain": "[<matplotlib.lines.Line2D at 0x26162f321c8>]"
     },
     "execution_count": 332,
     "metadata": {},
     "output_type": "execute_result"
    },
    {
     "data": {
      "text/plain": "<Figure size 432x288 with 1 Axes>",
      "image/png": "[encoded data removed]"
     },
     "metadata": {
      "needs_background": "light"
     },
     "output_type": "display_data"
    }
   ],
   "source": [
    "plt.plot(cart_df[\"rw\"])"
   ],
   "metadata": {
    "collapsed": false,
    "pycharm": {
     "name": "#%%\n"
    }
   }
  },
  {
   "cell_type": "code",
   "execution_count": 333,
   "outputs": [
    {
     "data": {
      "text/plain": "0       0.0\n1       0.0\n2       0.0\n3       0.0\n4       0.0\n       ... \n3561    0.0\n3562    0.0\n3563    0.0\n3564    0.0\n3565    0.0\nName: rw, Length: 3566, dtype: float64"
     },
     "execution_count": 333,
     "metadata": {},
     "output_type": "execute_result"
    }
   ],
   "source": [
    "cart_df[\"rw\"]"
   ],
   "metadata": {
    "collapsed": false,
    "pycharm": {
     "name": "#%%\n"
    }
   }
  }
 ],
 "metadata": {
  "kernelspec": {
   "display_name": "Python 3",
   "language": "python",
   "name": "python3"
  },
  "language_info": {
   "codemirror_mode": {
    "name": "ipython",
    "version": 2
   },
   "file_extension": ".py",
   "mimetype": "text/x-python",
   "name": "python",
   "nbconvert_exporter": "python",
   "pygments_lexer": "ipython2",
   "version": "2.7.6"
  }
 },
 "nbformat": 4,
 "nbformat_minor": 0
}