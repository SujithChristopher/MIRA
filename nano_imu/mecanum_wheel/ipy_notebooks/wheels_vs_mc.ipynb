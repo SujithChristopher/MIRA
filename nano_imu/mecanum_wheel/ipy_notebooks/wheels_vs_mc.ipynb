{
 "cells": [
  {
   "cell_type": "code",
   "execution_count": 3,
   "outputs": [],
   "source": [
    "import pandas\n",
    "import sys\n",
    "import os\n",
    "import matplotlib.pyplot as plt\n",
    "import numpy as np\n",
    "import pandas as pd"
   ],
   "metadata": {
    "collapsed": false,
    "pycharm": {
     "name": "#%%\n"
    }
   }
  },
  {
   "cell_type": "code",
   "execution_count": 6,
   "outputs": [],
   "source": [
    "cart_df = pd.read_csv(\"..//wheel_cart_teensy.csv\")"
   ],
   "metadata": {
    "collapsed": false,
    "pycharm": {
     "name": "#%%\n"
    }
   }
  },
  {
   "cell_type": "code",
   "execution_count": 7,
   "outputs": [
    {
     "data": {
      "text/plain": "                        sys_time  e_fr  e_fl  e_rr  e_rl\n0     2022-06-09 18:15:44.226167  -470 -1722   897 -6141\n1     2022-06-09 18:15:44.396577  -470 -1722   897 -6141\n2     2022-06-09 18:15:44.396577  -470 -1722   897 -6141\n3     2022-06-09 18:15:44.397077  -470 -1722   897 -6141\n4     2022-06-09 18:15:44.397077  -470 -1722   897 -6141\n...                          ...   ...   ...   ...   ...\n7873  2022-06-09 18:16:55.309908  8880 -7424 -6659  2448\n7874  2022-06-09 18:16:55.310408  8880 -7424 -6659  2448\n7875  2022-06-09 18:16:55.310408  8880 -7424 -6659  2448\n7876  2022-06-09 18:16:55.310908  8880 -7424 -6659  2448\n7877  2022-06-09 18:16:55.390911  8880 -7424 -6659  2448\n\n[7878 rows x 5 columns]",
      "text/html": "<div>\n<style scoped>\n    .dataframe tbody tr th:only-of-type {\n        vertical-align: middle;\n    }\n\n    .dataframe tbody tr th {\n        vertical-align: top;\n    }\n\n    .dataframe thead th {\n        text-align: right;\n    }\n</style>\n<table border=\"1\" class=\"dataframe\">\n  <thead>\n    <tr style=\"text-align: right;\">\n      <th></th>\n      <th>sys_time</th>\n      <th>e_fr</th>\n      <th>e_fl</th>\n      <th>e_rr</th>\n      <th>e_rl</th>\n    </tr>\n  </thead>\n  <tbody>\n    <tr>\n      <th>0</th>\n      <td>2022-06-09 18:15:44.226167</td>\n      <td>-470</td>\n      <td>-1722</td>\n      <td>897</td>\n      <td>-6141</td>\n    </tr>\n    <tr>\n      <th>1</th>\n      <td>2022-06-09 18:15:44.396577</td>\n      <td>-470</td>\n      <td>-1722</td>\n      <td>897</td>\n      <td>-6141</td>\n    </tr>\n    <tr>\n      <th>2</th>\n      <td>2022-06-09 18:15:44.396577</td>\n      <td>-470</td>\n      <td>-1722</td>\n      <td>897</td>\n      <td>-6141</td>\n    </tr>\n    <tr>\n      <th>3</th>\n      <td>2022-06-09 18:15:44.397077</td>\n      <td>-470</td>\n      <td>-1722</td>\n      <td>897</td>\n      <td>-6141</td>\n    </tr>\n    <tr>\n      <th>4</th>\n      <td>2022-06-09 18:15:44.397077</td>\n      <td>-470</td>\n      <td>-1722</td>\n      <td>897</td>\n      <td>-6141</td>\n    </tr>\n    <tr>\n      <th>...</th>\n      <td>...</td>\n      <td>...</td>\n      <td>...</td>\n      <td>...</td>\n      <td>...</td>\n    </tr>\n    <tr>\n      <th>7873</th>\n      <td>2022-06-09 18:16:55.309908</td>\n      <td>8880</td>\n      <td>-7424</td>\n      <td>-6659</td>\n      <td>2448</td>\n    </tr>\n    <tr>\n      <th>7874</th>\n      <td>2022-06-09 18:16:55.310408</td>\n      <td>8880</td>\n      <td>-7424</td>\n      <td>-6659</td>\n      <td>2448</td>\n    </tr>\n    <tr>\n      <th>7875</th>\n      <td>2022-06-09 18:16:55.310408</td>\n      <td>8880</td>\n      <td>-7424</td>\n      <td>-6659</td>\n      <td>2448</td>\n    </tr>\n    <tr>\n      <th>7876</th>\n      <td>2022-06-09 18:16:55.310908</td>\n      <td>8880</td>\n      <td>-7424</td>\n      <td>-6659</td>\n      <td>2448</td>\n    </tr>\n    <tr>\n      <th>7877</th>\n      <td>2022-06-09 18:16:55.390911</td>\n      <td>8880</td>\n      <td>-7424</td>\n      <td>-6659</td>\n      <td>2448</td>\n    </tr>\n  </tbody>\n</table>\n<p>7878 rows × 5 columns</p>\n</div>"
     },
     "execution_count": 7,
     "metadata": {},
     "output_type": "execute_result"
    }
   ],
   "source": [
    "cart_df"
   ],
   "metadata": {
    "collapsed": false,
    "pycharm": {
     "name": "#%%\n"
    }
   }
  },
  {
   "cell_type": "code",
   "execution_count": 12,
   "outputs": [],
   "source": [
    "mc = pd.read_csv(\"..//mocap_data.csv\", skiprows=6)"
   ],
   "metadata": {
    "collapsed": false,
    "pycharm": {
     "name": "#%%\n"
    }
   }
  },
  {
   "cell_type": "code",
   "execution_count": 14,
   "outputs": [],
   "source": [
    "st_time_mc = \"2022-06-09 06.15.20.583 PM\""
   ],
   "metadata": {
    "collapsed": false,
    "pycharm": {
     "name": "#%%\n"
    }
   }
  },
  {
   "cell_type": "code",
   "execution_count": 17,
   "outputs": [],
   "source": [
    "mc = mc.rename(columns={\"Time (Seconds)\":\"seconds\"})"
   ],
   "metadata": {
    "collapsed": false,
    "pycharm": {
     "name": "#%%\n"
    }
   }
  },
  {
   "cell_type": "code",
   "execution_count": 18,
   "outputs": [
    {
     "data": {
      "text/plain": "      Frame  seconds  center_x  center_y  center_z     org_x     org_y  \\\n0         0     0.00  0.003236  0.067702 -0.139123 -0.037691  0.065555   \n1         1     0.01  0.003246  0.067713 -0.139121 -0.037848  0.065173   \n2         2     0.02  0.003251  0.067696 -0.139129 -0.037697  0.065541   \n3         3     0.03  0.003240  0.067709 -0.139121 -0.037702  0.065550   \n4         4     0.04  0.003244  0.067717 -0.139121 -0.037855  0.065084   \n...     ...      ...       ...       ...       ...       ...       ...   \n9254   9254    92.54  0.039232  0.071813  0.051145 -0.001136  0.068630   \n9255   9255    92.55  0.039225  0.071808  0.051153 -0.001097  0.068626   \n9256   9256    92.56  0.039230  0.071796  0.051143 -0.001104  0.068610   \n9257   9257    92.57  0.039229  0.071813  0.051151 -0.001111  0.068638   \n9258   9258    92.58  0.039221  0.071813  0.051146 -0.001122  0.068638   \n\n         org_z    xvec_x    xvec_y    xvec_z    zvec_x    zvec_y    zvec_z  \n0    -0.203663  0.040555  0.064554 -0.203653 -0.039944  0.067606 -0.075845  \n1    -0.203597  0.040547  0.064546 -0.203648 -0.039949  0.067603 -0.075850  \n2    -0.203672  0.040666  0.064750 -0.203737 -0.039946  0.067590 -0.075851  \n3    -0.203678  0.040547  0.064553 -0.203648 -0.039948  0.067594 -0.075842  \n4    -0.203598  0.040558  0.064545 -0.203640 -0.039948  0.067595 -0.075849  \n...        ...       ...       ...       ...       ...       ...       ...  \n9254 -0.014420  0.077186  0.068300 -0.012831 -0.005280  0.070822  0.113676  \n9255 -0.014390  0.077171  0.068299 -0.012826 -0.005282  0.070847  0.113693  \n9256 -0.014394  0.077188  0.068304 -0.012824 -0.005281  0.070832  0.113681  \n9257 -0.014422  0.077169  0.068288 -0.012831 -0.005277  0.070810  0.113667  \n9258 -0.014413  0.077175  0.068302 -0.012825 -0.005279  0.070820  0.113678  \n\n[9259 rows x 14 columns]",
      "text/html": "<div>\n<style scoped>\n    .dataframe tbody tr th:only-of-type {\n        vertical-align: middle;\n    }\n\n    .dataframe tbody tr th {\n        vertical-align: top;\n    }\n\n    .dataframe thead th {\n        text-align: right;\n    }\n</style>\n<table border=\"1\" class=\"dataframe\">\n  <thead>\n    <tr style=\"text-align: right;\">\n      <th></th>\n      <th>Frame</th>\n      <th>seconds</th>\n      <th>center_x</th>\n      <th>center_y</th>\n      <th>center_z</th>\n      <th>org_x</th>\n      <th>org_y</th>\n      <th>org_z</th>\n      <th>xvec_x</th>\n      <th>xvec_y</th>\n      <th>xvec_z</th>\n      <th>zvec_x</th>\n      <th>zvec_y</th>\n      <th>zvec_z</th>\n    </tr>\n  </thead>\n  <tbody>\n    <tr>\n      <th>0</th>\n      <td>0</td>\n      <td>0.00</td>\n      <td>0.003236</td>\n      <td>0.067702</td>\n      <td>-0.139123</td>\n      <td>-0.037691</td>\n      <td>0.065555</td>\n      <td>-0.203663</td>\n      <td>0.040555</td>\n      <td>0.064554</td>\n      <td>-0.203653</td>\n      <td>-0.039944</td>\n      <td>0.067606</td>\n      <td>-0.075845</td>\n    </tr>\n    <tr>\n      <th>1</th>\n      <td>1</td>\n      <td>0.01</td>\n      <td>0.003246</td>\n      <td>0.067713</td>\n      <td>-0.139121</td>\n      <td>-0.037848</td>\n      <td>0.065173</td>\n      <td>-0.203597</td>\n      <td>0.040547</td>\n      <td>0.064546</td>\n      <td>-0.203648</td>\n      <td>-0.039949</td>\n      <td>0.067603</td>\n      <td>-0.075850</td>\n    </tr>\n    <tr>\n      <th>2</th>\n      <td>2</td>\n      <td>0.02</td>\n      <td>0.003251</td>\n      <td>0.067696</td>\n      <td>-0.139129</td>\n      <td>-0.037697</td>\n      <td>0.065541</td>\n      <td>-0.203672</td>\n      <td>0.040666</td>\n      <td>0.064750</td>\n      <td>-0.203737</td>\n      <td>-0.039946</td>\n      <td>0.067590</td>\n      <td>-0.075851</td>\n    </tr>\n    <tr>\n      <th>3</th>\n      <td>3</td>\n      <td>0.03</td>\n      <td>0.003240</td>\n      <td>0.067709</td>\n      <td>-0.139121</td>\n      <td>-0.037702</td>\n      <td>0.065550</td>\n      <td>-0.203678</td>\n      <td>0.040547</td>\n      <td>0.064553</td>\n      <td>-0.203648</td>\n      <td>-0.039948</td>\n      <td>0.067594</td>\n      <td>-0.075842</td>\n    </tr>\n    <tr>\n      <th>4</th>\n      <td>4</td>\n      <td>0.04</td>\n      <td>0.003244</td>\n      <td>0.067717</td>\n      <td>-0.139121</td>\n      <td>-0.037855</td>\n      <td>0.065084</td>\n      <td>-0.203598</td>\n      <td>0.040558</td>\n      <td>0.064545</td>\n      <td>-0.203640</td>\n      <td>-0.039948</td>\n      <td>0.067595</td>\n      <td>-0.075849</td>\n    </tr>\n    <tr>\n      <th>...</th>\n      <td>...</td>\n      <td>...</td>\n      <td>...</td>\n      <td>...</td>\n      <td>...</td>\n      <td>...</td>\n      <td>...</td>\n      <td>...</td>\n      <td>...</td>\n      <td>...</td>\n      <td>...</td>\n      <td>...</td>\n      <td>...</td>\n      <td>...</td>\n    </tr>\n    <tr>\n      <th>9254</th>\n      <td>9254</td>\n      <td>92.54</td>\n      <td>0.039232</td>\n      <td>0.071813</td>\n      <td>0.051145</td>\n      <td>-0.001136</td>\n      <td>0.068630</td>\n      <td>-0.014420</td>\n      <td>0.077186</td>\n      <td>0.068300</td>\n      <td>-0.012831</td>\n      <td>-0.005280</td>\n      <td>0.070822</td>\n      <td>0.113676</td>\n    </tr>\n    <tr>\n      <th>9255</th>\n      <td>9255</td>\n      <td>92.55</td>\n      <td>0.039225</td>\n      <td>0.071808</td>\n      <td>0.051153</td>\n      <td>-0.001097</td>\n      <td>0.068626</td>\n      <td>-0.014390</td>\n      <td>0.077171</td>\n      <td>0.068299</td>\n      <td>-0.012826</td>\n      <td>-0.005282</td>\n      <td>0.070847</td>\n      <td>0.113693</td>\n    </tr>\n    <tr>\n      <th>9256</th>\n      <td>9256</td>\n      <td>92.56</td>\n      <td>0.039230</td>\n      <td>0.071796</td>\n      <td>0.051143</td>\n      <td>-0.001104</td>\n      <td>0.068610</td>\n      <td>-0.014394</td>\n      <td>0.077188</td>\n      <td>0.068304</td>\n      <td>-0.012824</td>\n      <td>-0.005281</td>\n      <td>0.070832</td>\n      <td>0.113681</td>\n    </tr>\n    <tr>\n      <th>9257</th>\n      <td>9257</td>\n      <td>92.57</td>\n      <td>0.039229</td>\n      <td>0.071813</td>\n      <td>0.051151</td>\n      <td>-0.001111</td>\n      <td>0.068638</td>\n      <td>-0.014422</td>\n      <td>0.077169</td>\n      <td>0.068288</td>\n      <td>-0.012831</td>\n      <td>-0.005277</td>\n      <td>0.070810</td>\n      <td>0.113667</td>\n    </tr>\n    <tr>\n      <th>9258</th>\n      <td>9258</td>\n      <td>92.58</td>\n      <td>0.039221</td>\n      <td>0.071813</td>\n      <td>0.051146</td>\n      <td>-0.001122</td>\n      <td>0.068638</td>\n      <td>-0.014413</td>\n      <td>0.077175</td>\n      <td>0.068302</td>\n      <td>-0.012825</td>\n      <td>-0.005279</td>\n      <td>0.070820</td>\n      <td>0.113678</td>\n    </tr>\n  </tbody>\n</table>\n<p>9259 rows × 14 columns</p>\n</div>"
     },
     "execution_count": 18,
     "metadata": {},
     "output_type": "execute_result"
    }
   ],
   "source": [
    "mc"
   ],
   "metadata": {
    "collapsed": false,
    "pycharm": {
     "name": "#%%\n"
    }
   }
  },
  {
   "cell_type": "code",
   "execution_count": null,
   "outputs": [],
   "source": [],
   "metadata": {
    "collapsed": false,
    "pycharm": {
     "name": "#%%\n"
    }
   }
  }
 ],
 "metadata": {
  "kernelspec": {
   "display_name": "Python 3",
   "language": "python",
   "name": "python3"
  },
  "language_info": {
   "codemirror_mode": {
    "name": "ipython",
    "version": 2
   },
   "file_extension": ".py",
   "mimetype": "text/x-python",
   "name": "python",
   "nbconvert_exporter": "python",
   "pygments_lexer": "ipython2",
   "version": "2.7.6"
  }
 },
 "nbformat": 4,
 "nbformat_minor": 0
}