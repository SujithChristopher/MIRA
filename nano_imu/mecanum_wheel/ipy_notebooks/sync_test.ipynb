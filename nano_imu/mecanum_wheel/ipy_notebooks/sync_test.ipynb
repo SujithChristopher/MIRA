{
 "cells": [
  {
   "cell_type": "code",
   "execution_count": 1,
   "metadata": {
    "pycharm": {
     "name": "#%%\n"
    }
   },
   "outputs": [],
   "source": [
    "import matplotlib.pyplot as plt\n",
    "import numpy as np\n",
    "import pandas as pd\n",
    "from datetime import datetime, timedelta\n",
    "from pd_support import read_df_csv, add_datetime_col\n",
    "from scipy.interpolate import interp1d"
   ]
  },
  {
   "cell_type": "code",
   "execution_count": 2,
   "metadata": {
    "pycharm": {
     "name": "#%%\n"
    }
   },
   "outputs": [
    {
     "data": {
      "text/plain": "                        sys_time  e_fr  e_fl  e_rr  e_rl  \\\n0     2022-06-22 12:22:54.161451 -2791  3329 -7936  7161   \n1     2022-06-22 12:22:54.161451 -2791  3329 -7936  7161   \n2     2022-06-22 12:22:54.161947 -2791  3329 -7936  7161   \n3     2022-06-22 12:22:54.162451 -2791  3329 -7936  7161   \n4     2022-06-22 12:22:54.162950 -2791  3329 -7936  7161   \n...                          ...   ...   ...   ...   ...   \n3165  2022-06-22 12:23:24.715272 -3890  4209 -7877  6763   \n3166  2022-06-22 12:23:24.715774 -3890  4209 -7877  6763   \n3167  2022-06-22 12:23:24.716272 -3890  4209 -7877  6763   \n3168  2022-06-22 12:23:24.716771 -3890  4209 -7877  6763   \n3169  2022-06-22 12:23:24.783641 -3890  4209 -7877  6763   \n\n                                rtc    mils  sync  \n0     2022-06-22 05.52.51.000000 PM  460040     0  \n1     2022-06-22 05.52.51.000000 PM  460050     0  \n2     2022-06-22 05.52.51.000000 PM  460060     0  \n3     2022-06-22 05.52.51.000000 PM  460070     0  \n4     2022-06-22 05.52.51.000000 PM  460080     0  \n...                             ...     ...   ...  \n3165  2022-06-22 05.53.23.000000 PM  491712     0  \n3166  2022-06-22 05.53.23.000000 PM  491722     0  \n3167  2022-06-22 05.53.23.000000 PM  491732     0  \n3168  2022-06-22 05.53.23.000000 PM  491742     0  \n3169  2022-06-22 05.53.23.000000 PM  491752     0  \n\n[3170 rows x 8 columns]",
      "text/html": "<div>\n<style scoped>\n    .dataframe tbody tr th:only-of-type {\n        vertical-align: middle;\n    }\n\n    .dataframe tbody tr th {\n        vertical-align: top;\n    }\n\n    .dataframe thead th {\n        text-align: right;\n    }\n</style>\n<table border=\"1\" class=\"dataframe\">\n  <thead>\n    <tr style=\"text-align: right;\">\n      <th></th>\n      <th>sys_time</th>\n      <th>e_fr</th>\n      <th>e_fl</th>\n      <th>e_rr</th>\n      <th>e_rl</th>\n      <th>rtc</th>\n      <th>mils</th>\n      <th>sync</th>\n    </tr>\n  </thead>\n  <tbody>\n    <tr>\n      <th>0</th>\n      <td>2022-06-22 12:22:54.161451</td>\n      <td>-2791</td>\n      <td>3329</td>\n      <td>-7936</td>\n      <td>7161</td>\n      <td>2022-06-22 05.52.51.000000 PM</td>\n      <td>460040</td>\n      <td>0</td>\n    </tr>\n    <tr>\n      <th>1</th>\n      <td>2022-06-22 12:22:54.161451</td>\n      <td>-2791</td>\n      <td>3329</td>\n      <td>-7936</td>\n      <td>7161</td>\n      <td>2022-06-22 05.52.51.000000 PM</td>\n      <td>460050</td>\n      <td>0</td>\n    </tr>\n    <tr>\n      <th>2</th>\n      <td>2022-06-22 12:22:54.161947</td>\n      <td>-2791</td>\n      <td>3329</td>\n      <td>-7936</td>\n      <td>7161</td>\n      <td>2022-06-22 05.52.51.000000 PM</td>\n      <td>460060</td>\n      <td>0</td>\n    </tr>\n    <tr>\n      <th>3</th>\n      <td>2022-06-22 12:22:54.162451</td>\n      <td>-2791</td>\n      <td>3329</td>\n      <td>-7936</td>\n      <td>7161</td>\n      <td>2022-06-22 05.52.51.000000 PM</td>\n      <td>460070</td>\n      <td>0</td>\n    </tr>\n    <tr>\n      <th>4</th>\n      <td>2022-06-22 12:22:54.162950</td>\n      <td>-2791</td>\n      <td>3329</td>\n      <td>-7936</td>\n      <td>7161</td>\n      <td>2022-06-22 05.52.51.000000 PM</td>\n      <td>460080</td>\n      <td>0</td>\n    </tr>\n    <tr>\n      <th>...</th>\n      <td>...</td>\n      <td>...</td>\n      <td>...</td>\n      <td>...</td>\n      <td>...</td>\n      <td>...</td>\n      <td>...</td>\n      <td>...</td>\n    </tr>\n    <tr>\n      <th>3165</th>\n      <td>2022-06-22 12:23:24.715272</td>\n      <td>-3890</td>\n      <td>4209</td>\n      <td>-7877</td>\n      <td>6763</td>\n      <td>2022-06-22 05.53.23.000000 PM</td>\n      <td>491712</td>\n      <td>0</td>\n    </tr>\n    <tr>\n      <th>3166</th>\n      <td>2022-06-22 12:23:24.715774</td>\n      <td>-3890</td>\n      <td>4209</td>\n      <td>-7877</td>\n      <td>6763</td>\n      <td>2022-06-22 05.53.23.000000 PM</td>\n      <td>491722</td>\n      <td>0</td>\n    </tr>\n    <tr>\n      <th>3167</th>\n      <td>2022-06-22 12:23:24.716272</td>\n      <td>-3890</td>\n      <td>4209</td>\n      <td>-7877</td>\n      <td>6763</td>\n      <td>2022-06-22 05.53.23.000000 PM</td>\n      <td>491732</td>\n      <td>0</td>\n    </tr>\n    <tr>\n      <th>3168</th>\n      <td>2022-06-22 12:23:24.716771</td>\n      <td>-3890</td>\n      <td>4209</td>\n      <td>-7877</td>\n      <td>6763</td>\n      <td>2022-06-22 05.53.23.000000 PM</td>\n      <td>491742</td>\n      <td>0</td>\n    </tr>\n    <tr>\n      <th>3169</th>\n      <td>2022-06-22 12:23:24.783641</td>\n      <td>-3890</td>\n      <td>4209</td>\n      <td>-7877</td>\n      <td>6763</td>\n      <td>2022-06-22 05.53.23.000000 PM</td>\n      <td>491752</td>\n      <td>0</td>\n    </tr>\n  </tbody>\n</table>\n<p>3170 rows × 8 columns</p>\n</div>"
     },
     "execution_count": 2,
     "metadata": {},
     "output_type": "execute_result"
    }
   ],
   "source": [
    "cart_df = pd.read_csv(\"..//data_csv//sync_test.csv\")\n",
    "cart_df"
   ]
  },
  {
   "cell_type": "code",
   "execution_count": 3,
   "metadata": {
    "pycharm": {
     "name": "#%%\n"
    }
   },
   "outputs": [
    {
     "name": "stdout",
     "output_type": "stream",
     "text": [
      "431\n"
     ]
    },
    {
     "data": {
      "text/plain": "sys_time       2022-06-22 12:22:57.381846\ne_fr                                -2791\ne_fl                                 3329\ne_rr                                -7936\ne_rl                                 7161\nrtc         2022-06-22 05.52.56.000000 PM\nmils                               464353\nsync                                    1\nName: 431, dtype: object"
     },
     "execution_count": 3,
     "metadata": {},
     "output_type": "execute_result"
    }
   ],
   "source": [
    "for inx, i in enumerate(cart_df[\"sync\"]):\n",
    "    if i == 1:\n",
    "        print(inx)\n",
    "        break\n",
    "cart_df.iloc[inx]"
   ]
  },
  {
   "cell_type": "code",
   "execution_count": 4,
   "metadata": {
    "pycharm": {
     "name": "#%%\n"
    }
   },
   "outputs": [
    {
     "data": {
      "text/plain": "datetime.datetime(2022, 6, 22, 12, 22, 57, 287000)"
     },
     "execution_count": 4,
     "metadata": {},
     "output_type": "execute_result"
    }
   ],
   "source": [
    "mc, mc_dt = read_df_csv(\"..//data_csv//cart_random_sync_mc.csv\")\n",
    "mc_dt"
   ]
  },
  {
   "cell_type": "code",
   "execution_count": 5,
   "metadata": {
    "pycharm": {
     "name": "#%%\n"
    }
   },
   "outputs": [
    {
     "data": {
      "text/plain": "      frame  seconds     org_x     org_y     org_z    xdir_x    xdir_y  \\\n0         0     0.00  0.186409  0.066477  0.243783  0.227569  0.065008   \n1         1     0.01  0.186456  0.066552  0.243839  0.227555  0.065018   \n2         2     0.02  0.186459  0.066578  0.243845  0.227562  0.065023   \n3         3     0.03  0.186411  0.066453  0.243761  0.227565  0.065003   \n4         4     0.04  0.186466  0.066558  0.243862  0.227568  0.065005   \n...     ...      ...       ...       ...       ...       ...       ...   \n2483   2483    24.83  0.143248  0.067062  0.242522  0.185217  0.065387   \n2484   2484    24.84  0.143246  0.067066  0.242524  0.185204  0.065339   \n2485   2485    24.85  0.143245  0.067056  0.242524  0.185221  0.065387   \n2486   2486    24.86  0.143252  0.067062  0.242526  0.185217  0.065378   \n2487   2487    24.87  0.143241  0.067051  0.242525  0.185214  0.065380   \n\n        xdir_z    zdir_x    zdir_y    zdir_z                    time  \n0     0.251833  0.169555  0.066373  0.345257 2022-06-22 12:22:57.287  \n1     0.251839  0.169555  0.066388  0.345246 2022-06-22 12:22:57.297  \n2     0.251848  0.169556  0.066387  0.345249 2022-06-22 12:22:57.307  \n3     0.251846  0.169567  0.066400  0.345258 2022-06-22 12:22:57.317  \n4     0.251848  0.169557  0.066386  0.345249 2022-06-22 12:22:57.327  \n...        ...       ...       ...       ...                     ...  \n2483  0.241843  0.147989  0.066924  0.345371 2022-06-22 12:23:22.117  \n2484  0.241992  0.147995  0.066919  0.345369 2022-06-22 12:23:22.127  \n2485  0.241835  0.147997  0.066912  0.345366 2022-06-22 12:23:22.137  \n2486  0.241833  0.147995  0.066914  0.345370 2022-06-22 12:23:22.147  \n2487  0.241844  0.147995  0.066917  0.345371 2022-06-22 12:23:22.157  \n\n[2488 rows x 12 columns]",
      "text/html": "<div>\n<style scoped>\n    .dataframe tbody tr th:only-of-type {\n        vertical-align: middle;\n    }\n\n    .dataframe tbody tr th {\n        vertical-align: top;\n    }\n\n    .dataframe thead th {\n        text-align: right;\n    }\n</style>\n<table border=\"1\" class=\"dataframe\">\n  <thead>\n    <tr style=\"text-align: right;\">\n      <th></th>\n      <th>frame</th>\n      <th>seconds</th>\n      <th>org_x</th>\n      <th>org_y</th>\n      <th>org_z</th>\n      <th>xdir_x</th>\n      <th>xdir_y</th>\n      <th>xdir_z</th>\n      <th>zdir_x</th>\n      <th>zdir_y</th>\n      <th>zdir_z</th>\n      <th>time</th>\n    </tr>\n  </thead>\n  <tbody>\n    <tr>\n      <th>0</th>\n      <td>0</td>\n      <td>0.00</td>\n      <td>0.186409</td>\n      <td>0.066477</td>\n      <td>0.243783</td>\n      <td>0.227569</td>\n      <td>0.065008</td>\n      <td>0.251833</td>\n      <td>0.169555</td>\n      <td>0.066373</td>\n      <td>0.345257</td>\n      <td>2022-06-22 12:22:57.287</td>\n    </tr>\n    <tr>\n      <th>1</th>\n      <td>1</td>\n      <td>0.01</td>\n      <td>0.186456</td>\n      <td>0.066552</td>\n      <td>0.243839</td>\n      <td>0.227555</td>\n      <td>0.065018</td>\n      <td>0.251839</td>\n      <td>0.169555</td>\n      <td>0.066388</td>\n      <td>0.345246</td>\n      <td>2022-06-22 12:22:57.297</td>\n    </tr>\n    <tr>\n      <th>2</th>\n      <td>2</td>\n      <td>0.02</td>\n      <td>0.186459</td>\n      <td>0.066578</td>\n      <td>0.243845</td>\n      <td>0.227562</td>\n      <td>0.065023</td>\n      <td>0.251848</td>\n      <td>0.169556</td>\n      <td>0.066387</td>\n      <td>0.345249</td>\n      <td>2022-06-22 12:22:57.307</td>\n    </tr>\n    <tr>\n      <th>3</th>\n      <td>3</td>\n      <td>0.03</td>\n      <td>0.186411</td>\n      <td>0.066453</td>\n      <td>0.243761</td>\n      <td>0.227565</td>\n      <td>0.065003</td>\n      <td>0.251846</td>\n      <td>0.169567</td>\n      <td>0.066400</td>\n      <td>0.345258</td>\n      <td>2022-06-22 12:22:57.317</td>\n    </tr>\n    <tr>\n      <th>4</th>\n      <td>4</td>\n      <td>0.04</td>\n      <td>0.186466</td>\n      <td>0.066558</td>\n      <td>0.243862</td>\n      <td>0.227568</td>\n      <td>0.065005</td>\n      <td>0.251848</td>\n      <td>0.169557</td>\n      <td>0.066386</td>\n      <td>0.345249</td>\n      <td>2022-06-22 12:22:57.327</td>\n    </tr>\n    <tr>\n      <th>...</th>\n      <td>...</td>\n      <td>...</td>\n      <td>...</td>\n      <td>...</td>\n      <td>...</td>\n      <td>...</td>\n      <td>...</td>\n      <td>...</td>\n      <td>...</td>\n      <td>...</td>\n      <td>...</td>\n      <td>...</td>\n    </tr>\n    <tr>\n      <th>2483</th>\n      <td>2483</td>\n      <td>24.83</td>\n      <td>0.143248</td>\n      <td>0.067062</td>\n      <td>0.242522</td>\n      <td>0.185217</td>\n      <td>0.065387</td>\n      <td>0.241843</td>\n      <td>0.147989</td>\n      <td>0.066924</td>\n      <td>0.345371</td>\n      <td>2022-06-22 12:23:22.117</td>\n    </tr>\n    <tr>\n      <th>2484</th>\n      <td>2484</td>\n      <td>24.84</td>\n      <td>0.143246</td>\n      <td>0.067066</td>\n      <td>0.242524</td>\n      <td>0.185204</td>\n      <td>0.065339</td>\n      <td>0.241992</td>\n      <td>0.147995</td>\n      <td>0.066919</td>\n      <td>0.345369</td>\n      <td>2022-06-22 12:23:22.127</td>\n    </tr>\n    <tr>\n      <th>2485</th>\n      <td>2485</td>\n      <td>24.85</td>\n      <td>0.143245</td>\n      <td>0.067056</td>\n      <td>0.242524</td>\n      <td>0.185221</td>\n      <td>0.065387</td>\n      <td>0.241835</td>\n      <td>0.147997</td>\n      <td>0.066912</td>\n      <td>0.345366</td>\n      <td>2022-06-22 12:23:22.137</td>\n    </tr>\n    <tr>\n      <th>2486</th>\n      <td>2486</td>\n      <td>24.86</td>\n      <td>0.143252</td>\n      <td>0.067062</td>\n      <td>0.242526</td>\n      <td>0.185217</td>\n      <td>0.065378</td>\n      <td>0.241833</td>\n      <td>0.147995</td>\n      <td>0.066914</td>\n      <td>0.345370</td>\n      <td>2022-06-22 12:23:22.147</td>\n    </tr>\n    <tr>\n      <th>2487</th>\n      <td>2487</td>\n      <td>24.87</td>\n      <td>0.143241</td>\n      <td>0.067051</td>\n      <td>0.242525</td>\n      <td>0.185214</td>\n      <td>0.065380</td>\n      <td>0.241844</td>\n      <td>0.147995</td>\n      <td>0.066917</td>\n      <td>0.345371</td>\n      <td>2022-06-22 12:23:22.157</td>\n    </tr>\n  </tbody>\n</table>\n<p>2488 rows × 12 columns</p>\n</div>"
     },
     "execution_count": 5,
     "metadata": {},
     "output_type": "execute_result"
    }
   ],
   "source": [
    "mc = add_datetime_col(mc, mc_dt, \"seconds\")\n",
    "mc"
   ]
  },
  {
   "cell_type": "code",
   "execution_count": 6,
   "metadata": {
    "pycharm": {
     "name": "#%%\n"
    }
   },
   "outputs": [],
   "source": [
    "def add_datetime_diff(df, _time, _sync, _diff_name, truncate = False):\n",
    "\n",
    "    \"\"\"\n",
    "    df:         dataframe\n",
    "    _time:      the time you want to start your column with\n",
    "    _sync:      Name of the column with external sync which turns 1 when your recording \n",
    "                your data and 0 when your not\n",
    "    _diff_name: external time/ other time which you want to find the difference \n",
    "                and add them to the _time column to sync clock\n",
    "    truncate:   truncate will also cut the values after your _sync goes to 0\n",
    "    \"\"\"\n",
    "    _inx = 0\n",
    "    for inx, i in enumerate(df[_sync]):\n",
    "        if i == 1:\n",
    "            _inx = inx\n",
    "            break\n",
    "\n",
    "    df = df.iloc[_inx:]     # dropping unnecessary rows\n",
    "\n",
    "    _diff = list(df[_diff_name].diff())\n",
    "    _sum = 0\n",
    "    _t = []\n",
    "    for i in _diff:\n",
    "        if np.isnan(i):\n",
    "            i = 0\n",
    "        _sum = _sum + i\n",
    "        _t.append(_time + timedelta(0,float(_sum/1000)))\n",
    "\n",
    "    df[\"time\"] = _t\n",
    "\n",
    "    if truncate:\n",
    "        m1 = 0\n",
    "        _count = 0\n",
    "        for count, j in enumerate(df[_sync]):\n",
    "            print(count)\n",
    "            print(j)\n",
    "            m1+=1\n",
    "            if j == 0:\n",
    "                _count = count\n",
    "                print(_count)\n",
    "            break\n",
    "    \n",
    "    \n",
    "        df1 = df.iloc[:_count]     # dropping unnecessary rows\n",
    "        print(df1)\n",
    "    \n",
    "    return df"
   ]
  },
  {
   "cell_type": "code",
   "execution_count": 7,
   "metadata": {
    "pycharm": {
     "name": "#%%\n"
    }
   },
   "outputs": [
    {
     "name": "stdout",
     "output_type": "stream",
     "text": [
      "0\n",
      "1\n",
      "Empty DataFrame\n",
      "Columns: [sys_time, e_fr, e_fl, e_rr, e_rl, rtc, mils, sync, time]\n",
      "Index: []\n"
     ]
    },
    {
     "name": "stderr",
     "output_type": "stream",
     "text": [
      "C:\\Users\\CMC\\anaconda3\\envs\\py37t2\\lib\\site-packages\\ipykernel_launcher.py:29: SettingWithCopyWarning: \n",
      "A value is trying to be set on a copy of a slice from a DataFrame.\n",
      "Try using .loc[row_indexer,col_indexer] = value instead\n",
      "\n",
      "See the caveats in the documentation: https://pandas.pydata.org/pandas-docs/stable/user_guide/indexing.html#returning-a-view-versus-a-copy\n"
     ]
    },
    {
     "data": {
      "text/plain": "                        sys_time  e_fr  e_fl  e_rr  e_rl  \\\n431   2022-06-22 12:22:57.381846 -2791  3329 -7936  7161   \n432   2022-06-22 12:22:57.382862 -2791  3329 -7936  7161   \n433   2022-06-22 12:22:57.383344 -2791  3329 -7936  7161   \n434   2022-06-22 12:22:57.383846 -2791  3329 -7936  7161   \n435   2022-06-22 12:22:57.384344 -2791  3329 -7936  7161   \n...                          ...   ...   ...   ...   ...   \n3165  2022-06-22 12:23:24.715272 -3890  4209 -7877  6763   \n3166  2022-06-22 12:23:24.715774 -3890  4209 -7877  6763   \n3167  2022-06-22 12:23:24.716272 -3890  4209 -7877  6763   \n3168  2022-06-22 12:23:24.716771 -3890  4209 -7877  6763   \n3169  2022-06-22 12:23:24.783641 -3890  4209 -7877  6763   \n\n                                rtc    mils  sync                    time  \n431   2022-06-22 05.52.56.000000 PM  464353     1 2022-06-22 12:22:57.287  \n432   2022-06-22 05.52.56.000000 PM  464363     1 2022-06-22 12:22:57.297  \n433   2022-06-22 05.52.56.000000 PM  464373     1 2022-06-22 12:22:57.307  \n434   2022-06-22 05.52.56.000000 PM  464383     1 2022-06-22 12:22:57.317  \n435   2022-06-22 05.52.56.000000 PM  464393     1 2022-06-22 12:22:57.327  \n...                             ...     ...   ...                     ...  \n3165  2022-06-22 05.53.23.000000 PM  491712     0 2022-06-22 12:23:24.646  \n3166  2022-06-22 05.53.23.000000 PM  491722     0 2022-06-22 12:23:24.656  \n3167  2022-06-22 05.53.23.000000 PM  491732     0 2022-06-22 12:23:24.666  \n3168  2022-06-22 05.53.23.000000 PM  491742     0 2022-06-22 12:23:24.676  \n3169  2022-06-22 05.53.23.000000 PM  491752     0 2022-06-22 12:23:24.686  \n\n[2739 rows x 9 columns]",
      "text/html": "<div>\n<style scoped>\n    .dataframe tbody tr th:only-of-type {\n        vertical-align: middle;\n    }\n\n    .dataframe tbody tr th {\n        vertical-align: top;\n    }\n\n    .dataframe thead th {\n        text-align: right;\n    }\n</style>\n<table border=\"1\" class=\"dataframe\">\n  <thead>\n    <tr style=\"text-align: right;\">\n      <th></th>\n      <th>sys_time</th>\n      <th>e_fr</th>\n      <th>e_fl</th>\n      <th>e_rr</th>\n      <th>e_rl</th>\n      <th>rtc</th>\n      <th>mils</th>\n      <th>sync</th>\n      <th>time</th>\n    </tr>\n  </thead>\n  <tbody>\n    <tr>\n      <th>431</th>\n      <td>2022-06-22 12:22:57.381846</td>\n      <td>-2791</td>\n      <td>3329</td>\n      <td>-7936</td>\n      <td>7161</td>\n      <td>2022-06-22 05.52.56.000000 PM</td>\n      <td>464353</td>\n      <td>1</td>\n      <td>2022-06-22 12:22:57.287</td>\n    </tr>\n    <tr>\n      <th>432</th>\n      <td>2022-06-22 12:22:57.382862</td>\n      <td>-2791</td>\n      <td>3329</td>\n      <td>-7936</td>\n      <td>7161</td>\n      <td>2022-06-22 05.52.56.000000 PM</td>\n      <td>464363</td>\n      <td>1</td>\n      <td>2022-06-22 12:22:57.297</td>\n    </tr>\n    <tr>\n      <th>433</th>\n      <td>2022-06-22 12:22:57.383344</td>\n      <td>-2791</td>\n      <td>3329</td>\n      <td>-7936</td>\n      <td>7161</td>\n      <td>2022-06-22 05.52.56.000000 PM</td>\n      <td>464373</td>\n      <td>1</td>\n      <td>2022-06-22 12:22:57.307</td>\n    </tr>\n    <tr>\n      <th>434</th>\n      <td>2022-06-22 12:22:57.383846</td>\n      <td>-2791</td>\n      <td>3329</td>\n      <td>-7936</td>\n      <td>7161</td>\n      <td>2022-06-22 05.52.56.000000 PM</td>\n      <td>464383</td>\n      <td>1</td>\n      <td>2022-06-22 12:22:57.317</td>\n    </tr>\n    <tr>\n      <th>435</th>\n      <td>2022-06-22 12:22:57.384344</td>\n      <td>-2791</td>\n      <td>3329</td>\n      <td>-7936</td>\n      <td>7161</td>\n      <td>2022-06-22 05.52.56.000000 PM</td>\n      <td>464393</td>\n      <td>1</td>\n      <td>2022-06-22 12:22:57.327</td>\n    </tr>\n    <tr>\n      <th>...</th>\n      <td>...</td>\n      <td>...</td>\n      <td>...</td>\n      <td>...</td>\n      <td>...</td>\n      <td>...</td>\n      <td>...</td>\n      <td>...</td>\n      <td>...</td>\n    </tr>\n    <tr>\n      <th>3165</th>\n      <td>2022-06-22 12:23:24.715272</td>\n      <td>-3890</td>\n      <td>4209</td>\n      <td>-7877</td>\n      <td>6763</td>\n      <td>2022-06-22 05.53.23.000000 PM</td>\n      <td>491712</td>\n      <td>0</td>\n      <td>2022-06-22 12:23:24.646</td>\n    </tr>\n    <tr>\n      <th>3166</th>\n      <td>2022-06-22 12:23:24.715774</td>\n      <td>-3890</td>\n      <td>4209</td>\n      <td>-7877</td>\n      <td>6763</td>\n      <td>2022-06-22 05.53.23.000000 PM</td>\n      <td>491722</td>\n      <td>0</td>\n      <td>2022-06-22 12:23:24.656</td>\n    </tr>\n    <tr>\n      <th>3167</th>\n      <td>2022-06-22 12:23:24.716272</td>\n      <td>-3890</td>\n      <td>4209</td>\n      <td>-7877</td>\n      <td>6763</td>\n      <td>2022-06-22 05.53.23.000000 PM</td>\n      <td>491732</td>\n      <td>0</td>\n      <td>2022-06-22 12:23:24.666</td>\n    </tr>\n    <tr>\n      <th>3168</th>\n      <td>2022-06-22 12:23:24.716771</td>\n      <td>-3890</td>\n      <td>4209</td>\n      <td>-7877</td>\n      <td>6763</td>\n      <td>2022-06-22 05.53.23.000000 PM</td>\n      <td>491742</td>\n      <td>0</td>\n      <td>2022-06-22 12:23:24.676</td>\n    </tr>\n    <tr>\n      <th>3169</th>\n      <td>2022-06-22 12:23:24.783641</td>\n      <td>-3890</td>\n      <td>4209</td>\n      <td>-7877</td>\n      <td>6763</td>\n      <td>2022-06-22 05.53.23.000000 PM</td>\n      <td>491752</td>\n      <td>0</td>\n      <td>2022-06-22 12:23:24.686</td>\n    </tr>\n  </tbody>\n</table>\n<p>2739 rows × 9 columns</p>\n</div>"
     },
     "execution_count": 7,
     "metadata": {},
     "output_type": "execute_result"
    }
   ],
   "source": [
    "cart_df = add_datetime_diff(cart_df, mc_dt,\"sync\", \"mils\", True)\n",
    "# cart_df = add_datetime_diff(cart_df, mc_dt,\"sync\", \"mils\", False)\n",
    "cart_df"
   ]
  },
  {
   "cell_type": "code",
   "execution_count": 7,
   "metadata": {
    "pycharm": {
     "name": "#%%\n"
    }
   },
   "outputs": [],
   "source": []
  }
 ],
 "metadata": {
  "kernelspec": {
   "display_name": "Python 3.7.11 ('py37t2')",
   "language": "python",
   "name": "python3"
  },
  "language_info": {
   "codemirror_mode": {
    "name": "ipython",
    "version": 3
   },
   "file_extension": ".py",
   "mimetype": "text/x-python",
   "name": "python",
   "nbconvert_exporter": "python",
   "pygments_lexer": "ipython3",
   "version": "3.7.11"
  },
  "orig_nbformat": 4,
  "vscode": {
   "interpreter": {
    "hash": "07cf8e4ec2f40bff32486e8c8f167870d55b0d1fe8557518ec615be206ad7cc6"
   }
  }
 },
 "nbformat": 4,
 "nbformat_minor": 2
}